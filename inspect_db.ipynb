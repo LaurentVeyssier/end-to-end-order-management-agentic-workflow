{
 "cells": [
  {
   "cell_type": "code",
   "execution_count": 3,
   "metadata": {},
   "outputs": [],
   "source": [
    "%load_ext autoreload\n",
    "%autoreload 2\n",
    "\n",
    "from utils import (\n",
    "    print_rich,\n",
    "    create_transaction,\n",
    "    get_all_inventory,\n",
    "    get_stock_level,\n",
    "    get_supplier_delivery_date,\n",
    "    get_cash_balance,\n",
    "    generate_financial_report,\n",
    "    search_quote_history,\n",
    ")\n",
    "\n",
    "import json, re\n",
    "import pandas as pd\n",
    "from datetime import datetime\n",
    "from typing import Dict,List"
   ]
  },
  {
   "cell_type": "code",
   "execution_count": 4,
   "metadata": {},
   "outputs": [
    {
     "name": "stdout",
     "output_type": "stream",
     "text": [
      "['inventory', 'quote_requests', 'quotes', 'transactions']\n"
     ]
    }
   ],
   "source": [
    "from sqlalchemy import inspect\n",
    "from sqlalchemy import create_engine, Engine\n",
    "from helpers import db_engine, state\n",
    "\n",
    "inspector = inspect(db_engine)\n",
    "print(inspector.get_table_names())\n"
   ]
  },
  {
   "cell_type": "code",
   "execution_count": 14,
   "metadata": {},
   "outputs": [
    {
     "name": "stdout",
     "output_type": "stream",
     "text": [
      "inventory\n"
     ]
    },
    {
     "data": {
      "text/html": [
       "<div>\n",
       "<style scoped>\n",
       "    .dataframe tbody tr th:only-of-type {\n",
       "        vertical-align: middle;\n",
       "    }\n",
       "\n",
       "    .dataframe tbody tr th {\n",
       "        vertical-align: top;\n",
       "    }\n",
       "\n",
       "    .dataframe thead th {\n",
       "        text-align: right;\n",
       "    }\n",
       "</style>\n",
       "<table border=\"1\" class=\"dataframe\">\n",
       "  <thead>\n",
       "    <tr style=\"text-align: right;\">\n",
       "      <th></th>\n",
       "      <th>item_name</th>\n",
       "      <th>category</th>\n",
       "      <th>unit_price</th>\n",
       "      <th>current_stock</th>\n",
       "      <th>min_stock_level</th>\n",
       "    </tr>\n",
       "  </thead>\n",
       "  <tbody>\n",
       "    <tr>\n",
       "      <th>0</th>\n",
       "      <td>Paper plates</td>\n",
       "      <td>product</td>\n",
       "      <td>0.10</td>\n",
       "      <td>748</td>\n",
       "      <td>144</td>\n",
       "    </tr>\n",
       "    <tr>\n",
       "      <th>1</th>\n",
       "      <td>100 lb cover stock</td>\n",
       "      <td>specialty</td>\n",
       "      <td>0.50</td>\n",
       "      <td>636</td>\n",
       "      <td>85</td>\n",
       "    </tr>\n",
       "    <tr>\n",
       "      <th>2</th>\n",
       "      <td>Glossy paper</td>\n",
       "      <td>paper</td>\n",
       "      <td>0.20</td>\n",
       "      <td>587</td>\n",
       "      <td>147</td>\n",
       "    </tr>\n",
       "    <tr>\n",
       "      <th>3</th>\n",
       "      <td>Rolls of banner paper (36-inch width)</td>\n",
       "      <td>large_format</td>\n",
       "      <td>2.50</td>\n",
       "      <td>546</td>\n",
       "      <td>65</td>\n",
       "    </tr>\n",
       "    <tr>\n",
       "      <th>4</th>\n",
       "      <td>Photo paper</td>\n",
       "      <td>paper</td>\n",
       "      <td>0.25</td>\n",
       "      <td>423</td>\n",
       "      <td>58</td>\n",
       "    </tr>\n",
       "    <tr>\n",
       "      <th>5</th>\n",
       "      <td>Cardstock</td>\n",
       "      <td>paper</td>\n",
       "      <td>0.15</td>\n",
       "      <td>595</td>\n",
       "      <td>148</td>\n",
       "    </tr>\n",
       "    <tr>\n",
       "      <th>6</th>\n",
       "      <td>Colored paper</td>\n",
       "      <td>paper</td>\n",
       "      <td>0.10</td>\n",
       "      <td>788</td>\n",
       "      <td>143</td>\n",
       "    </tr>\n",
       "    <tr>\n",
       "      <th>7</th>\n",
       "      <td>80 lb text paper</td>\n",
       "      <td>specialty</td>\n",
       "      <td>0.40</td>\n",
       "      <td>249</td>\n",
       "      <td>91</td>\n",
       "    </tr>\n",
       "    <tr>\n",
       "      <th>8</th>\n",
       "      <td>Large poster paper (24x36 inches)</td>\n",
       "      <td>large_format</td>\n",
       "      <td>1.00</td>\n",
       "      <td>699</td>\n",
       "      <td>89</td>\n",
       "    </tr>\n",
       "    <tr>\n",
       "      <th>9</th>\n",
       "      <td>Table covers</td>\n",
       "      <td>product</td>\n",
       "      <td>1.50</td>\n",
       "      <td>736</td>\n",
       "      <td>77</td>\n",
       "    </tr>\n",
       "    <tr>\n",
       "      <th>10</th>\n",
       "      <td>Butcher paper</td>\n",
       "      <td>paper</td>\n",
       "      <td>0.10</td>\n",
       "      <td>365</td>\n",
       "      <td>80</td>\n",
       "    </tr>\n",
       "    <tr>\n",
       "      <th>11</th>\n",
       "      <td>Kraft paper</td>\n",
       "      <td>paper</td>\n",
       "      <td>0.10</td>\n",
       "      <td>493</td>\n",
       "      <td>64</td>\n",
       "    </tr>\n",
       "    <tr>\n",
       "      <th>12</th>\n",
       "      <td>Banner paper</td>\n",
       "      <td>paper</td>\n",
       "      <td>0.30</td>\n",
       "      <td>793</td>\n",
       "      <td>128</td>\n",
       "    </tr>\n",
       "    <tr>\n",
       "      <th>13</th>\n",
       "      <td>Presentation folders</td>\n",
       "      <td>product</td>\n",
       "      <td>0.50</td>\n",
       "      <td>389</td>\n",
       "      <td>97</td>\n",
       "    </tr>\n",
       "    <tr>\n",
       "      <th>14</th>\n",
       "      <td>Patterned paper</td>\n",
       "      <td>paper</td>\n",
       "      <td>0.15</td>\n",
       "      <td>548</td>\n",
       "      <td>119</td>\n",
       "    </tr>\n",
       "    <tr>\n",
       "      <th>15</th>\n",
       "      <td>A4 paper</td>\n",
       "      <td>paper</td>\n",
       "      <td>0.05</td>\n",
       "      <td>272</td>\n",
       "      <td>135</td>\n",
       "    </tr>\n",
       "    <tr>\n",
       "      <th>16</th>\n",
       "      <td>Invitation cards</td>\n",
       "      <td>product</td>\n",
       "      <td>0.50</td>\n",
       "      <td>526</td>\n",
       "      <td>149</td>\n",
       "    </tr>\n",
       "    <tr>\n",
       "      <th>17</th>\n",
       "      <td>Crepe paper</td>\n",
       "      <td>paper</td>\n",
       "      <td>0.05</td>\n",
       "      <td>234</td>\n",
       "      <td>104</td>\n",
       "    </tr>\n",
       "  </tbody>\n",
       "</table>\n",
       "</div>"
      ],
      "text/plain": [
       "                                item_name      category  unit_price  \\\n",
       "0                            Paper plates       product        0.10   \n",
       "1                      100 lb cover stock     specialty        0.50   \n",
       "2                            Glossy paper         paper        0.20   \n",
       "3   Rolls of banner paper (36-inch width)  large_format        2.50   \n",
       "4                             Photo paper         paper        0.25   \n",
       "5                               Cardstock         paper        0.15   \n",
       "6                           Colored paper         paper        0.10   \n",
       "7                        80 lb text paper     specialty        0.40   \n",
       "8       Large poster paper (24x36 inches)  large_format        1.00   \n",
       "9                            Table covers       product        1.50   \n",
       "10                          Butcher paper         paper        0.10   \n",
       "11                            Kraft paper         paper        0.10   \n",
       "12                           Banner paper         paper        0.30   \n",
       "13                   Presentation folders       product        0.50   \n",
       "14                        Patterned paper         paper        0.15   \n",
       "15                               A4 paper         paper        0.05   \n",
       "16                       Invitation cards       product        0.50   \n",
       "17                            Crepe paper         paper        0.05   \n",
       "\n",
       "    current_stock  min_stock_level  \n",
       "0             748              144  \n",
       "1             636               85  \n",
       "2             587              147  \n",
       "3             546               65  \n",
       "4             423               58  \n",
       "5             595              148  \n",
       "6             788              143  \n",
       "7             249               91  \n",
       "8             699               89  \n",
       "9             736               77  \n",
       "10            365               80  \n",
       "11            493               64  \n",
       "12            793              128  \n",
       "13            389               97  \n",
       "14            548              119  \n",
       "15            272              135  \n",
       "16            526              149  \n",
       "17            234              104  "
      ]
     },
     "metadata": {},
     "output_type": "display_data"
    },
    {
     "name": "stdout",
     "output_type": "stream",
     "text": [
      "quote_requests\n"
     ]
    },
    {
     "data": {
      "text/html": [
       "<div>\n",
       "<style scoped>\n",
       "    .dataframe tbody tr th:only-of-type {\n",
       "        vertical-align: middle;\n",
       "    }\n",
       "\n",
       "    .dataframe tbody tr th {\n",
       "        vertical-align: top;\n",
       "    }\n",
       "\n",
       "    .dataframe thead th {\n",
       "        text-align: right;\n",
       "    }\n",
       "</style>\n",
       "<table border=\"1\" class=\"dataframe\">\n",
       "  <thead>\n",
       "    <tr style=\"text-align: right;\">\n",
       "      <th></th>\n",
       "      <th>mood</th>\n",
       "      <th>job</th>\n",
       "      <th>need_size</th>\n",
       "      <th>event</th>\n",
       "      <th>response</th>\n",
       "      <th>id</th>\n",
       "    </tr>\n",
       "  </thead>\n",
       "  <tbody>\n",
       "    <tr>\n",
       "      <th>0</th>\n",
       "      <td>stressed</td>\n",
       "      <td>event manager</td>\n",
       "      <td>large</td>\n",
       "      <td>meeting</td>\n",
       "      <td>I would like to request a large order of high-...</td>\n",
       "      <td>1</td>\n",
       "    </tr>\n",
       "    <tr>\n",
       "      <th>1</th>\n",
       "      <td>pissed off</td>\n",
       "      <td>school board resouorce manager</td>\n",
       "      <td>large</td>\n",
       "      <td>meeting</td>\n",
       "      <td>I need to order 10 reams of standard copy pape...</td>\n",
       "      <td>2</td>\n",
       "    </tr>\n",
       "    <tr>\n",
       "      <th>2</th>\n",
       "      <td>miserable</td>\n",
       "      <td>event manager</td>\n",
       "      <td>small</td>\n",
       "      <td>festival</td>\n",
       "      <td>I would like to place an order for 500 sheets ...</td>\n",
       "      <td>3</td>\n",
       "    </tr>\n",
       "    <tr>\n",
       "      <th>3</th>\n",
       "      <td>pissed off</td>\n",
       "      <td>restaurant manager</td>\n",
       "      <td>small</td>\n",
       "      <td>concert</td>\n",
       "      <td>I need to order 1000 sheets of high-quality A4...</td>\n",
       "      <td>4</td>\n",
       "    </tr>\n",
       "    <tr>\n",
       "      <th>4</th>\n",
       "      <td>pissed off</td>\n",
       "      <td>school board resouorce manager</td>\n",
       "      <td>large</td>\n",
       "      <td>assembly</td>\n",
       "      <td>I need to order 500 sheets of A4 paper, 300 sh...</td>\n",
       "      <td>5</td>\n",
       "    </tr>\n",
       "    <tr>\n",
       "      <th>...</th>\n",
       "      <td>...</td>\n",
       "      <td>...</td>\n",
       "      <td>...</td>\n",
       "      <td>...</td>\n",
       "      <td>...</td>\n",
       "      <td>...</td>\n",
       "    </tr>\n",
       "    <tr>\n",
       "      <th>95</th>\n",
       "      <td>stressed</td>\n",
       "      <td>business owner</td>\n",
       "      <td>medium</td>\n",
       "      <td>gathering</td>\n",
       "      <td>I would like to place a medium order for the f...</td>\n",
       "      <td>96</td>\n",
       "    </tr>\n",
       "    <tr>\n",
       "      <th>96</th>\n",
       "      <td>sad</td>\n",
       "      <td>law firm receptionist</td>\n",
       "      <td>medium</td>\n",
       "      <td>celebration</td>\n",
       "      <td>I would like to place a medium order for the f...</td>\n",
       "      <td>97</td>\n",
       "    </tr>\n",
       "    <tr>\n",
       "      <th>97</th>\n",
       "      <td>stressed</td>\n",
       "      <td>school principal</td>\n",
       "      <td>medium</td>\n",
       "      <td>party</td>\n",
       "      <td>I would like to place a medium order for the f...</td>\n",
       "      <td>98</td>\n",
       "    </tr>\n",
       "    <tr>\n",
       "      <th>98</th>\n",
       "      <td>pissed off</td>\n",
       "      <td>hotel manager</td>\n",
       "      <td>medium</td>\n",
       "      <td>parade</td>\n",
       "      <td>I would like to place a medium order for the f...</td>\n",
       "      <td>99</td>\n",
       "    </tr>\n",
       "    <tr>\n",
       "      <th>99</th>\n",
       "      <td>happy</td>\n",
       "      <td>school teacher</td>\n",
       "      <td>small</td>\n",
       "      <td>gathering</td>\n",
       "      <td>I would like to order the following paper supp...</td>\n",
       "      <td>100</td>\n",
       "    </tr>\n",
       "  </tbody>\n",
       "</table>\n",
       "<p>100 rows × 6 columns</p>\n",
       "</div>"
      ],
      "text/plain": [
       "          mood                             job need_size        event  \\\n",
       "0     stressed                   event manager     large      meeting   \n",
       "1   pissed off  school board resouorce manager     large      meeting   \n",
       "2    miserable                   event manager     small     festival   \n",
       "3   pissed off              restaurant manager     small      concert   \n",
       "4   pissed off  school board resouorce manager     large     assembly   \n",
       "..         ...                             ...       ...          ...   \n",
       "95    stressed                  business owner    medium    gathering   \n",
       "96         sad           law firm receptionist    medium  celebration   \n",
       "97    stressed                school principal    medium        party   \n",
       "98  pissed off                   hotel manager    medium       parade   \n",
       "99       happy                  school teacher     small    gathering   \n",
       "\n",
       "                                             response   id  \n",
       "0   I would like to request a large order of high-...    1  \n",
       "1   I need to order 10 reams of standard copy pape...    2  \n",
       "2   I would like to place an order for 500 sheets ...    3  \n",
       "3   I need to order 1000 sheets of high-quality A4...    4  \n",
       "4   I need to order 500 sheets of A4 paper, 300 sh...    5  \n",
       "..                                                ...  ...  \n",
       "95  I would like to place a medium order for the f...   96  \n",
       "96  I would like to place a medium order for the f...   97  \n",
       "97  I would like to place a medium order for the f...   98  \n",
       "98  I would like to place a medium order for the f...   99  \n",
       "99  I would like to order the following paper supp...  100  \n",
       "\n",
       "[100 rows x 6 columns]"
      ]
     },
     "metadata": {},
     "output_type": "display_data"
    },
    {
     "name": "stdout",
     "output_type": "stream",
     "text": [
      "quotes\n"
     ]
    },
    {
     "data": {
      "text/html": [
       "<div>\n",
       "<style scoped>\n",
       "    .dataframe tbody tr th:only-of-type {\n",
       "        vertical-align: middle;\n",
       "    }\n",
       "\n",
       "    .dataframe tbody tr th {\n",
       "        vertical-align: top;\n",
       "    }\n",
       "\n",
       "    .dataframe thead th {\n",
       "        text-align: right;\n",
       "    }\n",
       "</style>\n",
       "<table border=\"1\" class=\"dataframe\">\n",
       "  <thead>\n",
       "    <tr style=\"text-align: right;\">\n",
       "      <th></th>\n",
       "      <th>request_id</th>\n",
       "      <th>total_amount</th>\n",
       "      <th>quote_explanation</th>\n",
       "      <th>order_date</th>\n",
       "      <th>job_type</th>\n",
       "      <th>order_size</th>\n",
       "      <th>event_type</th>\n",
       "    </tr>\n",
       "  </thead>\n",
       "  <tbody>\n",
       "    <tr>\n",
       "      <th>0</th>\n",
       "      <td>1</td>\n",
       "      <td>96</td>\n",
       "      <td>Thank you for your large order! We have calcul...</td>\n",
       "      <td>2025-01-01T00:00:00</td>\n",
       "      <td>event manager</td>\n",
       "      <td>large</td>\n",
       "      <td>meeting</td>\n",
       "    </tr>\n",
       "    <tr>\n",
       "      <th>1</th>\n",
       "      <td>2</td>\n",
       "      <td>60</td>\n",
       "      <td>For your order of 10 reams of standard copy pa...</td>\n",
       "      <td>2025-01-01T00:00:00</td>\n",
       "      <td>school board resouorce manager</td>\n",
       "      <td>large</td>\n",
       "      <td>meeting</td>\n",
       "    </tr>\n",
       "    <tr>\n",
       "      <th>2</th>\n",
       "      <td>3</td>\n",
       "      <td>780</td>\n",
       "      <td>Thank you for your order! For the 500 sheets o...</td>\n",
       "      <td>2025-01-01T00:00:00</td>\n",
       "      <td>event manager</td>\n",
       "      <td>small</td>\n",
       "      <td>festival</td>\n",
       "    </tr>\n",
       "    <tr>\n",
       "      <th>3</th>\n",
       "      <td>4</td>\n",
       "      <td>120</td>\n",
       "      <td>Thank you for your order! For 1000 sheets of h...</td>\n",
       "      <td>2025-01-01T00:00:00</td>\n",
       "      <td>restaurant manager</td>\n",
       "      <td>small</td>\n",
       "      <td>concert</td>\n",
       "    </tr>\n",
       "    <tr>\n",
       "      <th>4</th>\n",
       "      <td>5</td>\n",
       "      <td>122</td>\n",
       "      <td>Thank you for your order! For the upcoming ass...</td>\n",
       "      <td>2025-01-01T00:00:00</td>\n",
       "      <td>school board resouorce manager</td>\n",
       "      <td>large</td>\n",
       "      <td>assembly</td>\n",
       "    </tr>\n",
       "    <tr>\n",
       "      <th>...</th>\n",
       "      <td>...</td>\n",
       "      <td>...</td>\n",
       "      <td>...</td>\n",
       "      <td>...</td>\n",
       "      <td>...</td>\n",
       "      <td>...</td>\n",
       "      <td>...</td>\n",
       "    </tr>\n",
       "    <tr>\n",
       "      <th>95</th>\n",
       "      <td>96</td>\n",
       "      <td>80</td>\n",
       "      <td>Thank you for your order! For your upcoming ga...</td>\n",
       "      <td>2025-01-01T00:00:00</td>\n",
       "      <td>business owner</td>\n",
       "      <td>medium</td>\n",
       "      <td>gathering</td>\n",
       "    </tr>\n",
       "    <tr>\n",
       "      <th>96</th>\n",
       "      <td>97</td>\n",
       "      <td>300</td>\n",
       "      <td>Thank you for your order! For the supplies req...</td>\n",
       "      <td>2025-01-01T00:00:00</td>\n",
       "      <td>law firm receptionist</td>\n",
       "      <td>medium</td>\n",
       "      <td>celebration</td>\n",
       "    </tr>\n",
       "    <tr>\n",
       "      <th>97</th>\n",
       "      <td>98</td>\n",
       "      <td>126</td>\n",
       "      <td>Thank you for your order for the upcoming part...</td>\n",
       "      <td>2025-01-01T00:00:00</td>\n",
       "      <td>school principal</td>\n",
       "      <td>medium</td>\n",
       "      <td>party</td>\n",
       "    </tr>\n",
       "    <tr>\n",
       "      <th>98</th>\n",
       "      <td>99</td>\n",
       "      <td>189</td>\n",
       "      <td>Thank you for your order! I have calculated th...</td>\n",
       "      <td>2025-01-01T00:00:00</td>\n",
       "      <td>hotel manager</td>\n",
       "      <td>medium</td>\n",
       "      <td>parade</td>\n",
       "    </tr>\n",
       "    <tr>\n",
       "      <th>99</th>\n",
       "      <td>100</td>\n",
       "      <td>2000</td>\n",
       "      <td>Thank you for your order! For your gathering, ...</td>\n",
       "      <td>2025-01-01T00:00:00</td>\n",
       "      <td>school teacher</td>\n",
       "      <td>small</td>\n",
       "      <td>gathering</td>\n",
       "    </tr>\n",
       "  </tbody>\n",
       "</table>\n",
       "<p>100 rows × 7 columns</p>\n",
       "</div>"
      ],
      "text/plain": [
       "    request_id  total_amount  \\\n",
       "0            1            96   \n",
       "1            2            60   \n",
       "2            3           780   \n",
       "3            4           120   \n",
       "4            5           122   \n",
       "..         ...           ...   \n",
       "95          96            80   \n",
       "96          97           300   \n",
       "97          98           126   \n",
       "98          99           189   \n",
       "99         100          2000   \n",
       "\n",
       "                                    quote_explanation           order_date  \\\n",
       "0   Thank you for your large order! We have calcul...  2025-01-01T00:00:00   \n",
       "1   For your order of 10 reams of standard copy pa...  2025-01-01T00:00:00   \n",
       "2   Thank you for your order! For the 500 sheets o...  2025-01-01T00:00:00   \n",
       "3   Thank you for your order! For 1000 sheets of h...  2025-01-01T00:00:00   \n",
       "4   Thank you for your order! For the upcoming ass...  2025-01-01T00:00:00   \n",
       "..                                                ...                  ...   \n",
       "95  Thank you for your order! For your upcoming ga...  2025-01-01T00:00:00   \n",
       "96  Thank you for your order! For the supplies req...  2025-01-01T00:00:00   \n",
       "97  Thank you for your order for the upcoming part...  2025-01-01T00:00:00   \n",
       "98  Thank you for your order! I have calculated th...  2025-01-01T00:00:00   \n",
       "99  Thank you for your order! For your gathering, ...  2025-01-01T00:00:00   \n",
       "\n",
       "                          job_type order_size   event_type  \n",
       "0                    event manager      large      meeting  \n",
       "1   school board resouorce manager      large      meeting  \n",
       "2                    event manager      small     festival  \n",
       "3               restaurant manager      small      concert  \n",
       "4   school board resouorce manager      large     assembly  \n",
       "..                             ...        ...          ...  \n",
       "95                  business owner     medium    gathering  \n",
       "96           law firm receptionist     medium  celebration  \n",
       "97                school principal     medium        party  \n",
       "98                   hotel manager     medium       parade  \n",
       "99                  school teacher      small    gathering  \n",
       "\n",
       "[100 rows x 7 columns]"
      ]
     },
     "metadata": {},
     "output_type": "display_data"
    },
    {
     "name": "stdout",
     "output_type": "stream",
     "text": [
      "transactions\n"
     ]
    },
    {
     "data": {
      "text/html": [
       "<div>\n",
       "<style scoped>\n",
       "    .dataframe tbody tr th:only-of-type {\n",
       "        vertical-align: middle;\n",
       "    }\n",
       "\n",
       "    .dataframe tbody tr th {\n",
       "        vertical-align: top;\n",
       "    }\n",
       "\n",
       "    .dataframe thead th {\n",
       "        text-align: right;\n",
       "    }\n",
       "</style>\n",
       "<table border=\"1\" class=\"dataframe\">\n",
       "  <thead>\n",
       "    <tr style=\"text-align: right;\">\n",
       "      <th></th>\n",
       "      <th>id</th>\n",
       "      <th>item_name</th>\n",
       "      <th>transaction_type</th>\n",
       "      <th>units</th>\n",
       "      <th>price</th>\n",
       "      <th>transaction_date</th>\n",
       "    </tr>\n",
       "  </thead>\n",
       "  <tbody>\n",
       "    <tr>\n",
       "      <th>0</th>\n",
       "      <td>0.0</td>\n",
       "      <td>None</td>\n",
       "      <td>sales</td>\n",
       "      <td>NaN</td>\n",
       "      <td>50000.0</td>\n",
       "      <td>2025-01-01T00:00:00</td>\n",
       "    </tr>\n",
       "    <tr>\n",
       "      <th>1</th>\n",
       "      <td>1.0</td>\n",
       "      <td>Paper plates</td>\n",
       "      <td>stock_orders</td>\n",
       "      <td>748.0</td>\n",
       "      <td>74.8</td>\n",
       "      <td>2025-01-01T00:00:00</td>\n",
       "    </tr>\n",
       "    <tr>\n",
       "      <th>2</th>\n",
       "      <td>2.0</td>\n",
       "      <td>100 lb cover stock</td>\n",
       "      <td>stock_orders</td>\n",
       "      <td>636.0</td>\n",
       "      <td>318.0</td>\n",
       "      <td>2025-01-01T00:00:00</td>\n",
       "    </tr>\n",
       "    <tr>\n",
       "      <th>3</th>\n",
       "      <td>3.0</td>\n",
       "      <td>Glossy paper</td>\n",
       "      <td>stock_orders</td>\n",
       "      <td>587.0</td>\n",
       "      <td>117.4</td>\n",
       "      <td>2025-01-01T00:00:00</td>\n",
       "    </tr>\n",
       "    <tr>\n",
       "      <th>4</th>\n",
       "      <td>4.0</td>\n",
       "      <td>Rolls of banner paper (36-inch width)</td>\n",
       "      <td>stock_orders</td>\n",
       "      <td>546.0</td>\n",
       "      <td>1365.0</td>\n",
       "      <td>2025-01-01T00:00:00</td>\n",
       "    </tr>\n",
       "    <tr>\n",
       "      <th>...</th>\n",
       "      <td>...</td>\n",
       "      <td>...</td>\n",
       "      <td>...</td>\n",
       "      <td>...</td>\n",
       "      <td>...</td>\n",
       "      <td>...</td>\n",
       "    </tr>\n",
       "    <tr>\n",
       "      <th>85</th>\n",
       "      <td>85.0</td>\n",
       "      <td>100 lb cover stock</td>\n",
       "      <td>sales</td>\n",
       "      <td>5000.0</td>\n",
       "      <td>2500.0</td>\n",
       "      <td>2025-05-15</td>\n",
       "    </tr>\n",
       "    <tr>\n",
       "      <th>86</th>\n",
       "      <td>86.0</td>\n",
       "      <td>Invitation cards</td>\n",
       "      <td>stock_orders</td>\n",
       "      <td>9623.0</td>\n",
       "      <td>4811.5</td>\n",
       "      <td>2025-04-17</td>\n",
       "    </tr>\n",
       "    <tr>\n",
       "      <th>87</th>\n",
       "      <td>87.0</td>\n",
       "      <td>Invitation cards</td>\n",
       "      <td>sales</td>\n",
       "      <td>10000.0</td>\n",
       "      <td>5000.0</td>\n",
       "      <td>2025-05-15</td>\n",
       "    </tr>\n",
       "    <tr>\n",
       "      <th>88</th>\n",
       "      <td>88.0</td>\n",
       "      <td>Large poster paper (24x36 inches)</td>\n",
       "      <td>stock_orders</td>\n",
       "      <td>2400.0</td>\n",
       "      <td>2400.0</td>\n",
       "      <td>2025-04-17</td>\n",
       "    </tr>\n",
       "    <tr>\n",
       "      <th>89</th>\n",
       "      <td>89.0</td>\n",
       "      <td>Large poster paper (24x36 inches)</td>\n",
       "      <td>sales</td>\n",
       "      <td>2000.0</td>\n",
       "      <td>2000.0</td>\n",
       "      <td>2025-05-15</td>\n",
       "    </tr>\n",
       "  </tbody>\n",
       "</table>\n",
       "<p>90 rows × 6 columns</p>\n",
       "</div>"
      ],
      "text/plain": [
       "      id                              item_name transaction_type    units  \\\n",
       "0    0.0                                   None            sales      NaN   \n",
       "1    1.0                           Paper plates     stock_orders    748.0   \n",
       "2    2.0                     100 lb cover stock     stock_orders    636.0   \n",
       "3    3.0                           Glossy paper     stock_orders    587.0   \n",
       "4    4.0  Rolls of banner paper (36-inch width)     stock_orders    546.0   \n",
       "..   ...                                    ...              ...      ...   \n",
       "85  85.0                     100 lb cover stock            sales   5000.0   \n",
       "86  86.0                       Invitation cards     stock_orders   9623.0   \n",
       "87  87.0                       Invitation cards            sales  10000.0   \n",
       "88  88.0      Large poster paper (24x36 inches)     stock_orders   2400.0   \n",
       "89  89.0      Large poster paper (24x36 inches)            sales   2000.0   \n",
       "\n",
       "      price     transaction_date  \n",
       "0   50000.0  2025-01-01T00:00:00  \n",
       "1      74.8  2025-01-01T00:00:00  \n",
       "2     318.0  2025-01-01T00:00:00  \n",
       "3     117.4  2025-01-01T00:00:00  \n",
       "4    1365.0  2025-01-01T00:00:00  \n",
       "..      ...                  ...  \n",
       "85   2500.0           2025-05-15  \n",
       "86   4811.5           2025-04-17  \n",
       "87   5000.0           2025-05-15  \n",
       "88   2400.0           2025-04-17  \n",
       "89   2000.0           2025-05-15  \n",
       "\n",
       "[90 rows x 6 columns]"
      ]
     },
     "metadata": {},
     "output_type": "display_data"
    }
   ],
   "source": [
    "for table in inspector.get_table_names():\n",
    "    print(table)\n",
    "    df = pd.read_sql(f\"SELECT * FROM {table}\", db_engine)  #LIMIT 10\n",
    "    display(df)"
   ]
  },
  {
   "cell_type": "code",
   "execution_count": 4,
   "metadata": {},
   "outputs": [
    {
     "name": "stdout",
     "output_type": "stream",
     "text": [
      "Help on SimpleTool in module smolagents.tools object:\n",
      "\n",
      "class SimpleTool(Tool)\n",
      " |  Method resolution order:\n",
      " |      SimpleTool\n",
      " |      Tool\n",
      " |      BaseTool\n",
      " |      abc.ABC\n",
      " |      builtins.object\n",
      " |  \n",
      " |  Methods defined here:\n",
      " |  \n",
      " |  __init__(self)\n",
      " |  \n",
      " |  ----------------------------------------------------------------------\n",
      " |  Static methods defined here:\n",
      " |  \n",
      " |  forward = get_all_inventory(self, as_of_date: str, db_engine: sqlalchemy.engine.base.Engine = Engine(sqlite:///beaver.db)) -> Dict[str, int]\n",
      " |      Retrieve a snapshot of available inventory as of a specific date.\n",
      " |      \n",
      " |      This function calculates the net quantity of each item by summing \n",
      " |      all stock orders and subtracting all sales up to and including the given date.\n",
      " |      \n",
      " |      Only items with positive stock are included in the result.\n",
      " |      \n",
      " |      Args:\n",
      " |          as_of_date (str): ISO-formatted date string (YYYY-MM-DD) representing the inventory cutoff.\n",
      " |          db_engine (Engine): sqlite database client (default = db_engine)\n",
      " |      \n",
      " |      Returns:\n",
      " |          Dict[str, int]: A dictionary mapping item names to their current stock levels.\n",
      " |  \n",
      " |  ----------------------------------------------------------------------\n",
      " |  Data and other attributes defined here:\n",
      " |  \n",
      " |  __abstractmethods__ = frozenset()\n",
      " |  \n",
      " |  __annotations__ = {}\n",
      " |  \n",
      " |  __source__ = '\\nclass SimpleTool(Tool):\\n    name: str = \"get_al...n d...\n",
      " |  \n",
      " |  description = 'Retrieve a snapshot of available inventory as of...s wi...\n",
      " |  \n",
      " |  inputs = {'as_of_date': {'description': 'ISO-formatted date string (YY...\n",
      " |  \n",
      " |  name = 'get_all_inventory'\n",
      " |  \n",
      " |  output_type = 'object'\n",
      " |  \n",
      " |  ----------------------------------------------------------------------\n",
      " |  Methods inherited from Tool:\n",
      " |  \n",
      " |  __call__(self, *args, sanitize_inputs_outputs: 'bool' = False, **kwargs)\n",
      " |      Call self as a function.\n",
      " |  \n",
      " |  push_to_hub(self, repo_id: 'str', commit_message: 'str' = 'Upload tool', private: 'bool | None' = None, token: 'bool | str | None' = None, create_pr: 'bool' = False) -> 'str'\n",
      " |      Upload the tool to the Hub.\n",
      " |      \n",
      " |      Parameters:\n",
      " |          repo_id (`str`):\n",
      " |              The name of the repository you want to push your tool to. It should contain your organization name when\n",
      " |              pushing to a given organization.\n",
      " |          commit_message (`str`, *optional*, defaults to `\"Upload tool\"`):\n",
      " |              Message to commit while pushing.\n",
      " |          private (`bool`, *optional*):\n",
      " |              Whether to make the repo private. If `None` (default), the repo will be public unless the organization's default is private. This value is ignored if the repo already exists.\n",
      " |          token (`bool` or `str`, *optional*):\n",
      " |              The token to use as HTTP bearer authorization for remote files. If unset, will use the token generated\n",
      " |              when running `huggingface-cli login` (stored in `~/.huggingface`).\n",
      " |          create_pr (`bool`, *optional*, defaults to `False`):\n",
      " |              Whether to create a PR with the uploaded files or directly commit.\n",
      " |  \n",
      " |  save(self, output_dir: 'str | Path', tool_file_name: 'str' = 'tool', make_gradio_app: 'bool' = True)\n",
      " |      Saves the relevant code files for your tool so it can be pushed to the Hub. This will copy the code of your\n",
      " |      tool in `output_dir` as well as autogenerate:\n",
      " |      \n",
      " |      - a `{tool_file_name}.py` file containing the logic for your tool.\n",
      " |      If you pass `make_gradio_app=True`, this will also write:\n",
      " |      - an `app.py` file providing a UI for your tool when it is exported to a Space with `tool.push_to_hub()`\n",
      " |      - a `requirements.txt` containing the names of the modules used by your tool (as detected when inspecting its\n",
      " |        code)\n",
      " |      \n",
      " |      Args:\n",
      " |          output_dir (`str` or `Path`): The folder in which you want to save your tool.\n",
      " |          tool_file_name (`str`, *optional*): The file name in which you want to save your tool.\n",
      " |          make_gradio_app (`bool`, *optional*, defaults to True): Whether to also export a `requirements.txt` file and Gradio UI.\n",
      " |  \n",
      " |  setup(self)\n",
      " |      Overwrite this method here for any operation that is expensive and needs to be executed before you start using\n",
      " |      your tool. Such as loading a big model.\n",
      " |  \n",
      " |  to_code_prompt(self) -> 'str'\n",
      " |  \n",
      " |  to_dict(self) -> 'dict'\n",
      " |      Returns a dictionary representing the tool\n",
      " |  \n",
      " |  to_tool_calling_prompt(self) -> 'str'\n",
      " |  \n",
      " |  validate_arguments(self)\n",
      " |  \n",
      " |  ----------------------------------------------------------------------\n",
      " |  Class methods inherited from Tool:\n",
      " |  \n",
      " |  __init_subclass__(**kwargs) from abc.ABCMeta\n",
      " |      This method is called when a class is subclassed.\n",
      " |      \n",
      " |      The default implementation does nothing. It may be\n",
      " |      overridden to extend subclasses.\n",
      " |  \n",
      " |  from_code(tool_code: 'str', **kwargs) from abc.ABCMeta\n",
      " |  \n",
      " |  from_dict(tool_dict: 'dict[str, Any]', **kwargs) -> \"'Tool'\" from abc.ABCMeta\n",
      " |      Create tool from a dictionary representation.\n",
      " |      \n",
      " |      Args:\n",
      " |          tool_dict (`dict[str, Any]`): Dictionary representation of the tool.\n",
      " |          **kwargs: Additional keyword arguments to pass to the tool's constructor.\n",
      " |      \n",
      " |      Returns:\n",
      " |          `Tool`: Tool object.\n",
      " |  \n",
      " |  from_hub(repo_id: 'str', token: 'str | None' = None, trust_remote_code: 'bool' = False, **kwargs) from abc.ABCMeta\n",
      " |      Loads a tool defined on the Hub.\n",
      " |      \n",
      " |      <Tip warning={true}>\n",
      " |      \n",
      " |      Loading a tool from the Hub means that you'll download the tool and execute it locally.\n",
      " |      ALWAYS inspect the tool you're downloading before loading it within your runtime, as you would do when\n",
      " |      installing a package using pip/npm/apt.\n",
      " |      \n",
      " |      </Tip>\n",
      " |      \n",
      " |      Args:\n",
      " |          repo_id (`str`):\n",
      " |              The name of the Space repo on the Hub where your tool is defined.\n",
      " |          token (`str`, *optional*):\n",
      " |              The token to identify you on hf.co. If unset, will use the token generated when running\n",
      " |              `huggingface-cli login` (stored in `~/.huggingface`).\n",
      " |          trust_remote_code(`str`, *optional*, defaults to False):\n",
      " |              This flags marks that you understand the risk of running remote code and that you trust this tool.\n",
      " |              If not setting this to True, loading the tool from Hub will fail.\n",
      " |          kwargs (additional keyword arguments, *optional*):\n",
      " |              Additional keyword arguments that will be split in two: all arguments relevant to the Hub (such as\n",
      " |              `cache_dir`, `revision`, `subfolder`) will be used when downloading the files for your tool, and the\n",
      " |              others will be passed along to its init.\n",
      " |  \n",
      " |  ----------------------------------------------------------------------\n",
      " |  Static methods inherited from Tool:\n",
      " |  \n",
      " |  from_gradio(gradio_tool)\n",
      " |      Creates a [`Tool`] from a gradio tool.\n",
      " |  \n",
      " |  from_langchain(langchain_tool)\n",
      " |      Creates a [`Tool`] from a langchain tool.\n",
      " |  \n",
      " |  from_space(space_id: 'str', name: 'str', description: 'str', api_name: 'str | None' = None, token: 'str | None' = None)\n",
      " |      Creates a [`Tool`] from a Space given its id on the Hub.\n",
      " |      \n",
      " |      Args:\n",
      " |          space_id (`str`):\n",
      " |              The id of the Space on the Hub.\n",
      " |          name (`str`):\n",
      " |              The name of the tool.\n",
      " |          description (`str`):\n",
      " |              The description of the tool.\n",
      " |          api_name (`str`, *optional*):\n",
      " |              The specific api_name to use, if the space has several tabs. If not precised, will default to the first available api.\n",
      " |          token (`str`, *optional*):\n",
      " |              Add your token to access private spaces or increase your GPU quotas.\n",
      " |      Returns:\n",
      " |          [`Tool`]:\n",
      " |              The Space, as a tool.\n",
      " |      \n",
      " |      Examples:\n",
      " |      ```py\n",
      " |      >>> image_generator = Tool.from_space(\n",
      " |      ...     space_id=\"black-forest-labs/FLUX.1-schnell\",\n",
      " |      ...     name=\"image-generator\",\n",
      " |      ...     description=\"Generate an image from a prompt\"\n",
      " |      ... )\n",
      " |      >>> image = image_generator(\"Generate an image of a cool surfer in Tahiti\")\n",
      " |      ```\n",
      " |      ```py\n",
      " |      >>> face_swapper = Tool.from_space(\n",
      " |      ...     \"tuan2308/face-swap\",\n",
      " |      ...     \"face_swapper\",\n",
      " |      ...     \"Tool that puts the face shown on the first image on the second image. You can give it paths to images.\",\n",
      " |      ... )\n",
      " |      >>> image = face_swapper('./aymeric.jpeg', './ruth.jpg')\n",
      " |      ```\n",
      " |  \n",
      " |  ----------------------------------------------------------------------\n",
      " |  Data descriptors inherited from BaseTool:\n",
      " |  \n",
      " |  __dict__\n",
      " |      dictionary for instance variables (if defined)\n",
      " |  \n",
      " |  __weakref__\n",
      " |      list of weak references to the object (if defined)\n",
      "\n"
     ]
    }
   ],
   "source": [
    "help(get_all_inventory)"
   ]
  },
  {
   "cell_type": "code",
   "execution_count": 15,
   "metadata": {},
   "outputs": [
    {
     "data": {
      "text/plain": [
       "{'100 lb cover stock': 5085.0,\n",
       " '80 lb text paper': 91.0,\n",
       " 'A4 paper': 135.0,\n",
       " 'Banner paper': 793.0,\n",
       " 'Butcher paper': 365.0,\n",
       " 'Cardstock': 148.0,\n",
       " 'Crepe paper': 104.0,\n",
       " 'Glossy paper': 147.0,\n",
       " 'Invitation cards': 10149.0,\n",
       " 'Kraft paper': 443.0,\n",
       " 'Large poster paper (24x36 inches)': 2089.0,\n",
       " 'Paper plates': 748.0,\n",
       " 'Patterned paper': 548.0,\n",
       " 'Photo paper': 423.0,\n",
       " 'Presentation folders': 389.0,\n",
       " 'Rolls of banner paper (36-inch width)': 546.0,\n",
       " 'Table covers': 736.0}"
      ]
     },
     "execution_count": 15,
     "metadata": {},
     "output_type": "execute_result"
    }
   ],
   "source": [
    "get_all_inventory(as_of_date=\"2025-04-30\")"
   ]
  },
  {
   "cell_type": "code",
   "execution_count": 6,
   "metadata": {},
   "outputs": [
    {
     "name": "stdout",
     "output_type": "stream",
     "text": [
      "Help on SimpleTool in module smolagents.tools object:\n",
      "\n",
      "class SimpleTool(Tool)\n",
      " |  Method resolution order:\n",
      " |      SimpleTool\n",
      " |      Tool\n",
      " |      BaseTool\n",
      " |      abc.ABC\n",
      " |      builtins.object\n",
      " |  \n",
      " |  Methods defined here:\n",
      " |  \n",
      " |  __init__(self)\n",
      " |  \n",
      " |  ----------------------------------------------------------------------\n",
      " |  Static methods defined here:\n",
      " |  \n",
      " |  forward = get_stock_level(self, item_name: str, as_of_date: Union[str, datetime.datetime], db_engine: sqlalchemy.engine.base.Engine = Engine(sqlite:///beaver.db)) -> pandas.core.frame.DataFrame\n",
      " |      Retrieve the stock level of a specific item as of a given date.\n",
      " |      \n",
      " |      This function calculates the net stock by summing all 'stock_orders' and \n",
      " |      subtracting all 'sales' transactions for the specified item up to the given date.\n",
      " |      \n",
      " |      Args:\n",
      " |          item_name (str): The name of the item to look up.\n",
      " |          as_of_date (str or datetime): The cutoff date (inclusive) for calculating stock.\n",
      " |          db_engine (Engine): sqlite database client (default = db_engine)\n",
      " |      \n",
      " |      Returns:\n",
      " |          pd.DataFrame: A single-row DataFrame with columns 'item_name' and 'current_stock'.\n",
      " |  \n",
      " |  ----------------------------------------------------------------------\n",
      " |  Data and other attributes defined here:\n",
      " |  \n",
      " |  __abstractmethods__ = frozenset()\n",
      " |  \n",
      " |  __annotations__ = {}\n",
      " |  \n",
      " |  __source__ = '\\nclass SimpleTool(Tool):\\n    name: str = \"get_st...: i...\n",
      " |  \n",
      " |  description = 'Retrieve the stock level of a specific item as o...ions...\n",
      " |  \n",
      " |  inputs = {'as_of_date': {'description': 'The cutoff date (inclusive) f...\n",
      " |  \n",
      " |  name = 'get_stock_level'\n",
      " |  \n",
      " |  output_type = 'object'\n",
      " |  \n",
      " |  ----------------------------------------------------------------------\n",
      " |  Methods inherited from Tool:\n",
      " |  \n",
      " |  __call__(self, *args, sanitize_inputs_outputs: 'bool' = False, **kwargs)\n",
      " |      Call self as a function.\n",
      " |  \n",
      " |  push_to_hub(self, repo_id: 'str', commit_message: 'str' = 'Upload tool', private: 'bool | None' = None, token: 'bool | str | None' = None, create_pr: 'bool' = False) -> 'str'\n",
      " |      Upload the tool to the Hub.\n",
      " |      \n",
      " |      Parameters:\n",
      " |          repo_id (`str`):\n",
      " |              The name of the repository you want to push your tool to. It should contain your organization name when\n",
      " |              pushing to a given organization.\n",
      " |          commit_message (`str`, *optional*, defaults to `\"Upload tool\"`):\n",
      " |              Message to commit while pushing.\n",
      " |          private (`bool`, *optional*):\n",
      " |              Whether to make the repo private. If `None` (default), the repo will be public unless the organization's default is private. This value is ignored if the repo already exists.\n",
      " |          token (`bool` or `str`, *optional*):\n",
      " |              The token to use as HTTP bearer authorization for remote files. If unset, will use the token generated\n",
      " |              when running `huggingface-cli login` (stored in `~/.huggingface`).\n",
      " |          create_pr (`bool`, *optional*, defaults to `False`):\n",
      " |              Whether to create a PR with the uploaded files or directly commit.\n",
      " |  \n",
      " |  save(self, output_dir: 'str | Path', tool_file_name: 'str' = 'tool', make_gradio_app: 'bool' = True)\n",
      " |      Saves the relevant code files for your tool so it can be pushed to the Hub. This will copy the code of your\n",
      " |      tool in `output_dir` as well as autogenerate:\n",
      " |      \n",
      " |      - a `{tool_file_name}.py` file containing the logic for your tool.\n",
      " |      If you pass `make_gradio_app=True`, this will also write:\n",
      " |      - an `app.py` file providing a UI for your tool when it is exported to a Space with `tool.push_to_hub()`\n",
      " |      - a `requirements.txt` containing the names of the modules used by your tool (as detected when inspecting its\n",
      " |        code)\n",
      " |      \n",
      " |      Args:\n",
      " |          output_dir (`str` or `Path`): The folder in which you want to save your tool.\n",
      " |          tool_file_name (`str`, *optional*): The file name in which you want to save your tool.\n",
      " |          make_gradio_app (`bool`, *optional*, defaults to True): Whether to also export a `requirements.txt` file and Gradio UI.\n",
      " |  \n",
      " |  setup(self)\n",
      " |      Overwrite this method here for any operation that is expensive and needs to be executed before you start using\n",
      " |      your tool. Such as loading a big model.\n",
      " |  \n",
      " |  to_code_prompt(self) -> 'str'\n",
      " |  \n",
      " |  to_dict(self) -> 'dict'\n",
      " |      Returns a dictionary representing the tool\n",
      " |  \n",
      " |  to_tool_calling_prompt(self) -> 'str'\n",
      " |  \n",
      " |  validate_arguments(self)\n",
      " |  \n",
      " |  ----------------------------------------------------------------------\n",
      " |  Class methods inherited from Tool:\n",
      " |  \n",
      " |  __init_subclass__(**kwargs) from abc.ABCMeta\n",
      " |      This method is called when a class is subclassed.\n",
      " |      \n",
      " |      The default implementation does nothing. It may be\n",
      " |      overridden to extend subclasses.\n",
      " |  \n",
      " |  from_code(tool_code: 'str', **kwargs) from abc.ABCMeta\n",
      " |  \n",
      " |  from_dict(tool_dict: 'dict[str, Any]', **kwargs) -> \"'Tool'\" from abc.ABCMeta\n",
      " |      Create tool from a dictionary representation.\n",
      " |      \n",
      " |      Args:\n",
      " |          tool_dict (`dict[str, Any]`): Dictionary representation of the tool.\n",
      " |          **kwargs: Additional keyword arguments to pass to the tool's constructor.\n",
      " |      \n",
      " |      Returns:\n",
      " |          `Tool`: Tool object.\n",
      " |  \n",
      " |  from_hub(repo_id: 'str', token: 'str | None' = None, trust_remote_code: 'bool' = False, **kwargs) from abc.ABCMeta\n",
      " |      Loads a tool defined on the Hub.\n",
      " |      \n",
      " |      <Tip warning={true}>\n",
      " |      \n",
      " |      Loading a tool from the Hub means that you'll download the tool and execute it locally.\n",
      " |      ALWAYS inspect the tool you're downloading before loading it within your runtime, as you would do when\n",
      " |      installing a package using pip/npm/apt.\n",
      " |      \n",
      " |      </Tip>\n",
      " |      \n",
      " |      Args:\n",
      " |          repo_id (`str`):\n",
      " |              The name of the Space repo on the Hub where your tool is defined.\n",
      " |          token (`str`, *optional*):\n",
      " |              The token to identify you on hf.co. If unset, will use the token generated when running\n",
      " |              `huggingface-cli login` (stored in `~/.huggingface`).\n",
      " |          trust_remote_code(`str`, *optional*, defaults to False):\n",
      " |              This flags marks that you understand the risk of running remote code and that you trust this tool.\n",
      " |              If not setting this to True, loading the tool from Hub will fail.\n",
      " |          kwargs (additional keyword arguments, *optional*):\n",
      " |              Additional keyword arguments that will be split in two: all arguments relevant to the Hub (such as\n",
      " |              `cache_dir`, `revision`, `subfolder`) will be used when downloading the files for your tool, and the\n",
      " |              others will be passed along to its init.\n",
      " |  \n",
      " |  ----------------------------------------------------------------------\n",
      " |  Static methods inherited from Tool:\n",
      " |  \n",
      " |  from_gradio(gradio_tool)\n",
      " |      Creates a [`Tool`] from a gradio tool.\n",
      " |  \n",
      " |  from_langchain(langchain_tool)\n",
      " |      Creates a [`Tool`] from a langchain tool.\n",
      " |  \n",
      " |  from_space(space_id: 'str', name: 'str', description: 'str', api_name: 'str | None' = None, token: 'str | None' = None)\n",
      " |      Creates a [`Tool`] from a Space given its id on the Hub.\n",
      " |      \n",
      " |      Args:\n",
      " |          space_id (`str`):\n",
      " |              The id of the Space on the Hub.\n",
      " |          name (`str`):\n",
      " |              The name of the tool.\n",
      " |          description (`str`):\n",
      " |              The description of the tool.\n",
      " |          api_name (`str`, *optional*):\n",
      " |              The specific api_name to use, if the space has several tabs. If not precised, will default to the first available api.\n",
      " |          token (`str`, *optional*):\n",
      " |              Add your token to access private spaces or increase your GPU quotas.\n",
      " |      Returns:\n",
      " |          [`Tool`]:\n",
      " |              The Space, as a tool.\n",
      " |      \n",
      " |      Examples:\n",
      " |      ```py\n",
      " |      >>> image_generator = Tool.from_space(\n",
      " |      ...     space_id=\"black-forest-labs/FLUX.1-schnell\",\n",
      " |      ...     name=\"image-generator\",\n",
      " |      ...     description=\"Generate an image from a prompt\"\n",
      " |      ... )\n",
      " |      >>> image = image_generator(\"Generate an image of a cool surfer in Tahiti\")\n",
      " |      ```\n",
      " |      ```py\n",
      " |      >>> face_swapper = Tool.from_space(\n",
      " |      ...     \"tuan2308/face-swap\",\n",
      " |      ...     \"face_swapper\",\n",
      " |      ...     \"Tool that puts the face shown on the first image on the second image. You can give it paths to images.\",\n",
      " |      ... )\n",
      " |      >>> image = face_swapper('./aymeric.jpeg', './ruth.jpg')\n",
      " |      ```\n",
      " |  \n",
      " |  ----------------------------------------------------------------------\n",
      " |  Data descriptors inherited from BaseTool:\n",
      " |  \n",
      " |  __dict__\n",
      " |      dictionary for instance variables (if defined)\n",
      " |  \n",
      " |  __weakref__\n",
      " |      list of weak references to the object (if defined)\n",
      "\n"
     ]
    }
   ],
   "source": [
    "help(get_stock_level)"
   ]
  },
  {
   "cell_type": "code",
   "execution_count": 16,
   "metadata": {},
   "outputs": [
    {
     "data": {
      "text/html": [
       "<div>\n",
       "<style scoped>\n",
       "    .dataframe tbody tr th:only-of-type {\n",
       "        vertical-align: middle;\n",
       "    }\n",
       "\n",
       "    .dataframe tbody tr th {\n",
       "        vertical-align: top;\n",
       "    }\n",
       "\n",
       "    .dataframe thead th {\n",
       "        text-align: right;\n",
       "    }\n",
       "</style>\n",
       "<table border=\"1\" class=\"dataframe\">\n",
       "  <thead>\n",
       "    <tr style=\"text-align: right;\">\n",
       "      <th></th>\n",
       "      <th>item_name</th>\n",
       "      <th>current_stock</th>\n",
       "    </tr>\n",
       "  </thead>\n",
       "  <tbody>\n",
       "    <tr>\n",
       "      <th>0</th>\n",
       "      <td>Paper plates</td>\n",
       "      <td>748.0</td>\n",
       "    </tr>\n",
       "  </tbody>\n",
       "</table>\n",
       "</div>"
      ],
      "text/plain": [
       "      item_name  current_stock\n",
       "0  Paper plates          748.0"
      ]
     },
     "execution_count": 16,
     "metadata": {},
     "output_type": "execute_result"
    }
   ],
   "source": [
    "get_stock_level(item_name=\"Paper plates\", as_of_date=\"2025-04-30\")"
   ]
  },
  {
   "cell_type": "code",
   "execution_count": 22,
   "metadata": {},
   "outputs": [
    {
     "name": "stdout",
     "output_type": "stream",
     "text": [
      "{\n",
      "    \"as_of_date\": \"2025-01-02\",\n",
      "    \"cash_balance\": 45059.7,\n",
      "    \"inventory_value\": 4940.299999999999,\n",
      "    \"total_assets\": 50000.0,\n",
      "    \"inventory_summary\": [\n",
      "        {\n",
      "            \"item_name\": \"Paper plates\",\n",
      "            \"stock\": 748.0,\n",
      "            \"unit_price\": 0.1,\n",
      "            \"value\": 74.8\n",
      "        },\n",
      "        {\n",
      "            \"item_name\": \"100 lb cover stock\",\n",
      "            \"stock\": 636.0,\n",
      "            \"unit_price\": 0.5,\n",
      "            \"value\": 318.0\n",
      "        },\n",
      "        {\n",
      "            \"item_name\": \"Glossy paper\",\n",
      "            \"stock\": 587.0,\n",
      "            \"unit_price\": 0.2,\n",
      "            \"value\": 117.4\n",
      "        },\n",
      "        {\n",
      "            \"item_name\": \"Rolls of banner paper (36-inch width)\",\n",
      "            \"stock\": 546.0,\n",
      "            \"unit_price\": 2.5,\n",
      "            \"value\": 1365.0\n",
      "        },\n",
      "        {\n",
      "            \"item_name\": \"Photo paper\",\n",
      "            \"stock\": 423.0,\n",
      "            \"unit_price\": 0.25,\n",
      "            \"value\": 105.75\n",
      "        },\n",
      "        {\n",
      "            \"item_name\": \"Cardstock\",\n",
      "            \"stock\": 595.0,\n",
      "            \"unit_price\": 0.15,\n",
      "            \"value\": 89.25\n",
      "        },\n",
      "        {\n",
      "            \"item_name\": \"Colored paper\",\n",
      "            \"stock\": 788.0,\n",
      "            \"unit_price\": 0.1,\n",
      "            \"value\": 78.80000000000001\n",
      "        },\n",
      "        {\n",
      "            \"item_name\": \"80 lb text paper\",\n",
      "            \"stock\": 249.0,\n",
      "            \"unit_price\": 0.4,\n",
      "            \"value\": 99.60000000000001\n",
      "        },\n",
      "        {\n",
      "            \"item_name\": \"Large poster paper (24x36 inches)\",\n",
      "            \"stock\": 699.0,\n",
      "            \"unit_price\": 1.0,\n",
      "            \"value\": 699.0\n",
      "        },\n",
      "        {\n",
      "            \"item_name\": \"Table covers\",\n",
      "            \"stock\": 736.0,\n",
      "            \"unit_price\": 1.5,\n",
      "            \"value\": 1104.0\n",
      "        },\n",
      "        {\n",
      "            \"item_name\": \"Butcher paper\",\n",
      "            \"stock\": 365.0,\n",
      "            \"unit_price\": 0.1,\n",
      "            \"value\": 36.5\n",
      "        },\n",
      "        {\n",
      "            \"item_name\": \"Kraft paper\",\n",
      "            \"stock\": 493.0,\n",
      "            \"unit_price\": 0.1,\n",
      "            \"value\": 49.300000000000004\n",
      "        },\n",
      "        {\n",
      "            \"item_name\": \"Banner paper\",\n",
      "            \"stock\": 793.0,\n",
      "            \"unit_price\": 0.3,\n",
      "            \"value\": 237.89999999999998\n",
      "        },\n",
      "        {\n",
      "            \"item_name\": \"Presentation folders\",\n",
      "            \"stock\": 389.0,\n",
      "            \"unit_price\": 0.5,\n",
      "            \"value\": 194.5\n",
      "        },\n",
      "        {\n",
      "            \"item_name\": \"Patterned paper\",\n",
      "            \"stock\": 548.0,\n",
      "            \"unit_price\": 0.15,\n",
      "            \"value\": 82.2\n",
      "        },\n",
      "        {\n",
      "            \"item_name\": \"A4 paper\",\n",
      "            \"stock\": 272.0,\n",
      "            \"unit_price\": 0.05,\n",
      "            \"value\": 13.600000000000001\n",
      "        },\n",
      "        {\n",
      "            \"item_name\": \"Invitation cards\",\n",
      "            \"stock\": 526.0,\n",
      "            \"unit_price\": 0.5,\n",
      "            \"value\": 263.0\n",
      "        },\n",
      "        {\n",
      "            \"item_name\": \"Crepe paper\",\n",
      "            \"stock\": 234.0,\n",
      "            \"unit_price\": 0.05,\n",
      "            \"value\": 11.700000000000001\n",
      "        }\n",
      "    ],\n",
      "    \"top_selling_products\": [\n",
      "        {\n",
      "            \"item_name\": null,\n",
      "            \"total_units\": null,\n",
      "            \"total_revenue\": 50000.0\n",
      "        }\n",
      "    ]\n",
      "}\n"
     ]
    }
   ],
   "source": [
    "print(json.dumps(generate_financial_report(as_of_date=\"2025-01-02\"), indent=4))"
   ]
  },
  {
   "cell_type": "code",
   "execution_count": 30,
   "metadata": {},
   "outputs": [
    {
     "data": {
      "text/plain": [
       "45059.7"
      ]
     },
     "execution_count": 30,
     "metadata": {},
     "output_type": "execute_result"
    }
   ],
   "source": [
    "get_cash_balance(as_of_date=\"2025-01-02\")"
   ]
  },
  {
   "cell_type": "code",
   "execution_count": 24,
   "metadata": {},
   "outputs": [
    {
     "name": "stdout",
     "output_type": "stream",
     "text": [
      "{'as_of_date': '2025-01-02', 'cash_balance': 45059.7, 'inventory_value': np.float64(4940.299999999999), 'total_assets': np.float64(50000.0), 'inventory_summary': [{'item_name': 'Paper plates', 'stock': np.float64(748.0), 'unit_price': 0.1, 'value': np.float64(74.8)}, {'item_name': '100 lb cover stock', 'stock': np.float64(636.0), 'unit_price': 0.5, 'value': np.float64(318.0)}, {'item_name': 'Glossy paper', 'stock': np.float64(587.0), 'unit_price': 0.2, 'value': np.float64(117.4)}, {'item_name': 'Rolls of banner paper (36-inch width)', 'stock': np.float64(546.0), 'unit_price': 2.5, 'value': np.float64(1365.0)}, {'item_name': 'Photo paper', 'stock': np.float64(423.0), 'unit_price': 0.25, 'value': np.float64(105.75)}, {'item_name': 'Cardstock', 'stock': np.float64(595.0), 'unit_price': 0.15, 'value': np.float64(89.25)}, {'item_name': 'Colored paper', 'stock': np.float64(788.0), 'unit_price': 0.1, 'value': np.float64(78.80000000000001)}, {'item_name': '80 lb text paper', 'stock': np.float64(249.0), 'unit_price': 0.4, 'value': np.float64(99.60000000000001)}, {'item_name': 'Large poster paper (24x36 inches)', 'stock': np.float64(699.0), 'unit_price': 1.0, 'value': np.float64(699.0)}, {'item_name': 'Table covers', 'stock': np.float64(736.0), 'unit_price': 1.5, 'value': np.float64(1104.0)}, {'item_name': 'Butcher paper', 'stock': np.float64(365.0), 'unit_price': 0.1, 'value': np.float64(36.5)}, {'item_name': 'Kraft paper', 'stock': np.float64(493.0), 'unit_price': 0.1, 'value': np.float64(49.300000000000004)}, {'item_name': 'Banner paper', 'stock': np.float64(793.0), 'unit_price': 0.3, 'value': np.float64(237.89999999999998)}, {'item_name': 'Presentation folders', 'stock': np.float64(389.0), 'unit_price': 0.5, 'value': np.float64(194.5)}, {'item_name': 'Patterned paper', 'stock': np.float64(548.0), 'unit_price': 0.15, 'value': np.float64(82.2)}, {'item_name': 'A4 paper', 'stock': np.float64(272.0), 'unit_price': 0.05, 'value': np.float64(13.600000000000001)}, {'item_name': 'Invitation cards', 'stock': np.float64(526.0), 'unit_price': 0.5, 'value': np.float64(263.0)}, {'item_name': 'Crepe paper', 'stock': np.float64(234.0), 'unit_price': 0.05, 'value': np.float64(11.700000000000001)}], 'top_selling_products': [{'item_name': None, 'total_units': None, 'total_revenue': 50000.0}]}\n"
     ]
    }
   ],
   "source": [
    "report = generate_financial_report(\"2025-01-02\")\n",
    "print(report)"
   ]
  },
  {
   "cell_type": "code",
   "execution_count": 26,
   "metadata": {},
   "outputs": [
    {
     "data": {
      "text/plain": [
       "dict_keys(['as_of_date', 'cash_balance', 'inventory_value', 'total_assets', 'inventory_summary', 'top_selling_products'])"
      ]
     },
     "execution_count": 26,
     "metadata": {},
     "output_type": "execute_result"
    }
   ],
   "source": [
    "report.keys()"
   ]
  },
  {
   "cell_type": "code",
   "execution_count": 27,
   "metadata": {},
   "outputs": [
    {
     "data": {
      "text/plain": [
       "[{'item_name': 'Paper plates',\n",
       "  'stock': np.float64(748.0),\n",
       "  'unit_price': 0.1,\n",
       "  'value': np.float64(74.8)},\n",
       " {'item_name': '100 lb cover stock',\n",
       "  'stock': np.float64(636.0),\n",
       "  'unit_price': 0.5,\n",
       "  'value': np.float64(318.0)},\n",
       " {'item_name': 'Glossy paper',\n",
       "  'stock': np.float64(587.0),\n",
       "  'unit_price': 0.2,\n",
       "  'value': np.float64(117.4)},\n",
       " {'item_name': 'Rolls of banner paper (36-inch width)',\n",
       "  'stock': np.float64(546.0),\n",
       "  'unit_price': 2.5,\n",
       "  'value': np.float64(1365.0)},\n",
       " {'item_name': 'Photo paper',\n",
       "  'stock': np.float64(423.0),\n",
       "  'unit_price': 0.25,\n",
       "  'value': np.float64(105.75)},\n",
       " {'item_name': 'Cardstock',\n",
       "  'stock': np.float64(595.0),\n",
       "  'unit_price': 0.15,\n",
       "  'value': np.float64(89.25)},\n",
       " {'item_name': 'Colored paper',\n",
       "  'stock': np.float64(788.0),\n",
       "  'unit_price': 0.1,\n",
       "  'value': np.float64(78.80000000000001)},\n",
       " {'item_name': '80 lb text paper',\n",
       "  'stock': np.float64(249.0),\n",
       "  'unit_price': 0.4,\n",
       "  'value': np.float64(99.60000000000001)},\n",
       " {'item_name': 'Large poster paper (24x36 inches)',\n",
       "  'stock': np.float64(699.0),\n",
       "  'unit_price': 1.0,\n",
       "  'value': np.float64(699.0)},\n",
       " {'item_name': 'Table covers',\n",
       "  'stock': np.float64(736.0),\n",
       "  'unit_price': 1.5,\n",
       "  'value': np.float64(1104.0)},\n",
       " {'item_name': 'Butcher paper',\n",
       "  'stock': np.float64(365.0),\n",
       "  'unit_price': 0.1,\n",
       "  'value': np.float64(36.5)},\n",
       " {'item_name': 'Kraft paper',\n",
       "  'stock': np.float64(493.0),\n",
       "  'unit_price': 0.1,\n",
       "  'value': np.float64(49.300000000000004)},\n",
       " {'item_name': 'Banner paper',\n",
       "  'stock': np.float64(793.0),\n",
       "  'unit_price': 0.3,\n",
       "  'value': np.float64(237.89999999999998)},\n",
       " {'item_name': 'Presentation folders',\n",
       "  'stock': np.float64(389.0),\n",
       "  'unit_price': 0.5,\n",
       "  'value': np.float64(194.5)},\n",
       " {'item_name': 'Patterned paper',\n",
       "  'stock': np.float64(548.0),\n",
       "  'unit_price': 0.15,\n",
       "  'value': np.float64(82.2)},\n",
       " {'item_name': 'A4 paper',\n",
       "  'stock': np.float64(272.0),\n",
       "  'unit_price': 0.05,\n",
       "  'value': np.float64(13.600000000000001)},\n",
       " {'item_name': 'Invitation cards',\n",
       "  'stock': np.float64(526.0),\n",
       "  'unit_price': 0.5,\n",
       "  'value': np.float64(263.0)},\n",
       " {'item_name': 'Crepe paper',\n",
       "  'stock': np.float64(234.0),\n",
       "  'unit_price': 0.05,\n",
       "  'value': np.float64(11.700000000000001)}]"
      ]
     },
     "execution_count": 27,
     "metadata": {},
     "output_type": "execute_result"
    }
   ],
   "source": [
    "report['inventory_summary']"
   ]
  },
  {
   "cell_type": "code",
   "execution_count": 15,
   "metadata": {},
   "outputs": [
    {
     "name": "stdout",
     "output_type": "stream",
     "text": [
      "Help on function search_quote_history in module utils:\n",
      "\n",
      "search_quote_history(search_terms: List[str], limit: int = 5, db_engine=Engine(sqlite:///beaver.db)) -> List[Dict]\n",
      "    Retrieve a list of historical quotes that match any of the provided search terms.\n",
      "    \n",
      "    The function searches both the original customer request (from `quote_requests`) and\n",
      "    the explanation for the quote (from `quotes`) for each keyword. Results are sorted by\n",
      "    most recent order date and limited by the `limit` parameter.\n",
      "    \n",
      "    Args:\n",
      "        search_terms (List[str]): List of terms to match against customer requests and explanations.\n",
      "        limit (int, optional): Maximum number of quote records to return. Default is 5.\n",
      "    \n",
      "    Returns:\n",
      "        List[Dict]: A list of matching quotes, each represented as a dictionary with fields:\n",
      "            - original_request\n",
      "            - total_amount\n",
      "            - quote_explanation\n",
      "            - job_type\n",
      "            - order_size\n",
      "            - event_type\n",
      "            - order_date\n",
      "\n"
     ]
    }
   ],
   "source": [
    "help(search_quote_history)"
   ]
  },
  {
   "cell_type": "code",
   "execution_count": 29,
   "metadata": {},
   "outputs": [
    {
     "data": {
      "text/plain": [
       "[]"
      ]
     },
     "execution_count": 29,
     "metadata": {},
     "output_type": "execute_result"
    }
   ],
   "source": [
    "search_quote_history(search_terms=['meeting','large','glossy paper'])"
   ]
  },
  {
   "cell_type": "code",
   "execution_count": 32,
   "metadata": {},
   "outputs": [
    {
     "name": "stdout",
     "output_type": "stream",
     "text": [
      "FUNC (get_supplier_delivery_date): Calculating for qty 500 from date string '2025-01-02'\n"
     ]
    },
    {
     "data": {
      "text/plain": [
       "'2025-01-06'"
      ]
     },
     "execution_count": 32,
     "metadata": {},
     "output_type": "execute_result"
    }
   ],
   "source": [
    "get_supplier_delivery_date(input_date_str=\"2025-01-02\", quantity=500)"
   ]
  },
  {
   "cell_type": "code",
   "execution_count": 33,
   "metadata": {},
   "outputs": [
    {
     "name": "stdout",
     "output_type": "stream",
     "text": [
      "Help on function create_transaction in module utils:\n",
      "\n",
      "create_transaction(item_name: str, transaction_type: str, quantity: int, price: float, date: Union[str, datetime.datetime], db_engine: Engine(sqlite:///beaver.db)) -> int\n",
      "    This function records a transaction of type 'stock_orders' or 'sales' with a specified\n",
      "    item name, quantity, total price, and transaction date into the 'transactions' table of the database.\n",
      "    \n",
      "    Args:\n",
      "        item_name (str): The name of the item involved in the transaction.\n",
      "        transaction_type (str): Either 'stock_orders' or 'sales'.\n",
      "        quantity (int): Number of units involved in the transaction.\n",
      "        price (float): Total price of the transaction.\n",
      "        date (str or datetime): Date of the transaction in ISO 8601 format.\n",
      "    \n",
      "    Returns:\n",
      "        int: The ID of the newly inserted transaction.\n",
      "    \n",
      "    Raises:\n",
      "        ValueError: If `transaction_type` is not 'stock_orders' or 'sales'.\n",
      "        Exception: For other database or execution errors.\n",
      "\n"
     ]
    }
   ],
   "source": [
    "help(create_transaction)"
   ]
  },
  {
   "cell_type": "code",
   "execution_count": 43,
   "metadata": {},
   "outputs": [
    {
     "data": {
      "text/plain": [
       "20"
      ]
     },
     "execution_count": 43,
     "metadata": {},
     "output_type": "execute_result"
    }
   ],
   "source": [
    "create_transaction(\n",
    "    item_name=\"Paper plates\", \n",
    "    date=\"2025-01-03\",\n",
    "    quantity=100,\n",
    "    transaction_type='stock_orders',\n",
    "    price=100*10\n",
    ")"
   ]
  },
  {
   "cell_type": "code",
   "execution_count": 45,
   "metadata": {},
   "outputs": [
    {
     "name": "stdout",
     "output_type": "stream",
     "text": [
      "inventory\n"
     ]
    },
    {
     "data": {
      "text/html": [
       "<div>\n",
       "<style scoped>\n",
       "    .dataframe tbody tr th:only-of-type {\n",
       "        vertical-align: middle;\n",
       "    }\n",
       "\n",
       "    .dataframe tbody tr th {\n",
       "        vertical-align: top;\n",
       "    }\n",
       "\n",
       "    .dataframe thead th {\n",
       "        text-align: right;\n",
       "    }\n",
       "</style>\n",
       "<table border=\"1\" class=\"dataframe\">\n",
       "  <thead>\n",
       "    <tr style=\"text-align: right;\">\n",
       "      <th></th>\n",
       "      <th>item_name</th>\n",
       "      <th>category</th>\n",
       "      <th>unit_price</th>\n",
       "      <th>current_stock</th>\n",
       "      <th>min_stock_level</th>\n",
       "    </tr>\n",
       "  </thead>\n",
       "  <tbody>\n",
       "    <tr>\n",
       "      <th>0</th>\n",
       "      <td>Paper plates</td>\n",
       "      <td>product</td>\n",
       "      <td>0.10</td>\n",
       "      <td>748</td>\n",
       "      <td>144</td>\n",
       "    </tr>\n",
       "    <tr>\n",
       "      <th>1</th>\n",
       "      <td>100 lb cover stock</td>\n",
       "      <td>specialty</td>\n",
       "      <td>0.50</td>\n",
       "      <td>636</td>\n",
       "      <td>85</td>\n",
       "    </tr>\n",
       "    <tr>\n",
       "      <th>2</th>\n",
       "      <td>Glossy paper</td>\n",
       "      <td>paper</td>\n",
       "      <td>0.20</td>\n",
       "      <td>587</td>\n",
       "      <td>147</td>\n",
       "    </tr>\n",
       "    <tr>\n",
       "      <th>3</th>\n",
       "      <td>Rolls of banner paper (36-inch width)</td>\n",
       "      <td>large_format</td>\n",
       "      <td>2.50</td>\n",
       "      <td>546</td>\n",
       "      <td>65</td>\n",
       "    </tr>\n",
       "    <tr>\n",
       "      <th>4</th>\n",
       "      <td>Photo paper</td>\n",
       "      <td>paper</td>\n",
       "      <td>0.25</td>\n",
       "      <td>423</td>\n",
       "      <td>58</td>\n",
       "    </tr>\n",
       "    <tr>\n",
       "      <th>5</th>\n",
       "      <td>Cardstock</td>\n",
       "      <td>paper</td>\n",
       "      <td>0.15</td>\n",
       "      <td>595</td>\n",
       "      <td>148</td>\n",
       "    </tr>\n",
       "    <tr>\n",
       "      <th>6</th>\n",
       "      <td>Colored paper</td>\n",
       "      <td>paper</td>\n",
       "      <td>0.10</td>\n",
       "      <td>788</td>\n",
       "      <td>143</td>\n",
       "    </tr>\n",
       "    <tr>\n",
       "      <th>7</th>\n",
       "      <td>80 lb text paper</td>\n",
       "      <td>specialty</td>\n",
       "      <td>0.40</td>\n",
       "      <td>249</td>\n",
       "      <td>91</td>\n",
       "    </tr>\n",
       "    <tr>\n",
       "      <th>8</th>\n",
       "      <td>Large poster paper (24x36 inches)</td>\n",
       "      <td>large_format</td>\n",
       "      <td>1.00</td>\n",
       "      <td>699</td>\n",
       "      <td>89</td>\n",
       "    </tr>\n",
       "    <tr>\n",
       "      <th>9</th>\n",
       "      <td>Table covers</td>\n",
       "      <td>product</td>\n",
       "      <td>1.50</td>\n",
       "      <td>736</td>\n",
       "      <td>77</td>\n",
       "    </tr>\n",
       "    <tr>\n",
       "      <th>10</th>\n",
       "      <td>Butcher paper</td>\n",
       "      <td>paper</td>\n",
       "      <td>0.10</td>\n",
       "      <td>365</td>\n",
       "      <td>80</td>\n",
       "    </tr>\n",
       "    <tr>\n",
       "      <th>11</th>\n",
       "      <td>Kraft paper</td>\n",
       "      <td>paper</td>\n",
       "      <td>0.10</td>\n",
       "      <td>493</td>\n",
       "      <td>64</td>\n",
       "    </tr>\n",
       "    <tr>\n",
       "      <th>12</th>\n",
       "      <td>Banner paper</td>\n",
       "      <td>paper</td>\n",
       "      <td>0.30</td>\n",
       "      <td>793</td>\n",
       "      <td>128</td>\n",
       "    </tr>\n",
       "    <tr>\n",
       "      <th>13</th>\n",
       "      <td>Presentation folders</td>\n",
       "      <td>product</td>\n",
       "      <td>0.50</td>\n",
       "      <td>389</td>\n",
       "      <td>97</td>\n",
       "    </tr>\n",
       "    <tr>\n",
       "      <th>14</th>\n",
       "      <td>Patterned paper</td>\n",
       "      <td>paper</td>\n",
       "      <td>0.15</td>\n",
       "      <td>548</td>\n",
       "      <td>119</td>\n",
       "    </tr>\n",
       "    <tr>\n",
       "      <th>15</th>\n",
       "      <td>A4 paper</td>\n",
       "      <td>paper</td>\n",
       "      <td>0.05</td>\n",
       "      <td>272</td>\n",
       "      <td>135</td>\n",
       "    </tr>\n",
       "    <tr>\n",
       "      <th>16</th>\n",
       "      <td>Invitation cards</td>\n",
       "      <td>product</td>\n",
       "      <td>0.50</td>\n",
       "      <td>526</td>\n",
       "      <td>149</td>\n",
       "    </tr>\n",
       "    <tr>\n",
       "      <th>17</th>\n",
       "      <td>Crepe paper</td>\n",
       "      <td>paper</td>\n",
       "      <td>0.05</td>\n",
       "      <td>234</td>\n",
       "      <td>104</td>\n",
       "    </tr>\n",
       "  </tbody>\n",
       "</table>\n",
       "</div>"
      ],
      "text/plain": [
       "                                item_name      category  unit_price  \\\n",
       "0                            Paper plates       product        0.10   \n",
       "1                      100 lb cover stock     specialty        0.50   \n",
       "2                            Glossy paper         paper        0.20   \n",
       "3   Rolls of banner paper (36-inch width)  large_format        2.50   \n",
       "4                             Photo paper         paper        0.25   \n",
       "5                               Cardstock         paper        0.15   \n",
       "6                           Colored paper         paper        0.10   \n",
       "7                        80 lb text paper     specialty        0.40   \n",
       "8       Large poster paper (24x36 inches)  large_format        1.00   \n",
       "9                            Table covers       product        1.50   \n",
       "10                          Butcher paper         paper        0.10   \n",
       "11                            Kraft paper         paper        0.10   \n",
       "12                           Banner paper         paper        0.30   \n",
       "13                   Presentation folders       product        0.50   \n",
       "14                        Patterned paper         paper        0.15   \n",
       "15                               A4 paper         paper        0.05   \n",
       "16                       Invitation cards       product        0.50   \n",
       "17                            Crepe paper         paper        0.05   \n",
       "\n",
       "    current_stock  min_stock_level  \n",
       "0             748              144  \n",
       "1             636               85  \n",
       "2             587              147  \n",
       "3             546               65  \n",
       "4             423               58  \n",
       "5             595              148  \n",
       "6             788              143  \n",
       "7             249               91  \n",
       "8             699               89  \n",
       "9             736               77  \n",
       "10            365               80  \n",
       "11            493               64  \n",
       "12            793              128  \n",
       "13            389               97  \n",
       "14            548              119  \n",
       "15            272              135  \n",
       "16            526              149  \n",
       "17            234              104  "
      ]
     },
     "metadata": {},
     "output_type": "display_data"
    },
    {
     "name": "stdout",
     "output_type": "stream",
     "text": [
      "quote_requests\n"
     ]
    },
    {
     "data": {
      "text/html": [
       "<div>\n",
       "<style scoped>\n",
       "    .dataframe tbody tr th:only-of-type {\n",
       "        vertical-align: middle;\n",
       "    }\n",
       "\n",
       "    .dataframe tbody tr th {\n",
       "        vertical-align: top;\n",
       "    }\n",
       "\n",
       "    .dataframe thead th {\n",
       "        text-align: right;\n",
       "    }\n",
       "</style>\n",
       "<table border=\"1\" class=\"dataframe\">\n",
       "  <thead>\n",
       "    <tr style=\"text-align: right;\">\n",
       "      <th></th>\n",
       "      <th>mood</th>\n",
       "      <th>job</th>\n",
       "      <th>need_size</th>\n",
       "      <th>event</th>\n",
       "      <th>response</th>\n",
       "      <th>id</th>\n",
       "    </tr>\n",
       "  </thead>\n",
       "  <tbody>\n",
       "    <tr>\n",
       "      <th>0</th>\n",
       "      <td>stressed</td>\n",
       "      <td>event manager</td>\n",
       "      <td>large</td>\n",
       "      <td>meeting</td>\n",
       "      <td>I would like to request a large order of high-...</td>\n",
       "      <td>1</td>\n",
       "    </tr>\n",
       "    <tr>\n",
       "      <th>1</th>\n",
       "      <td>pissed off</td>\n",
       "      <td>school board resouorce manager</td>\n",
       "      <td>large</td>\n",
       "      <td>meeting</td>\n",
       "      <td>I need to order 10 reams of standard copy pape...</td>\n",
       "      <td>2</td>\n",
       "    </tr>\n",
       "    <tr>\n",
       "      <th>2</th>\n",
       "      <td>miserable</td>\n",
       "      <td>event manager</td>\n",
       "      <td>small</td>\n",
       "      <td>festival</td>\n",
       "      <td>I would like to place an order for 500 sheets ...</td>\n",
       "      <td>3</td>\n",
       "    </tr>\n",
       "    <tr>\n",
       "      <th>3</th>\n",
       "      <td>pissed off</td>\n",
       "      <td>restaurant manager</td>\n",
       "      <td>small</td>\n",
       "      <td>concert</td>\n",
       "      <td>I need to order 1000 sheets of high-quality A4...</td>\n",
       "      <td>4</td>\n",
       "    </tr>\n",
       "    <tr>\n",
       "      <th>4</th>\n",
       "      <td>pissed off</td>\n",
       "      <td>school board resouorce manager</td>\n",
       "      <td>large</td>\n",
       "      <td>assembly</td>\n",
       "      <td>I need to order 500 sheets of A4 paper, 300 sh...</td>\n",
       "      <td>5</td>\n",
       "    </tr>\n",
       "    <tr>\n",
       "      <th>...</th>\n",
       "      <td>...</td>\n",
       "      <td>...</td>\n",
       "      <td>...</td>\n",
       "      <td>...</td>\n",
       "      <td>...</td>\n",
       "      <td>...</td>\n",
       "    </tr>\n",
       "    <tr>\n",
       "      <th>95</th>\n",
       "      <td>stressed</td>\n",
       "      <td>business owner</td>\n",
       "      <td>medium</td>\n",
       "      <td>gathering</td>\n",
       "      <td>I would like to place a medium order for the f...</td>\n",
       "      <td>96</td>\n",
       "    </tr>\n",
       "    <tr>\n",
       "      <th>96</th>\n",
       "      <td>sad</td>\n",
       "      <td>law firm receptionist</td>\n",
       "      <td>medium</td>\n",
       "      <td>celebration</td>\n",
       "      <td>I would like to place a medium order for the f...</td>\n",
       "      <td>97</td>\n",
       "    </tr>\n",
       "    <tr>\n",
       "      <th>97</th>\n",
       "      <td>stressed</td>\n",
       "      <td>school principal</td>\n",
       "      <td>medium</td>\n",
       "      <td>party</td>\n",
       "      <td>I would like to place a medium order for the f...</td>\n",
       "      <td>98</td>\n",
       "    </tr>\n",
       "    <tr>\n",
       "      <th>98</th>\n",
       "      <td>pissed off</td>\n",
       "      <td>hotel manager</td>\n",
       "      <td>medium</td>\n",
       "      <td>parade</td>\n",
       "      <td>I would like to place a medium order for the f...</td>\n",
       "      <td>99</td>\n",
       "    </tr>\n",
       "    <tr>\n",
       "      <th>99</th>\n",
       "      <td>happy</td>\n",
       "      <td>school teacher</td>\n",
       "      <td>small</td>\n",
       "      <td>gathering</td>\n",
       "      <td>I would like to order the following paper supp...</td>\n",
       "      <td>100</td>\n",
       "    </tr>\n",
       "  </tbody>\n",
       "</table>\n",
       "<p>100 rows × 6 columns</p>\n",
       "</div>"
      ],
      "text/plain": [
       "          mood                             job need_size        event  \\\n",
       "0     stressed                   event manager     large      meeting   \n",
       "1   pissed off  school board resouorce manager     large      meeting   \n",
       "2    miserable                   event manager     small     festival   \n",
       "3   pissed off              restaurant manager     small      concert   \n",
       "4   pissed off  school board resouorce manager     large     assembly   \n",
       "..         ...                             ...       ...          ...   \n",
       "95    stressed                  business owner    medium    gathering   \n",
       "96         sad           law firm receptionist    medium  celebration   \n",
       "97    stressed                school principal    medium        party   \n",
       "98  pissed off                   hotel manager    medium       parade   \n",
       "99       happy                  school teacher     small    gathering   \n",
       "\n",
       "                                             response   id  \n",
       "0   I would like to request a large order of high-...    1  \n",
       "1   I need to order 10 reams of standard copy pape...    2  \n",
       "2   I would like to place an order for 500 sheets ...    3  \n",
       "3   I need to order 1000 sheets of high-quality A4...    4  \n",
       "4   I need to order 500 sheets of A4 paper, 300 sh...    5  \n",
       "..                                                ...  ...  \n",
       "95  I would like to place a medium order for the f...   96  \n",
       "96  I would like to place a medium order for the f...   97  \n",
       "97  I would like to place a medium order for the f...   98  \n",
       "98  I would like to place a medium order for the f...   99  \n",
       "99  I would like to order the following paper supp...  100  \n",
       "\n",
       "[100 rows x 6 columns]"
      ]
     },
     "metadata": {},
     "output_type": "display_data"
    },
    {
     "name": "stdout",
     "output_type": "stream",
     "text": [
      "quotes\n"
     ]
    },
    {
     "data": {
      "text/html": [
       "<div>\n",
       "<style scoped>\n",
       "    .dataframe tbody tr th:only-of-type {\n",
       "        vertical-align: middle;\n",
       "    }\n",
       "\n",
       "    .dataframe tbody tr th {\n",
       "        vertical-align: top;\n",
       "    }\n",
       "\n",
       "    .dataframe thead th {\n",
       "        text-align: right;\n",
       "    }\n",
       "</style>\n",
       "<table border=\"1\" class=\"dataframe\">\n",
       "  <thead>\n",
       "    <tr style=\"text-align: right;\">\n",
       "      <th></th>\n",
       "      <th>request_id</th>\n",
       "      <th>total_amount</th>\n",
       "      <th>quote_explanation</th>\n",
       "      <th>order_date</th>\n",
       "      <th>job_type</th>\n",
       "      <th>order_size</th>\n",
       "      <th>event_type</th>\n",
       "    </tr>\n",
       "  </thead>\n",
       "  <tbody>\n",
       "    <tr>\n",
       "      <th>0</th>\n",
       "      <td>1</td>\n",
       "      <td>96</td>\n",
       "      <td>Thank you for your large order! We have calcul...</td>\n",
       "      <td>2025-01-01T00:00:00</td>\n",
       "      <td>event manager</td>\n",
       "      <td>large</td>\n",
       "      <td>meeting</td>\n",
       "    </tr>\n",
       "    <tr>\n",
       "      <th>1</th>\n",
       "      <td>2</td>\n",
       "      <td>60</td>\n",
       "      <td>For your order of 10 reams of standard copy pa...</td>\n",
       "      <td>2025-01-01T00:00:00</td>\n",
       "      <td>school board resouorce manager</td>\n",
       "      <td>large</td>\n",
       "      <td>meeting</td>\n",
       "    </tr>\n",
       "    <tr>\n",
       "      <th>2</th>\n",
       "      <td>3</td>\n",
       "      <td>780</td>\n",
       "      <td>Thank you for your order! For the 500 sheets o...</td>\n",
       "      <td>2025-01-01T00:00:00</td>\n",
       "      <td>event manager</td>\n",
       "      <td>small</td>\n",
       "      <td>festival</td>\n",
       "    </tr>\n",
       "    <tr>\n",
       "      <th>3</th>\n",
       "      <td>4</td>\n",
       "      <td>120</td>\n",
       "      <td>Thank you for your order! For 1000 sheets of h...</td>\n",
       "      <td>2025-01-01T00:00:00</td>\n",
       "      <td>restaurant manager</td>\n",
       "      <td>small</td>\n",
       "      <td>concert</td>\n",
       "    </tr>\n",
       "    <tr>\n",
       "      <th>4</th>\n",
       "      <td>5</td>\n",
       "      <td>122</td>\n",
       "      <td>Thank you for your order! For the upcoming ass...</td>\n",
       "      <td>2025-01-01T00:00:00</td>\n",
       "      <td>school board resouorce manager</td>\n",
       "      <td>large</td>\n",
       "      <td>assembly</td>\n",
       "    </tr>\n",
       "    <tr>\n",
       "      <th>...</th>\n",
       "      <td>...</td>\n",
       "      <td>...</td>\n",
       "      <td>...</td>\n",
       "      <td>...</td>\n",
       "      <td>...</td>\n",
       "      <td>...</td>\n",
       "      <td>...</td>\n",
       "    </tr>\n",
       "    <tr>\n",
       "      <th>95</th>\n",
       "      <td>96</td>\n",
       "      <td>80</td>\n",
       "      <td>Thank you for your order! For your upcoming ga...</td>\n",
       "      <td>2025-01-01T00:00:00</td>\n",
       "      <td>business owner</td>\n",
       "      <td>medium</td>\n",
       "      <td>gathering</td>\n",
       "    </tr>\n",
       "    <tr>\n",
       "      <th>96</th>\n",
       "      <td>97</td>\n",
       "      <td>300</td>\n",
       "      <td>Thank you for your order! For the supplies req...</td>\n",
       "      <td>2025-01-01T00:00:00</td>\n",
       "      <td>law firm receptionist</td>\n",
       "      <td>medium</td>\n",
       "      <td>celebration</td>\n",
       "    </tr>\n",
       "    <tr>\n",
       "      <th>97</th>\n",
       "      <td>98</td>\n",
       "      <td>126</td>\n",
       "      <td>Thank you for your order for the upcoming part...</td>\n",
       "      <td>2025-01-01T00:00:00</td>\n",
       "      <td>school principal</td>\n",
       "      <td>medium</td>\n",
       "      <td>party</td>\n",
       "    </tr>\n",
       "    <tr>\n",
       "      <th>98</th>\n",
       "      <td>99</td>\n",
       "      <td>189</td>\n",
       "      <td>Thank you for your order! I have calculated th...</td>\n",
       "      <td>2025-01-01T00:00:00</td>\n",
       "      <td>hotel manager</td>\n",
       "      <td>medium</td>\n",
       "      <td>parade</td>\n",
       "    </tr>\n",
       "    <tr>\n",
       "      <th>99</th>\n",
       "      <td>100</td>\n",
       "      <td>2000</td>\n",
       "      <td>Thank you for your order! For your gathering, ...</td>\n",
       "      <td>2025-01-01T00:00:00</td>\n",
       "      <td>school teacher</td>\n",
       "      <td>small</td>\n",
       "      <td>gathering</td>\n",
       "    </tr>\n",
       "  </tbody>\n",
       "</table>\n",
       "<p>100 rows × 7 columns</p>\n",
       "</div>"
      ],
      "text/plain": [
       "    request_id  total_amount  \\\n",
       "0            1            96   \n",
       "1            2            60   \n",
       "2            3           780   \n",
       "3            4           120   \n",
       "4            5           122   \n",
       "..         ...           ...   \n",
       "95          96            80   \n",
       "96          97           300   \n",
       "97          98           126   \n",
       "98          99           189   \n",
       "99         100          2000   \n",
       "\n",
       "                                    quote_explanation           order_date  \\\n",
       "0   Thank you for your large order! We have calcul...  2025-01-01T00:00:00   \n",
       "1   For your order of 10 reams of standard copy pa...  2025-01-01T00:00:00   \n",
       "2   Thank you for your order! For the 500 sheets o...  2025-01-01T00:00:00   \n",
       "3   Thank you for your order! For 1000 sheets of h...  2025-01-01T00:00:00   \n",
       "4   Thank you for your order! For the upcoming ass...  2025-01-01T00:00:00   \n",
       "..                                                ...                  ...   \n",
       "95  Thank you for your order! For your upcoming ga...  2025-01-01T00:00:00   \n",
       "96  Thank you for your order! For the supplies req...  2025-01-01T00:00:00   \n",
       "97  Thank you for your order for the upcoming part...  2025-01-01T00:00:00   \n",
       "98  Thank you for your order! I have calculated th...  2025-01-01T00:00:00   \n",
       "99  Thank you for your order! For your gathering, ...  2025-01-01T00:00:00   \n",
       "\n",
       "                          job_type order_size   event_type  \n",
       "0                    event manager      large      meeting  \n",
       "1   school board resouorce manager      large      meeting  \n",
       "2                    event manager      small     festival  \n",
       "3               restaurant manager      small      concert  \n",
       "4   school board resouorce manager      large     assembly  \n",
       "..                             ...        ...          ...  \n",
       "95                  business owner     medium    gathering  \n",
       "96           law firm receptionist     medium  celebration  \n",
       "97                school principal     medium        party  \n",
       "98                   hotel manager     medium       parade  \n",
       "99                  school teacher      small    gathering  \n",
       "\n",
       "[100 rows x 7 columns]"
      ]
     },
     "metadata": {},
     "output_type": "display_data"
    },
    {
     "name": "stdout",
     "output_type": "stream",
     "text": [
      "transactions\n"
     ]
    },
    {
     "data": {
      "text/html": [
       "<div>\n",
       "<style scoped>\n",
       "    .dataframe tbody tr th:only-of-type {\n",
       "        vertical-align: middle;\n",
       "    }\n",
       "\n",
       "    .dataframe tbody tr th {\n",
       "        vertical-align: top;\n",
       "    }\n",
       "\n",
       "    .dataframe thead th {\n",
       "        text-align: right;\n",
       "    }\n",
       "</style>\n",
       "<table border=\"1\" class=\"dataframe\">\n",
       "  <thead>\n",
       "    <tr style=\"text-align: right;\">\n",
       "      <th></th>\n",
       "      <th>id</th>\n",
       "      <th>item_name</th>\n",
       "      <th>transaction_type</th>\n",
       "      <th>units</th>\n",
       "      <th>price</th>\n",
       "      <th>transaction_date</th>\n",
       "    </tr>\n",
       "  </thead>\n",
       "  <tbody>\n",
       "    <tr>\n",
       "      <th>0</th>\n",
       "      <td>None</td>\n",
       "      <td>None</td>\n",
       "      <td>sales</td>\n",
       "      <td>NaN</td>\n",
       "      <td>50000.00</td>\n",
       "      <td>2025-01-01T00:00:00</td>\n",
       "    </tr>\n",
       "    <tr>\n",
       "      <th>1</th>\n",
       "      <td>None</td>\n",
       "      <td>Paper plates</td>\n",
       "      <td>stock_orders</td>\n",
       "      <td>748.0</td>\n",
       "      <td>74.80</td>\n",
       "      <td>2025-01-01T00:00:00</td>\n",
       "    </tr>\n",
       "    <tr>\n",
       "      <th>2</th>\n",
       "      <td>None</td>\n",
       "      <td>100 lb cover stock</td>\n",
       "      <td>stock_orders</td>\n",
       "      <td>636.0</td>\n",
       "      <td>318.00</td>\n",
       "      <td>2025-01-01T00:00:00</td>\n",
       "    </tr>\n",
       "    <tr>\n",
       "      <th>3</th>\n",
       "      <td>None</td>\n",
       "      <td>Glossy paper</td>\n",
       "      <td>stock_orders</td>\n",
       "      <td>587.0</td>\n",
       "      <td>117.40</td>\n",
       "      <td>2025-01-01T00:00:00</td>\n",
       "    </tr>\n",
       "    <tr>\n",
       "      <th>4</th>\n",
       "      <td>None</td>\n",
       "      <td>Rolls of banner paper (36-inch width)</td>\n",
       "      <td>stock_orders</td>\n",
       "      <td>546.0</td>\n",
       "      <td>1365.00</td>\n",
       "      <td>2025-01-01T00:00:00</td>\n",
       "    </tr>\n",
       "    <tr>\n",
       "      <th>5</th>\n",
       "      <td>None</td>\n",
       "      <td>Photo paper</td>\n",
       "      <td>stock_orders</td>\n",
       "      <td>423.0</td>\n",
       "      <td>105.75</td>\n",
       "      <td>2025-01-01T00:00:00</td>\n",
       "    </tr>\n",
       "    <tr>\n",
       "      <th>6</th>\n",
       "      <td>None</td>\n",
       "      <td>Cardstock</td>\n",
       "      <td>stock_orders</td>\n",
       "      <td>595.0</td>\n",
       "      <td>89.25</td>\n",
       "      <td>2025-01-01T00:00:00</td>\n",
       "    </tr>\n",
       "    <tr>\n",
       "      <th>7</th>\n",
       "      <td>None</td>\n",
       "      <td>Colored paper</td>\n",
       "      <td>stock_orders</td>\n",
       "      <td>788.0</td>\n",
       "      <td>78.80</td>\n",
       "      <td>2025-01-01T00:00:00</td>\n",
       "    </tr>\n",
       "    <tr>\n",
       "      <th>8</th>\n",
       "      <td>None</td>\n",
       "      <td>80 lb text paper</td>\n",
       "      <td>stock_orders</td>\n",
       "      <td>249.0</td>\n",
       "      <td>99.60</td>\n",
       "      <td>2025-01-01T00:00:00</td>\n",
       "    </tr>\n",
       "    <tr>\n",
       "      <th>9</th>\n",
       "      <td>None</td>\n",
       "      <td>Large poster paper (24x36 inches)</td>\n",
       "      <td>stock_orders</td>\n",
       "      <td>699.0</td>\n",
       "      <td>699.00</td>\n",
       "      <td>2025-01-01T00:00:00</td>\n",
       "    </tr>\n",
       "    <tr>\n",
       "      <th>10</th>\n",
       "      <td>None</td>\n",
       "      <td>Table covers</td>\n",
       "      <td>stock_orders</td>\n",
       "      <td>736.0</td>\n",
       "      <td>1104.00</td>\n",
       "      <td>2025-01-01T00:00:00</td>\n",
       "    </tr>\n",
       "    <tr>\n",
       "      <th>11</th>\n",
       "      <td>None</td>\n",
       "      <td>Butcher paper</td>\n",
       "      <td>stock_orders</td>\n",
       "      <td>365.0</td>\n",
       "      <td>36.50</td>\n",
       "      <td>2025-01-01T00:00:00</td>\n",
       "    </tr>\n",
       "    <tr>\n",
       "      <th>12</th>\n",
       "      <td>None</td>\n",
       "      <td>Kraft paper</td>\n",
       "      <td>stock_orders</td>\n",
       "      <td>493.0</td>\n",
       "      <td>49.30</td>\n",
       "      <td>2025-01-01T00:00:00</td>\n",
       "    </tr>\n",
       "    <tr>\n",
       "      <th>13</th>\n",
       "      <td>None</td>\n",
       "      <td>Banner paper</td>\n",
       "      <td>stock_orders</td>\n",
       "      <td>793.0</td>\n",
       "      <td>237.90</td>\n",
       "      <td>2025-01-01T00:00:00</td>\n",
       "    </tr>\n",
       "    <tr>\n",
       "      <th>14</th>\n",
       "      <td>None</td>\n",
       "      <td>Presentation folders</td>\n",
       "      <td>stock_orders</td>\n",
       "      <td>389.0</td>\n",
       "      <td>194.50</td>\n",
       "      <td>2025-01-01T00:00:00</td>\n",
       "    </tr>\n",
       "    <tr>\n",
       "      <th>15</th>\n",
       "      <td>None</td>\n",
       "      <td>Patterned paper</td>\n",
       "      <td>stock_orders</td>\n",
       "      <td>548.0</td>\n",
       "      <td>82.20</td>\n",
       "      <td>2025-01-01T00:00:00</td>\n",
       "    </tr>\n",
       "    <tr>\n",
       "      <th>16</th>\n",
       "      <td>None</td>\n",
       "      <td>A4 paper</td>\n",
       "      <td>stock_orders</td>\n",
       "      <td>272.0</td>\n",
       "      <td>13.60</td>\n",
       "      <td>2025-01-01T00:00:00</td>\n",
       "    </tr>\n",
       "    <tr>\n",
       "      <th>17</th>\n",
       "      <td>None</td>\n",
       "      <td>Invitation cards</td>\n",
       "      <td>stock_orders</td>\n",
       "      <td>526.0</td>\n",
       "      <td>263.00</td>\n",
       "      <td>2025-01-01T00:00:00</td>\n",
       "    </tr>\n",
       "    <tr>\n",
       "      <th>18</th>\n",
       "      <td>None</td>\n",
       "      <td>Crepe paper</td>\n",
       "      <td>stock_orders</td>\n",
       "      <td>234.0</td>\n",
       "      <td>11.70</td>\n",
       "      <td>2025-01-01T00:00:00</td>\n",
       "    </tr>\n",
       "    <tr>\n",
       "      <th>19</th>\n",
       "      <td>None</td>\n",
       "      <td>Paper plates</td>\n",
       "      <td>stock_orders</td>\n",
       "      <td>100.0</td>\n",
       "      <td>1000.00</td>\n",
       "      <td>2025-01-03</td>\n",
       "    </tr>\n",
       "  </tbody>\n",
       "</table>\n",
       "</div>"
      ],
      "text/plain": [
       "      id                              item_name transaction_type  units  \\\n",
       "0   None                                   None            sales    NaN   \n",
       "1   None                           Paper plates     stock_orders  748.0   \n",
       "2   None                     100 lb cover stock     stock_orders  636.0   \n",
       "3   None                           Glossy paper     stock_orders  587.0   \n",
       "4   None  Rolls of banner paper (36-inch width)     stock_orders  546.0   \n",
       "5   None                            Photo paper     stock_orders  423.0   \n",
       "6   None                              Cardstock     stock_orders  595.0   \n",
       "7   None                          Colored paper     stock_orders  788.0   \n",
       "8   None                       80 lb text paper     stock_orders  249.0   \n",
       "9   None      Large poster paper (24x36 inches)     stock_orders  699.0   \n",
       "10  None                           Table covers     stock_orders  736.0   \n",
       "11  None                          Butcher paper     stock_orders  365.0   \n",
       "12  None                            Kraft paper     stock_orders  493.0   \n",
       "13  None                           Banner paper     stock_orders  793.0   \n",
       "14  None                   Presentation folders     stock_orders  389.0   \n",
       "15  None                        Patterned paper     stock_orders  548.0   \n",
       "16  None                               A4 paper     stock_orders  272.0   \n",
       "17  None                       Invitation cards     stock_orders  526.0   \n",
       "18  None                            Crepe paper     stock_orders  234.0   \n",
       "19  None                           Paper plates     stock_orders  100.0   \n",
       "\n",
       "       price     transaction_date  \n",
       "0   50000.00  2025-01-01T00:00:00  \n",
       "1      74.80  2025-01-01T00:00:00  \n",
       "2     318.00  2025-01-01T00:00:00  \n",
       "3     117.40  2025-01-01T00:00:00  \n",
       "4    1365.00  2025-01-01T00:00:00  \n",
       "5     105.75  2025-01-01T00:00:00  \n",
       "6      89.25  2025-01-01T00:00:00  \n",
       "7      78.80  2025-01-01T00:00:00  \n",
       "8      99.60  2025-01-01T00:00:00  \n",
       "9     699.00  2025-01-01T00:00:00  \n",
       "10   1104.00  2025-01-01T00:00:00  \n",
       "11     36.50  2025-01-01T00:00:00  \n",
       "12     49.30  2025-01-01T00:00:00  \n",
       "13    237.90  2025-01-01T00:00:00  \n",
       "14    194.50  2025-01-01T00:00:00  \n",
       "15     82.20  2025-01-01T00:00:00  \n",
       "16     13.60  2025-01-01T00:00:00  \n",
       "17    263.00  2025-01-01T00:00:00  \n",
       "18     11.70  2025-01-01T00:00:00  \n",
       "19   1000.00           2025-01-03  "
      ]
     },
     "metadata": {},
     "output_type": "display_data"
    }
   ],
   "source": [
    "for table in inspector.get_table_names():\n",
    "    print(table)\n",
    "    df = pd.read_sql(f\"SELECT * FROM {table}\", db_engine)\n",
    "    display(df)"
   ]
  },
  {
   "cell_type": "code",
   "execution_count": 21,
   "metadata": {},
   "outputs": [
    {
     "data": {
      "text/html": [
       "<div>\n",
       "<style scoped>\n",
       "    .dataframe tbody tr th:only-of-type {\n",
       "        vertical-align: middle;\n",
       "    }\n",
       "\n",
       "    .dataframe tbody tr th {\n",
       "        vertical-align: top;\n",
       "    }\n",
       "\n",
       "    .dataframe thead th {\n",
       "        text-align: right;\n",
       "    }\n",
       "</style>\n",
       "<table border=\"1\" class=\"dataframe\">\n",
       "  <thead>\n",
       "    <tr style=\"text-align: right;\">\n",
       "      <th></th>\n",
       "      <th>item_name</th>\n",
       "      <th>current_stock</th>\n",
       "    </tr>\n",
       "  </thead>\n",
       "  <tbody>\n",
       "    <tr>\n",
       "      <th>0</th>\n",
       "      <td>Cardstock</td>\n",
       "      <td>595.0</td>\n",
       "    </tr>\n",
       "  </tbody>\n",
       "</table>\n",
       "</div>"
      ],
      "text/plain": [
       "   item_name  current_stock\n",
       "0  Cardstock          595.0"
      ]
     },
     "execution_count": 21,
     "metadata": {},
     "output_type": "execute_result"
    }
   ],
   "source": [
    "get_stock_level(item_name=\"Cardstock\", as_of_date=\"2025-01-02\")"
   ]
  },
  {
   "cell_type": "code",
   "execution_count": 22,
   "metadata": {},
   "outputs": [
    {
     "data": {
      "text/html": [
       "<div>\n",
       "<style scoped>\n",
       "    .dataframe tbody tr th:only-of-type {\n",
       "        vertical-align: middle;\n",
       "    }\n",
       "\n",
       "    .dataframe tbody tr th {\n",
       "        vertical-align: top;\n",
       "    }\n",
       "\n",
       "    .dataframe thead th {\n",
       "        text-align: right;\n",
       "    }\n",
       "</style>\n",
       "<table border=\"1\" class=\"dataframe\">\n",
       "  <thead>\n",
       "    <tr style=\"text-align: right;\">\n",
       "      <th></th>\n",
       "      <th>item_name</th>\n",
       "      <th>current_stock</th>\n",
       "    </tr>\n",
       "  </thead>\n",
       "  <tbody>\n",
       "    <tr>\n",
       "      <th>0</th>\n",
       "      <td>Cardstock</td>\n",
       "      <td>148.0</td>\n",
       "    </tr>\n",
       "  </tbody>\n",
       "</table>\n",
       "</div>"
      ],
      "text/plain": [
       "   item_name  current_stock\n",
       "0  Cardstock          148.0"
      ]
     },
     "execution_count": 22,
     "metadata": {},
     "output_type": "execute_result"
    }
   ],
   "source": [
    "get_stock_level(item_name=\"Cardstock\", as_of_date=\"2025-04-30\")"
   ]
  },
  {
   "cell_type": "code",
   "execution_count": 6,
   "metadata": {},
   "outputs": [],
   "source": [
    "def assess_stock_item(item_name:str, quantity:int, input_date_str:str, db_engine: Engine=db_engine)->Dict:\n",
    "    \"\"\"\n",
    "    calculate if a stock_order is required given current stock level and customer ordered quantity\n",
    "    \n",
    "    Args:\n",
    "        item_name (str): The name of the item to look up.\n",
    "        quantity (int): The number of units in the order.\n",
    "        input_date_str (str): Date of the look up in ISO format (YYYY-MM-DD).\n",
    "        db_engine (Engine): sqlite database client (default = db_engine)\n",
    "     \n",
    "    Returns:\n",
    "        Dict[Dict[str,str], str]: A dictionary providing required stock_order and resulting delivery date.\n",
    "    \"\"\"\n",
    "    # check current inventory level\n",
    "    current_stock_level = get_stock_level(item_name, input_date_str).at[0,'current_stock']\n",
    "    # get min stock level requirements\n",
    "    df = pd.read_sql(f\"SELECT * FROM inventory\", db_engine).set_index('item_name')\n",
    "    min_stock_level = df.at[item_name, 'min_stock_level']\n",
    "    \n",
    "    if (current_stock_level - quantity) >= min_stock_level:\n",
    "        return {\n",
    "            'stock_order':{},\n",
    "            'delivery_date': input_date_str\n",
    "        }\n",
    "\n",
    "    else:\n",
    "        quantity_to_purchase = min_stock_level + quantity - current_stock_level\n",
    "        return {\n",
    "            'stock_order':{'item_name':item_name, 'quantity':quantity_to_purchase},\n",
    "            'delivery_date': get_supplier_delivery_date(input_date_str=input_date_str, quantity=quantity_to_purchase)\n",
    "        }"
   ]
  },
  {
   "cell_type": "code",
   "execution_count": 8,
   "metadata": {},
   "outputs": [
    {
     "ename": "KeyError",
     "evalue": "'paper plates'",
     "output_type": "error",
     "traceback": [
      "\u001b[0;31m---------------------------------------------------------------------------\u001b[0m",
      "\u001b[0;31mKeyError\u001b[0m                                  Traceback (most recent call last)",
      "File \u001b[0;32m/workspace/agentic-ai-c4-exercises-demos/project/.venv/lib/python3.10/site-packages/pandas/core/indexes/base.py:3805\u001b[0m, in \u001b[0;36mIndex.get_loc\u001b[0;34m(self, key)\u001b[0m\n\u001b[1;32m   3804\u001b[0m \u001b[39mtry\u001b[39;00m:\n\u001b[0;32m-> 3805\u001b[0m     \u001b[39mreturn\u001b[39;00m \u001b[39mself\u001b[39;49m\u001b[39m.\u001b[39;49m_engine\u001b[39m.\u001b[39;49mget_loc(casted_key)\n\u001b[1;32m   3806\u001b[0m \u001b[39mexcept\u001b[39;00m \u001b[39mKeyError\u001b[39;00m \u001b[39mas\u001b[39;00m err:\n",
      "File \u001b[0;32mindex.pyx:167\u001b[0m, in \u001b[0;36mpandas._libs.index.IndexEngine.get_loc\u001b[0;34m()\u001b[0m\n",
      "File \u001b[0;32mindex.pyx:196\u001b[0m, in \u001b[0;36mpandas._libs.index.IndexEngine.get_loc\u001b[0;34m()\u001b[0m\n",
      "File \u001b[0;32mpandas/_libs/hashtable_class_helper.pxi:7081\u001b[0m, in \u001b[0;36mpandas._libs.hashtable.PyObjectHashTable.get_item\u001b[0;34m()\u001b[0m\n",
      "File \u001b[0;32mpandas/_libs/hashtable_class_helper.pxi:7089\u001b[0m, in \u001b[0;36mpandas._libs.hashtable.PyObjectHashTable.get_item\u001b[0;34m()\u001b[0m\n",
      "\u001b[0;31mKeyError\u001b[0m: 'paper plates'",
      "\nThe above exception was the direct cause of the following exception:\n",
      "\u001b[0;31mKeyError\u001b[0m                                  Traceback (most recent call last)",
      "Cell \u001b[0;32mIn[8], line 1\u001b[0m\n\u001b[0;32m----> 1\u001b[0m assess_stock_item(\u001b[39m'\u001b[39;49m\u001b[39mpaper plates\u001b[39;49m\u001b[39m'\u001b[39;49m, \u001b[39m100\u001b[39;49m, \u001b[39m'\u001b[39;49m\u001b[39m2025-01-03\u001b[39;49m\u001b[39m'\u001b[39;49m)\n",
      "Cell \u001b[0;32mIn[6], line 18\u001b[0m, in \u001b[0;36massess_stock_item\u001b[0;34m(item_name, quantity, input_date_str, db_engine)\u001b[0m\n\u001b[1;32m     16\u001b[0m \u001b[39m# get min stock level requirements\u001b[39;00m\n\u001b[1;32m     17\u001b[0m df \u001b[39m=\u001b[39m pd\u001b[39m.\u001b[39mread_sql(\u001b[39mf\u001b[39m\u001b[39m\"\u001b[39m\u001b[39mSELECT * FROM inventory\u001b[39m\u001b[39m\"\u001b[39m, db_engine)\u001b[39m.\u001b[39mset_index(\u001b[39m'\u001b[39m\u001b[39mitem_name\u001b[39m\u001b[39m'\u001b[39m)\n\u001b[0;32m---> 18\u001b[0m min_stock_level \u001b[39m=\u001b[39m df\u001b[39m.\u001b[39;49mat[item_name, \u001b[39m'\u001b[39;49m\u001b[39mmin_stock_level\u001b[39;49m\u001b[39m'\u001b[39;49m]\n\u001b[1;32m     20\u001b[0m \u001b[39mif\u001b[39;00m (current_stock_level \u001b[39m-\u001b[39m quantity) \u001b[39m>\u001b[39m\u001b[39m=\u001b[39m min_stock_level:\n\u001b[1;32m     21\u001b[0m     \u001b[39mreturn\u001b[39;00m {\n\u001b[1;32m     22\u001b[0m         \u001b[39m'\u001b[39m\u001b[39mstock_order\u001b[39m\u001b[39m'\u001b[39m:{},\n\u001b[1;32m     23\u001b[0m         \u001b[39m'\u001b[39m\u001b[39mdelivery_date\u001b[39m\u001b[39m'\u001b[39m: input_date_str\n\u001b[1;32m     24\u001b[0m     }\n",
      "File \u001b[0;32m/workspace/agentic-ai-c4-exercises-demos/project/.venv/lib/python3.10/site-packages/pandas/core/indexing.py:2575\u001b[0m, in \u001b[0;36m_AtIndexer.__getitem__\u001b[0;34m(self, key)\u001b[0m\n\u001b[1;32m   2572\u001b[0m         \u001b[39mraise\u001b[39;00m \u001b[39mValueError\u001b[39;00m(\u001b[39m\"\u001b[39m\u001b[39mInvalid call for scalar access (getting)!\u001b[39m\u001b[39m\"\u001b[39m)\n\u001b[1;32m   2573\u001b[0m     \u001b[39mreturn\u001b[39;00m \u001b[39mself\u001b[39m\u001b[39m.\u001b[39mobj\u001b[39m.\u001b[39mloc[key]\n\u001b[0;32m-> 2575\u001b[0m \u001b[39mreturn\u001b[39;00m \u001b[39msuper\u001b[39;49m()\u001b[39m.\u001b[39;49m\u001b[39m__getitem__\u001b[39;49m(key)\n",
      "File \u001b[0;32m/workspace/agentic-ai-c4-exercises-demos/project/.venv/lib/python3.10/site-packages/pandas/core/indexing.py:2527\u001b[0m, in \u001b[0;36m_ScalarAccessIndexer.__getitem__\u001b[0;34m(self, key)\u001b[0m\n\u001b[1;32m   2524\u001b[0m         \u001b[39mraise\u001b[39;00m \u001b[39mValueError\u001b[39;00m(\u001b[39m\"\u001b[39m\u001b[39mInvalid call for scalar access (getting)!\u001b[39m\u001b[39m\"\u001b[39m)\n\u001b[1;32m   2526\u001b[0m key \u001b[39m=\u001b[39m \u001b[39mself\u001b[39m\u001b[39m.\u001b[39m_convert_key(key)\n\u001b[0;32m-> 2527\u001b[0m \u001b[39mreturn\u001b[39;00m \u001b[39mself\u001b[39;49m\u001b[39m.\u001b[39;49mobj\u001b[39m.\u001b[39;49m_get_value(\u001b[39m*\u001b[39;49mkey, takeable\u001b[39m=\u001b[39;49m\u001b[39mself\u001b[39;49m\u001b[39m.\u001b[39;49m_takeable)\n",
      "File \u001b[0;32m/workspace/agentic-ai-c4-exercises-demos/project/.venv/lib/python3.10/site-packages/pandas/core/frame.py:4221\u001b[0m, in \u001b[0;36mDataFrame._get_value\u001b[0;34m(self, index, col, takeable)\u001b[0m\n\u001b[1;32m   4215\u001b[0m engine \u001b[39m=\u001b[39m \u001b[39mself\u001b[39m\u001b[39m.\u001b[39mindex\u001b[39m.\u001b[39m_engine\n\u001b[1;32m   4217\u001b[0m \u001b[39mif\u001b[39;00m \u001b[39mnot\u001b[39;00m \u001b[39misinstance\u001b[39m(\u001b[39mself\u001b[39m\u001b[39m.\u001b[39mindex, MultiIndex):\n\u001b[1;32m   4218\u001b[0m     \u001b[39m# CategoricalIndex: Trying to use the engine fastpath may give incorrect\u001b[39;00m\n\u001b[1;32m   4219\u001b[0m     \u001b[39m#  results if our categories are integers that dont match our codes\u001b[39;00m\n\u001b[1;32m   4220\u001b[0m     \u001b[39m# IntervalIndex: IntervalTree has no get_loc\u001b[39;00m\n\u001b[0;32m-> 4221\u001b[0m     row \u001b[39m=\u001b[39m \u001b[39mself\u001b[39;49m\u001b[39m.\u001b[39;49mindex\u001b[39m.\u001b[39;49mget_loc(index)\n\u001b[1;32m   4222\u001b[0m     \u001b[39mreturn\u001b[39;00m series\u001b[39m.\u001b[39m_values[row]\n\u001b[1;32m   4224\u001b[0m \u001b[39m# For MultiIndex going through engine effectively restricts us to\u001b[39;00m\n\u001b[1;32m   4225\u001b[0m \u001b[39m#  same-length tuples; see test_get_set_value_no_partial_indexing\u001b[39;00m\n",
      "File \u001b[0;32m/workspace/agentic-ai-c4-exercises-demos/project/.venv/lib/python3.10/site-packages/pandas/core/indexes/base.py:3812\u001b[0m, in \u001b[0;36mIndex.get_loc\u001b[0;34m(self, key)\u001b[0m\n\u001b[1;32m   3807\u001b[0m     \u001b[39mif\u001b[39;00m \u001b[39misinstance\u001b[39m(casted_key, \u001b[39mslice\u001b[39m) \u001b[39mor\u001b[39;00m (\n\u001b[1;32m   3808\u001b[0m         \u001b[39misinstance\u001b[39m(casted_key, abc\u001b[39m.\u001b[39mIterable)\n\u001b[1;32m   3809\u001b[0m         \u001b[39mand\u001b[39;00m \u001b[39many\u001b[39m(\u001b[39misinstance\u001b[39m(x, \u001b[39mslice\u001b[39m) \u001b[39mfor\u001b[39;00m x \u001b[39min\u001b[39;00m casted_key)\n\u001b[1;32m   3810\u001b[0m     ):\n\u001b[1;32m   3811\u001b[0m         \u001b[39mraise\u001b[39;00m InvalidIndexError(key)\n\u001b[0;32m-> 3812\u001b[0m     \u001b[39mraise\u001b[39;00m \u001b[39mKeyError\u001b[39;00m(key) \u001b[39mfrom\u001b[39;00m\u001b[39m \u001b[39m\u001b[39merr\u001b[39;00m\n\u001b[1;32m   3813\u001b[0m \u001b[39mexcept\u001b[39;00m \u001b[39mTypeError\u001b[39;00m:\n\u001b[1;32m   3814\u001b[0m     \u001b[39m# If we have a listlike key, _check_indexing_error will raise\u001b[39;00m\n\u001b[1;32m   3815\u001b[0m     \u001b[39m#  InvalidIndexError. Otherwise we fall through and re-raise\u001b[39;00m\n\u001b[1;32m   3816\u001b[0m     \u001b[39m#  the TypeError.\u001b[39;00m\n\u001b[1;32m   3817\u001b[0m     \u001b[39mself\u001b[39m\u001b[39m.\u001b[39m_check_indexing_error(key)\n",
      "\u001b[0;31mKeyError\u001b[0m: 'paper plates'"
     ]
    }
   ],
   "source": [
    "assess_stock_item('Paper plates', 100, '2025-01-03')"
   ]
  },
  {
   "cell_type": "code",
   "execution_count": null,
   "metadata": {},
   "outputs": [],
   "source": []
  },
  {
   "cell_type": "code",
   "execution_count": null,
   "metadata": {},
   "outputs": [],
   "source": []
  },
  {
   "cell_type": "code",
   "execution_count": 10,
   "metadata": {},
   "outputs": [
    {
     "name": "stdout",
     "output_type": "stream",
     "text": [
      "{\n",
      "  \"bill of materials\": [\n",
      "    {\n",
      "      \"item\": \"Glossy paper\",\n",
      "      \"quantity\": 200\n",
      "    },\n",
      "    {\n",
      "      \"item\": \"Cardstock\",\n",
      "      \"quantity\": 100\n",
      "    },\n",
      "    {\n",
      "      \"item\": \"Colored paper\",\n",
      "      \"quantity\": 100\n",
      "    }\n",
      "  ],\n",
      "  \"delivery_date\": \"2025-04-15\",\n",
      "  \"comment\": null\n",
      "}\n"
     ]
    }
   ],
   "source": [
    "import re\n",
    "import json\n",
    "from datetime import datetime\n",
    "\n",
    "# predefined list of allowed items\n",
    "ALLOWED_ITEMS = {\"Glossy paper\", \"Cardstock\", \"Colored paper\", \"Plain paper\"}\n",
    "\n",
    "def parse_agent_response(response: str):\n",
    "    result = {\"bill of materials\":[{\"item\": None, \"quantity\": None}], \"delivery_date\": None, \"comment\": None}\n",
    "\n",
    "    # --- Extract delivery date ---\n",
    "    date_match = re.search(r\"delivery date:\\s*([\\d-]+)\", response, re.IGNORECASE)\n",
    "    if date_match:\n",
    "        try:\n",
    "            extracted_date = date_match.group(1)\n",
    "            result[\"delivery_date\"] = datetime.strptime(extracted_date, \"%Y-%m-%d\").date().isoformat()\n",
    "        except ValueError:\n",
    "            pass  # leave as None if invalid\n",
    "\n",
    "    # --- Extract comment ---\n",
    "    comment_match = re.search(r\"comment:\\s*(.*)\", response, re.IGNORECASE)\n",
    "    if comment_match:\n",
    "        comment = comment_match.group(1).strip()\n",
    "        result[\"comment\"] = comment if comment else None\n",
    "\n",
    "    # --- Extract items ---\n",
    "    # Split by commas but ignore parts with 'delivery date' or 'comment'\n",
    "    parts = [p.strip() for p in response.split(\",\") if not re.search(r\"(delivery date|comment)\", p, re.IGNORECASE)]\n",
    "    \n",
    "    bill_of_materials = []\n",
    "    for part in parts:\n",
    "        # match \"Item:Quantity\"\n",
    "        match = re.match(r\"(.+?):\\s*(\\d+)\", part)\n",
    "        if match:\n",
    "            item, qty = match.groups()\n",
    "            item = item.strip()\n",
    "            if item in ALLOWED_ITEMS:\n",
    "                bill_of_materials.append({\"item\":item, \"quantity\":int(qty)})\n",
    "                #break  # only one allowed\n",
    "    \n",
    "    if bill_of_materials:\n",
    "        result[\"bill of materials\"] = bill_of_materials\n",
    "\n",
    "    return result\n",
    "\n",
    "\n",
    "# Example usage\n",
    "response = \"Glossy paper:200, Cardstock:100, Colored paper:100, delivery date: 2025-04-15, comment:\"\n",
    "parsed = parse_agent_response(response)\n",
    "\n",
    "print(json.dumps(parsed, indent=2))\n"
   ]
  },
  {
   "cell_type": "code",
   "execution_count": 6,
   "metadata": {},
   "outputs": [
    {
     "name": "stdout",
     "output_type": "stream",
     "text": [
      "{\n",
      "  \"item\": \"Glossy paper\",\n",
      "  \"quantity\": 200,\n",
      "  \"delivery_date\": \"2025-04-15\",\n",
      "  \"comment\": \"eheh\"\n",
      "}\n"
     ]
    }
   ],
   "source": [
    "# Example usage\n",
    "response = \"Glossy paper:200, delivery date: 2025-04-15, comment: eheh\"\n",
    "parsed = parse_agent_response(response)\n",
    "print(json.dumps(parsed, indent=2))"
   ]
  },
  {
   "cell_type": "code",
   "execution_count": null,
   "metadata": {},
   "outputs": [],
   "source": []
  },
  {
   "cell_type": "code",
   "execution_count": 37,
   "metadata": {},
   "outputs": [
    {
     "data": {
      "text/html": [
       "<div>\n",
       "<style scoped>\n",
       "    .dataframe tbody tr th:only-of-type {\n",
       "        vertical-align: middle;\n",
       "    }\n",
       "\n",
       "    .dataframe tbody tr th {\n",
       "        vertical-align: top;\n",
       "    }\n",
       "\n",
       "    .dataframe thead th {\n",
       "        text-align: right;\n",
       "    }\n",
       "</style>\n",
       "<table border=\"1\" class=\"dataframe\">\n",
       "  <thead>\n",
       "    <tr style=\"text-align: right;\">\n",
       "      <th></th>\n",
       "      <th>COUNT(*)</th>\n",
       "    </tr>\n",
       "  </thead>\n",
       "  <tbody>\n",
       "    <tr>\n",
       "      <th>0</th>\n",
       "      <td>23</td>\n",
       "    </tr>\n",
       "  </tbody>\n",
       "</table>\n",
       "</div>"
      ],
      "text/plain": [
       "   COUNT(*)\n",
       "0        23"
      ]
     },
     "execution_count": 37,
     "metadata": {},
     "output_type": "execute_result"
    }
   ],
   "source": [
    "pd.read_sql(f\"SELECT COUNT(*) FROM transactions\", db_engine)"
   ]
  },
  {
   "cell_type": "code",
   "execution_count": 44,
   "metadata": {},
   "outputs": [
    {
     "data": {
      "text/html": [
       "<div>\n",
       "<style scoped>\n",
       "    .dataframe tbody tr th:only-of-type {\n",
       "        vertical-align: middle;\n",
       "    }\n",
       "\n",
       "    .dataframe tbody tr th {\n",
       "        vertical-align: top;\n",
       "    }\n",
       "\n",
       "    .dataframe thead th {\n",
       "        text-align: right;\n",
       "    }\n",
       "</style>\n",
       "<table border=\"1\" class=\"dataframe\">\n",
       "  <thead>\n",
       "    <tr style=\"text-align: right;\">\n",
       "      <th></th>\n",
       "      <th>id</th>\n",
       "      <th>item_name</th>\n",
       "      <th>transaction_type</th>\n",
       "      <th>units</th>\n",
       "      <th>price</th>\n",
       "      <th>transaction_date</th>\n",
       "    </tr>\n",
       "  </thead>\n",
       "  <tbody>\n",
       "    <tr>\n",
       "      <th>0</th>\n",
       "      <td>0.0</td>\n",
       "      <td>None</td>\n",
       "      <td>sales</td>\n",
       "      <td>NaN</td>\n",
       "      <td>50000.00</td>\n",
       "      <td>2025-01-01T00:00:00</td>\n",
       "    </tr>\n",
       "    <tr>\n",
       "      <th>1</th>\n",
       "      <td>1.0</td>\n",
       "      <td>Paper plates</td>\n",
       "      <td>stock_orders</td>\n",
       "      <td>748.0</td>\n",
       "      <td>74.80</td>\n",
       "      <td>2025-01-01T00:00:00</td>\n",
       "    </tr>\n",
       "    <tr>\n",
       "      <th>2</th>\n",
       "      <td>2.0</td>\n",
       "      <td>100 lb cover stock</td>\n",
       "      <td>stock_orders</td>\n",
       "      <td>636.0</td>\n",
       "      <td>318.00</td>\n",
       "      <td>2025-01-01T00:00:00</td>\n",
       "    </tr>\n",
       "    <tr>\n",
       "      <th>3</th>\n",
       "      <td>3.0</td>\n",
       "      <td>Glossy paper</td>\n",
       "      <td>stock_orders</td>\n",
       "      <td>587.0</td>\n",
       "      <td>117.40</td>\n",
       "      <td>2025-01-01T00:00:00</td>\n",
       "    </tr>\n",
       "    <tr>\n",
       "      <th>4</th>\n",
       "      <td>4.0</td>\n",
       "      <td>Rolls of banner paper (36-inch width)</td>\n",
       "      <td>stock_orders</td>\n",
       "      <td>546.0</td>\n",
       "      <td>1365.00</td>\n",
       "      <td>2025-01-01T00:00:00</td>\n",
       "    </tr>\n",
       "    <tr>\n",
       "      <th>5</th>\n",
       "      <td>5.0</td>\n",
       "      <td>Photo paper</td>\n",
       "      <td>stock_orders</td>\n",
       "      <td>423.0</td>\n",
       "      <td>105.75</td>\n",
       "      <td>2025-01-01T00:00:00</td>\n",
       "    </tr>\n",
       "    <tr>\n",
       "      <th>6</th>\n",
       "      <td>6.0</td>\n",
       "      <td>Cardstock</td>\n",
       "      <td>stock_orders</td>\n",
       "      <td>595.0</td>\n",
       "      <td>89.25</td>\n",
       "      <td>2025-01-01T00:00:00</td>\n",
       "    </tr>\n",
       "    <tr>\n",
       "      <th>7</th>\n",
       "      <td>7.0</td>\n",
       "      <td>Colored paper</td>\n",
       "      <td>stock_orders</td>\n",
       "      <td>788.0</td>\n",
       "      <td>78.80</td>\n",
       "      <td>2025-01-01T00:00:00</td>\n",
       "    </tr>\n",
       "    <tr>\n",
       "      <th>8</th>\n",
       "      <td>8.0</td>\n",
       "      <td>80 lb text paper</td>\n",
       "      <td>stock_orders</td>\n",
       "      <td>249.0</td>\n",
       "      <td>99.60</td>\n",
       "      <td>2025-01-01T00:00:00</td>\n",
       "    </tr>\n",
       "    <tr>\n",
       "      <th>9</th>\n",
       "      <td>9.0</td>\n",
       "      <td>Large poster paper (24x36 inches)</td>\n",
       "      <td>stock_orders</td>\n",
       "      <td>699.0</td>\n",
       "      <td>699.00</td>\n",
       "      <td>2025-01-01T00:00:00</td>\n",
       "    </tr>\n",
       "    <tr>\n",
       "      <th>10</th>\n",
       "      <td>10.0</td>\n",
       "      <td>Table covers</td>\n",
       "      <td>stock_orders</td>\n",
       "      <td>736.0</td>\n",
       "      <td>1104.00</td>\n",
       "      <td>2025-01-01T00:00:00</td>\n",
       "    </tr>\n",
       "    <tr>\n",
       "      <th>11</th>\n",
       "      <td>11.0</td>\n",
       "      <td>Butcher paper</td>\n",
       "      <td>stock_orders</td>\n",
       "      <td>365.0</td>\n",
       "      <td>36.50</td>\n",
       "      <td>2025-01-01T00:00:00</td>\n",
       "    </tr>\n",
       "    <tr>\n",
       "      <th>12</th>\n",
       "      <td>12.0</td>\n",
       "      <td>Kraft paper</td>\n",
       "      <td>stock_orders</td>\n",
       "      <td>493.0</td>\n",
       "      <td>49.30</td>\n",
       "      <td>2025-01-01T00:00:00</td>\n",
       "    </tr>\n",
       "    <tr>\n",
       "      <th>13</th>\n",
       "      <td>13.0</td>\n",
       "      <td>Banner paper</td>\n",
       "      <td>stock_orders</td>\n",
       "      <td>793.0</td>\n",
       "      <td>237.90</td>\n",
       "      <td>2025-01-01T00:00:00</td>\n",
       "    </tr>\n",
       "    <tr>\n",
       "      <th>14</th>\n",
       "      <td>14.0</td>\n",
       "      <td>Presentation folders</td>\n",
       "      <td>stock_orders</td>\n",
       "      <td>389.0</td>\n",
       "      <td>194.50</td>\n",
       "      <td>2025-01-01T00:00:00</td>\n",
       "    </tr>\n",
       "    <tr>\n",
       "      <th>15</th>\n",
       "      <td>15.0</td>\n",
       "      <td>Patterned paper</td>\n",
       "      <td>stock_orders</td>\n",
       "      <td>548.0</td>\n",
       "      <td>82.20</td>\n",
       "      <td>2025-01-01T00:00:00</td>\n",
       "    </tr>\n",
       "    <tr>\n",
       "      <th>16</th>\n",
       "      <td>16.0</td>\n",
       "      <td>A4 paper</td>\n",
       "      <td>stock_orders</td>\n",
       "      <td>272.0</td>\n",
       "      <td>13.60</td>\n",
       "      <td>2025-01-01T00:00:00</td>\n",
       "    </tr>\n",
       "    <tr>\n",
       "      <th>17</th>\n",
       "      <td>17.0</td>\n",
       "      <td>Invitation cards</td>\n",
       "      <td>stock_orders</td>\n",
       "      <td>526.0</td>\n",
       "      <td>263.00</td>\n",
       "      <td>2025-01-01T00:00:00</td>\n",
       "    </tr>\n",
       "    <tr>\n",
       "      <th>18</th>\n",
       "      <td>18.0</td>\n",
       "      <td>Crepe paper</td>\n",
       "      <td>stock_orders</td>\n",
       "      <td>234.0</td>\n",
       "      <td>11.70</td>\n",
       "      <td>2025-01-01T00:00:00</td>\n",
       "    </tr>\n",
       "    <tr>\n",
       "      <th>19</th>\n",
       "      <td>19.0</td>\n",
       "      <td>Glossy paper</td>\n",
       "      <td>sales</td>\n",
       "      <td>200.0</td>\n",
       "      <td>40.00</td>\n",
       "      <td>2025-04-01</td>\n",
       "    </tr>\n",
       "    <tr>\n",
       "      <th>20</th>\n",
       "      <td>21.0</td>\n",
       "      <td>A4 paper</td>\n",
       "      <td>stock_orders</td>\n",
       "      <td>63.0</td>\n",
       "      <td>3.15</td>\n",
       "      <td>2025-04-01</td>\n",
       "    </tr>\n",
       "    <tr>\n",
       "      <th>21</th>\n",
       "      <td>23.0</td>\n",
       "      <td>A4 paper</td>\n",
       "      <td>sales</td>\n",
       "      <td>200.0</td>\n",
       "      <td>10.00</td>\n",
       "      <td>2025-04-01</td>\n",
       "    </tr>\n",
       "    <tr>\n",
       "      <th>22</th>\n",
       "      <td>22.0</td>\n",
       "      <td>Colored paper</td>\n",
       "      <td>sales</td>\n",
       "      <td>100.0</td>\n",
       "      <td>10.00</td>\n",
       "      <td>2025-04-01</td>\n",
       "    </tr>\n",
       "    <tr>\n",
       "      <th>23</th>\n",
       "      <td>20.0</td>\n",
       "      <td>Cardstock</td>\n",
       "      <td>sales</td>\n",
       "      <td>100.0</td>\n",
       "      <td>15.00</td>\n",
       "      <td>2025-04-01</td>\n",
       "    </tr>\n",
       "  </tbody>\n",
       "</table>\n",
       "</div>"
      ],
      "text/plain": [
       "      id                              item_name transaction_type  units  \\\n",
       "0    0.0                                   None            sales    NaN   \n",
       "1    1.0                           Paper plates     stock_orders  748.0   \n",
       "2    2.0                     100 lb cover stock     stock_orders  636.0   \n",
       "3    3.0                           Glossy paper     stock_orders  587.0   \n",
       "4    4.0  Rolls of banner paper (36-inch width)     stock_orders  546.0   \n",
       "5    5.0                            Photo paper     stock_orders  423.0   \n",
       "6    6.0                              Cardstock     stock_orders  595.0   \n",
       "7    7.0                          Colored paper     stock_orders  788.0   \n",
       "8    8.0                       80 lb text paper     stock_orders  249.0   \n",
       "9    9.0      Large poster paper (24x36 inches)     stock_orders  699.0   \n",
       "10  10.0                           Table covers     stock_orders  736.0   \n",
       "11  11.0                          Butcher paper     stock_orders  365.0   \n",
       "12  12.0                            Kraft paper     stock_orders  493.0   \n",
       "13  13.0                           Banner paper     stock_orders  793.0   \n",
       "14  14.0                   Presentation folders     stock_orders  389.0   \n",
       "15  15.0                        Patterned paper     stock_orders  548.0   \n",
       "16  16.0                               A4 paper     stock_orders  272.0   \n",
       "17  17.0                       Invitation cards     stock_orders  526.0   \n",
       "18  18.0                            Crepe paper     stock_orders  234.0   \n",
       "19  19.0                           Glossy paper            sales  200.0   \n",
       "20  21.0                               A4 paper     stock_orders   63.0   \n",
       "21  23.0                               A4 paper            sales  200.0   \n",
       "22  22.0                          Colored paper            sales  100.0   \n",
       "23  20.0                              Cardstock            sales  100.0   \n",
       "\n",
       "       price     transaction_date  \n",
       "0   50000.00  2025-01-01T00:00:00  \n",
       "1      74.80  2025-01-01T00:00:00  \n",
       "2     318.00  2025-01-01T00:00:00  \n",
       "3     117.40  2025-01-01T00:00:00  \n",
       "4    1365.00  2025-01-01T00:00:00  \n",
       "5     105.75  2025-01-01T00:00:00  \n",
       "6      89.25  2025-01-01T00:00:00  \n",
       "7      78.80  2025-01-01T00:00:00  \n",
       "8      99.60  2025-01-01T00:00:00  \n",
       "9     699.00  2025-01-01T00:00:00  \n",
       "10   1104.00  2025-01-01T00:00:00  \n",
       "11     36.50  2025-01-01T00:00:00  \n",
       "12     49.30  2025-01-01T00:00:00  \n",
       "13    237.90  2025-01-01T00:00:00  \n",
       "14    194.50  2025-01-01T00:00:00  \n",
       "15     82.20  2025-01-01T00:00:00  \n",
       "16     13.60  2025-01-01T00:00:00  \n",
       "17    263.00  2025-01-01T00:00:00  \n",
       "18     11.70  2025-01-01T00:00:00  \n",
       "19     40.00           2025-04-01  \n",
       "20      3.15           2025-04-01  \n",
       "21     10.00           2025-04-01  \n",
       "22     10.00           2025-04-01  \n",
       "23     15.00           2025-04-01  "
      ]
     },
     "execution_count": 44,
     "metadata": {},
     "output_type": "execute_result"
    }
   ],
   "source": [
    "pd.read_sql(f\"SELECT * FROM transactions\", db_engine)"
   ]
  },
  {
   "cell_type": "code",
   "execution_count": 22,
   "metadata": {},
   "outputs": [
    {
     "name": "stdout",
     "output_type": "stream",
     "text": [
      "Number of material references: 4\n",
      "Extracted quantities: [10000, 5000, 100, 500]\n"
     ]
    }
   ],
   "source": [
    "# Month names pattern for natural-language dates\n",
    "MONTHS = r'(?:Jan(?:uary)?|Feb(?:ruary)?|Mar(?:ch)?|Apr(?:il)?|May|' \\\n",
    "         r'Jun(?:e)?|Jul(?:y)?|Aug(?:ust)?|Sep(?:t(?:ember)?)?|' \\\n",
    "         r'Oct(?:ober)?|Nov(?:ember)?|Dec(?:ember)?)'\n",
    "\n",
    "def count_order_quantities(text: str):\n",
    "    \"\"\"\n",
    "    Return (count, quantities_list) where quantities_list are integers that\n",
    "    represent ordered item quantities. The function:\n",
    "      - accepts numbers with thousands separators (e.g., 10,000)\n",
    "      - ignores numbers inside dates (ISO-like and 'Month Day, Year' forms)\n",
    "      - ignores digits attached to letters (e.g., A4, A3, X-12)\n",
    "    \"\"\"\n",
    "    exclude_spans = []\n",
    "\n",
    "\n",
    "\n",
    "    # --- Exclude dates (collect their spans) ---\n",
    "    # ISO-like YYYY-MM-DD or YYYY/MM/DD\n",
    "    for m in re.finditer(r'\\b\\d{4}[-/]\\d{1,2}[-/]\\d{1,2}\\b', text):\n",
    "        exclude_spans.append(m.span())\n",
    "\n",
    "    # Year-Month (no day), e.g., 2025-04 or 2025/04\n",
    "    for m in re.finditer(r'\\b\\d{4}[-/]\\d{1,2}\\b', text):\n",
    "        exclude_spans.append(m.span())\n",
    "\n",
    "    # Month Day, Year  (e.g., April 15, 2025)  and  'Apr 15 2025'\n",
    "    for m in re.finditer(rf'\\b{MONTHS}\\s+\\d{{1,2}}(?:st|nd|rd|th)?(?:,\\s*|\\s+)\\d{{4}}\\b',\n",
    "                         text, flags=re.IGNORECASE):\n",
    "        exclude_spans.append(m.span())\n",
    "\n",
    "    # Day Month Year  (e.g., 15 April 2025)\n",
    "    for m in re.finditer(rf'\\b\\d{{1,2}}(?:st|nd|rd|th)?\\s+{MONTHS}\\s+\\d{{4}}\\b',\n",
    "                         text, flags=re.IGNORECASE):\n",
    "        exclude_spans.append(m.span())\n",
    "\n",
    "    # Month Year  (e.g., April 2025)\n",
    "    for m in re.finditer(rf'\\b{MONTHS}\\s+\\d{{4}}\\b', text, flags=re.IGNORECASE):\n",
    "        exclude_spans.append(m.span())\n",
    "\n",
    "    # Numeric M/D/Y or D/M/Y (e.g., 04/15/2025, 15/04/2025)\n",
    "    for m in re.finditer(r'\\b\\d{1,2}[-/]\\d{1,2}[-/]\\d{2,4}\\b', text):\n",
    "        exclude_spans.append(m.span())\n",
    "\n",
    "    # --- Exclude digits that are part of codes like A4, A3, X-12, etc. ---\n",
    "    for m in re.finditer(r'\\b[A-Za-z]+-\\d+\\b|\\b[A-Za-z]+\\d+[A-Za-z]*\\b', text):\n",
    "        s, e = m.span()\n",
    "        sub = text[s:e]\n",
    "        for d in re.finditer(r'\\d+', sub):  # add only the digits inside that token\n",
    "            exclude_spans.append((s + d.start(), s + d.end()))\n",
    "\n",
    "    # --- Exclude decimals ---\n",
    "    for m in re.finditer(r'\\b\\d+\\.\\d+\\b', text):  # e.g., 3.5\n",
    "        exclude_spans.append(m.span())\n",
    "\n",
    "    # --- Exclude inches (24\", 30”, 40in, 24', 30 lb) ---\n",
    "    for m in re.finditer(r'\\b\\d+(?:,\\d{3})*(?=\\s*(?:\"|”|\\'|in\\b))', text, flags=re.IGNORECASE):\n",
    "        exclude_spans.append(m.span())\n",
    "\n",
    "    # --- Exclude percentages (50%) ---\n",
    "    for m in re.finditer(r'\\b\\d+(?:,\\d{3})*(?=%)', text):\n",
    "        exclude_spans.append(m.span())\n",
    "\n",
    "    # --- Exclude weight/length units (30 lb, 20 kg, 5 g, 10 oz, etc.) ---\n",
    "    for m in re.finditer(r'\\b\\d+(?:,\\d{3})*\\s*(lb|lbs|kg|g|oz|mg|m|cm|mm)\\b',\n",
    "                         text, flags=re.IGNORECASE):\n",
    "        exclude_spans.append(m.span())\n",
    "\n",
    "    def is_in_excluded(span):\n",
    "        a, b = span\n",
    "        for x, y in exclude_spans:\n",
    "            if a < y and b > x:  # overlaps any excluded region\n",
    "                return True\n",
    "        return False\n",
    "\n",
    "    # --- Pick candidate numbers (not adjacent to letters), allow 1,234,567 ---\n",
    "    quantities = []\n",
    "    for m in re.finditer(r'(?<![A-Za-z])(\\d{1,3}(?:,\\d{3})+|\\d+)(?![A-Za-z])', text):\n",
    "        if not is_in_excluded(m.span()):\n",
    "            quantities.append(int(m.group(1).replace(',', '')))\n",
    "\n",
    "    return len(quantities), quantities\n",
    "\n",
    "\n",
    "# --- Example usage ---\n",
    "order_text = (\n",
    "    \"I need to order 10,000 sheets of A4 paper, 5,000 sheets of A3 paper, 100 sheets of 30 lb paper and 500 reams of printer \"\n",
    "    \"paper. Also some 24\\\" monitors, a 3.5 inch drive (15'), and 50% discount. \"\n",
    "    \"The supplies must be delivered by April 15, 2025, or 15-08-2023 for our upcoming conference. \"\n",
    "    \"Please confirm the order and delivery schedule. (Date of request: 2025-04-04)\"\n",
    ")\n",
    "\n",
    "count, items = count_order_quantities(order_text)\n",
    "print(\"Number of material references:\", count)   # -> 3\n",
    "print(\"Extracted quantities:\", items)            # -> [10000, 5000, 500]\n"
   ]
  },
  {
   "cell_type": "code",
   "execution_count": 6,
   "metadata": {},
   "outputs": [
    {
     "data": {
      "text/plain": [
       "20"
      ]
     },
     "execution_count": 6,
     "metadata": {},
     "output_type": "execute_result"
    }
   ],
   "source": [
    "len(pd.read_csv(\"quote_requests_sample.csv\"))"
   ]
  },
  {
   "cell_type": "code",
   "execution_count": 19,
   "metadata": {},
   "outputs": [
    {
     "data": {
      "text/html": [
       "<pre style=\"white-space:pre;overflow-x:auto;line-height:normal;font-family:Menlo,'DejaVu Sans Mono',consolas,'Courier New',monospace\">\n",
       "<span style=\"color: #ffff00; text-decoration-color: #ffff00; font-weight: bold\">=== Request </span><span style=\"color: #008080; text-decoration-color: #008080; font-weight: bold\">1</span><span style=\"color: #ffff00; text-decoration-color: #ffff00; font-weight: bold\"> ===</span>\n",
       "</pre>\n"
      ],
      "text/plain": [
       "\n",
       "\u001b[1;93m=== Request \u001b[0m\u001b[1;36m1\u001b[0m\u001b[1;93m ===\u001b[0m\n"
      ]
     },
     "metadata": {},
     "output_type": "display_data"
    },
    {
     "name": "stdout",
     "output_type": "stream",
     "text": [
      "Context: office manager organizing ceremony\n",
      "Request Date: 2025-04-01\n"
     ]
    },
    {
     "data": {
      "text/html": [
       "<pre style=\"white-space:pre;overflow-x:auto;line-height:normal;font-family:Menlo,'DejaVu Sans Mono',consolas,'Courier New',monospace\"><span style=\"color: #00ff00; text-decoration-color: #00ff00; font-weight: bold\">I would like to request the following paper supplies for the ceremony: </span>\n",
       "\n",
       "<span style=\"color: #00ff00; text-decoration-color: #00ff00; font-weight: bold\">- </span><span style=\"color: #008080; text-decoration-color: #008080; font-weight: bold\">200</span><span style=\"color: #00ff00; text-decoration-color: #00ff00; font-weight: bold\"> sheets of A4 glossy paper</span>\n",
       "<span style=\"color: #00ff00; text-decoration-color: #00ff00; font-weight: bold\">- </span><span style=\"color: #008080; text-decoration-color: #008080; font-weight: bold\">100</span><span style=\"color: #00ff00; text-decoration-color: #00ff00; font-weight: bold\"> sheets of heavy cardstock (white)</span>\n",
       "<span style=\"color: #00ff00; text-decoration-color: #00ff00; font-weight: bold\">- </span><span style=\"color: #008080; text-decoration-color: #008080; font-weight: bold\">100</span><span style=\"color: #00ff00; text-decoration-color: #00ff00; font-weight: bold\"> sheets of colored paper (assorted colors)</span>\n",
       "\n",
       "<span style=\"color: #00ff00; text-decoration-color: #00ff00; font-weight: bold\">I need these supplies delivered by April </span><span style=\"color: #008080; text-decoration-color: #008080; font-weight: bold\">15</span><span style=\"color: #00ff00; text-decoration-color: #00ff00; font-weight: bold\">, </span><span style=\"color: #008080; text-decoration-color: #008080; font-weight: bold\">2025</span><span style=\"color: #00ff00; text-decoration-color: #00ff00; font-weight: bold\">. Thank you. (Date of request: </span><span style=\"color: #008080; text-decoration-color: #008080; font-weight: bold\">2025</span><span style=\"color: #00ff00; text-decoration-color: #00ff00; font-weight: bold\">-</span><span style=\"color: #008080; text-decoration-color: #008080; font-weight: bold\">04</span><span style=\"color: #00ff00; text-decoration-color: #00ff00; font-weight: bold\">-</span><span style=\"color: #008080; text-decoration-color: #008080; font-weight: bold\">01</span><span style=\"color: #00ff00; text-decoration-color: #00ff00; font-weight: bold\">)</span>\n",
       "</pre>\n"
      ],
      "text/plain": [
       "\u001b[1;92mI would like to request the following paper supplies for the ceremony: \u001b[0m\n",
       "\n",
       "\u001b[1;92m- \u001b[0m\u001b[1;36m200\u001b[0m\u001b[1;92m sheets of A4 glossy paper\u001b[0m\n",
       "\u001b[1;92m- \u001b[0m\u001b[1;36m100\u001b[0m\u001b[1;92m sheets of heavy cardstock \u001b[0m\u001b[1;92m(\u001b[0m\u001b[1;92mwhite\u001b[0m\u001b[1;92m)\u001b[0m\n",
       "\u001b[1;92m- \u001b[0m\u001b[1;36m100\u001b[0m\u001b[1;92m sheets of colored paper \u001b[0m\u001b[1;92m(\u001b[0m\u001b[1;92massorted colors\u001b[0m\u001b[1;92m)\u001b[0m\n",
       "\n",
       "\u001b[1;92mI need these supplies delivered by April \u001b[0m\u001b[1;36m15\u001b[0m\u001b[1;92m, \u001b[0m\u001b[1;36m2025\u001b[0m\u001b[1;92m. Thank you. \u001b[0m\u001b[1;92m(\u001b[0m\u001b[1;92mDate of request: \u001b[0m\u001b[1;36m2025\u001b[0m\u001b[1;92m-\u001b[0m\u001b[1;36m04\u001b[0m\u001b[1;92m-\u001b[0m\u001b[1;36m01\u001b[0m\u001b[1;92m)\u001b[0m\n"
      ]
     },
     "metadata": {},
     "output_type": "display_data"
    },
    {
     "name": "stdout",
     "output_type": "stream",
     "text": [
      "\n"
     ]
    },
    {
     "data": {
      "text/html": [
       "<pre style=\"white-space:pre;overflow-x:auto;line-height:normal;font-family:Menlo,'DejaVu Sans Mono',consolas,'Courier New',monospace\"><span style=\"color: #ff00ff; text-decoration-color: #ff00ff; font-weight: bold\">Number items = </span><span style=\"color: #008080; text-decoration-color: #008080; font-weight: bold\">3</span><span style=\"color: #ff00ff; text-decoration-color: #ff00ff; font-weight: bold\">, </span><span style=\"color: #808000; text-decoration-color: #808000; font-weight: bold\">items</span><span style=\"color: #ff00ff; text-decoration-color: #ff00ff; font-weight: bold\">= [</span><span style=\"color: #008080; text-decoration-color: #008080; font-weight: bold\">200</span><span style=\"color: #ff00ff; text-decoration-color: #ff00ff; font-weight: bold\">, </span><span style=\"color: #008080; text-decoration-color: #008080; font-weight: bold\">100</span><span style=\"color: #ff00ff; text-decoration-color: #ff00ff; font-weight: bold\">, </span><span style=\"color: #008080; text-decoration-color: #008080; font-weight: bold\">100</span><span style=\"color: #ff00ff; text-decoration-color: #ff00ff; font-weight: bold\">]</span>\n",
       "</pre>\n"
      ],
      "text/plain": [
       "\u001b[1;95mNumber items = \u001b[0m\u001b[1;36m3\u001b[0m\u001b[1;95m, \u001b[0m\u001b[1;33mitems\u001b[0m\u001b[1;95m= \u001b[0m\u001b[1;95m[\u001b[0m\u001b[1;36m200\u001b[0m\u001b[1;95m, \u001b[0m\u001b[1;36m100\u001b[0m\u001b[1;95m, \u001b[0m\u001b[1;36m100\u001b[0m\u001b[1;95m]\u001b[0m\n"
      ]
     },
     "metadata": {},
     "output_type": "display_data"
    },
    {
     "data": {
      "text/html": [
       "<pre style=\"white-space:pre;overflow-x:auto;line-height:normal;font-family:Menlo,'DejaVu Sans Mono',consolas,'Courier New',monospace\">\n",
       "<span style=\"color: #ffff00; text-decoration-color: #ffff00; font-weight: bold\">=== Request </span><span style=\"color: #008080; text-decoration-color: #008080; font-weight: bold\">2</span><span style=\"color: #ffff00; text-decoration-color: #ffff00; font-weight: bold\"> ===</span>\n",
       "</pre>\n"
      ],
      "text/plain": [
       "\n",
       "\u001b[1;93m=== Request \u001b[0m\u001b[1;36m2\u001b[0m\u001b[1;93m ===\u001b[0m\n"
      ]
     },
     "metadata": {},
     "output_type": "display_data"
    },
    {
     "name": "stdout",
     "output_type": "stream",
     "text": [
      "Context: hotel manager organizing parade\n",
      "Request Date: 2025-04-03\n"
     ]
    },
    {
     "data": {
      "text/html": [
       "<pre style=\"white-space:pre;overflow-x:auto;line-height:normal;font-family:Menlo,'DejaVu Sans Mono',consolas,'Courier New',monospace\"><span style=\"color: #00ff00; text-decoration-color: #00ff00; font-weight: bold\">I would like to place an order for </span><span style=\"color: #008080; text-decoration-color: #008080; font-weight: bold\">500</span><span style=\"color: #00ff00; text-decoration-color: #00ff00; font-weight: bold\"> sheets of colorful poster paper, </span><span style=\"color: #008080; text-decoration-color: #008080; font-weight: bold\">300</span><span style=\"color: #00ff00; text-decoration-color: #00ff00; font-weight: bold\"> roll of streamers, and </span><span style=\"color: #008080; text-decoration-color: #008080; font-weight: bold\">200</span><span style=\"color: #00ff00; text-decoration-color: #00ff00; font-weight: bold\"> balloons for</span>\n",
       "<span style=\"color: #00ff00; text-decoration-color: #00ff00; font-weight: bold\">the parade. Please deliver the supplies by April </span><span style=\"color: #008080; text-decoration-color: #008080; font-weight: bold\">15</span><span style=\"color: #00ff00; text-decoration-color: #00ff00; font-weight: bold\">, </span><span style=\"color: #008080; text-decoration-color: #008080; font-weight: bold\">2025</span><span style=\"color: #00ff00; text-decoration-color: #00ff00; font-weight: bold\">. Thank you. (Date of request: </span><span style=\"color: #008080; text-decoration-color: #008080; font-weight: bold\">2025</span><span style=\"color: #00ff00; text-decoration-color: #00ff00; font-weight: bold\">-</span><span style=\"color: #008080; text-decoration-color: #008080; font-weight: bold\">04</span><span style=\"color: #00ff00; text-decoration-color: #00ff00; font-weight: bold\">-</span><span style=\"color: #008080; text-decoration-color: #008080; font-weight: bold\">03</span><span style=\"color: #00ff00; text-decoration-color: #00ff00; font-weight: bold\">)</span>\n",
       "</pre>\n"
      ],
      "text/plain": [
       "\u001b[1;92mI would like to place an order for \u001b[0m\u001b[1;36m500\u001b[0m\u001b[1;92m sheets of colorful poster paper, \u001b[0m\u001b[1;36m300\u001b[0m\u001b[1;92m roll of streamers, and \u001b[0m\u001b[1;36m200\u001b[0m\u001b[1;92m balloons for\u001b[0m\n",
       "\u001b[1;92mthe parade. Please deliver the supplies by April \u001b[0m\u001b[1;36m15\u001b[0m\u001b[1;92m, \u001b[0m\u001b[1;36m2025\u001b[0m\u001b[1;92m. Thank you. \u001b[0m\u001b[1;92m(\u001b[0m\u001b[1;92mDate of request: \u001b[0m\u001b[1;36m2025\u001b[0m\u001b[1;92m-\u001b[0m\u001b[1;36m04\u001b[0m\u001b[1;92m-\u001b[0m\u001b[1;36m03\u001b[0m\u001b[1;92m)\u001b[0m\n"
      ]
     },
     "metadata": {},
     "output_type": "display_data"
    },
    {
     "name": "stdout",
     "output_type": "stream",
     "text": [
      "\n"
     ]
    },
    {
     "data": {
      "text/html": [
       "<pre style=\"white-space:pre;overflow-x:auto;line-height:normal;font-family:Menlo,'DejaVu Sans Mono',consolas,'Courier New',monospace\"><span style=\"color: #ff00ff; text-decoration-color: #ff00ff; font-weight: bold\">Number items = </span><span style=\"color: #008080; text-decoration-color: #008080; font-weight: bold\">3</span><span style=\"color: #ff00ff; text-decoration-color: #ff00ff; font-weight: bold\">, </span><span style=\"color: #808000; text-decoration-color: #808000; font-weight: bold\">items</span><span style=\"color: #ff00ff; text-decoration-color: #ff00ff; font-weight: bold\">= [</span><span style=\"color: #008080; text-decoration-color: #008080; font-weight: bold\">500</span><span style=\"color: #ff00ff; text-decoration-color: #ff00ff; font-weight: bold\">, </span><span style=\"color: #008080; text-decoration-color: #008080; font-weight: bold\">300</span><span style=\"color: #ff00ff; text-decoration-color: #ff00ff; font-weight: bold\">, </span><span style=\"color: #008080; text-decoration-color: #008080; font-weight: bold\">200</span><span style=\"color: #ff00ff; text-decoration-color: #ff00ff; font-weight: bold\">]</span>\n",
       "</pre>\n"
      ],
      "text/plain": [
       "\u001b[1;95mNumber items = \u001b[0m\u001b[1;36m3\u001b[0m\u001b[1;95m, \u001b[0m\u001b[1;33mitems\u001b[0m\u001b[1;95m= \u001b[0m\u001b[1;95m[\u001b[0m\u001b[1;36m500\u001b[0m\u001b[1;95m, \u001b[0m\u001b[1;36m300\u001b[0m\u001b[1;95m, \u001b[0m\u001b[1;36m200\u001b[0m\u001b[1;95m]\u001b[0m\n"
      ]
     },
     "metadata": {},
     "output_type": "display_data"
    },
    {
     "data": {
      "text/html": [
       "<pre style=\"white-space:pre;overflow-x:auto;line-height:normal;font-family:Menlo,'DejaVu Sans Mono',consolas,'Courier New',monospace\">\n",
       "<span style=\"color: #ffff00; text-decoration-color: #ffff00; font-weight: bold\">=== Request </span><span style=\"color: #008080; text-decoration-color: #008080; font-weight: bold\">3</span><span style=\"color: #ffff00; text-decoration-color: #ffff00; font-weight: bold\"> ===</span>\n",
       "</pre>\n"
      ],
      "text/plain": [
       "\n",
       "\u001b[1;93m=== Request \u001b[0m\u001b[1;36m3\u001b[0m\u001b[1;93m ===\u001b[0m\n"
      ]
     },
     "metadata": {},
     "output_type": "display_data"
    },
    {
     "name": "stdout",
     "output_type": "stream",
     "text": [
      "Context: school board resouorce manager organizing conference\n",
      "Request Date: 2025-04-04\n"
     ]
    },
    {
     "data": {
      "text/html": [
       "<pre style=\"white-space:pre;overflow-x:auto;line-height:normal;font-family:Menlo,'DejaVu Sans Mono',consolas,'Courier New',monospace\"><span style=\"color: #00ff00; text-decoration-color: #00ff00; font-weight: bold\">I need to order </span><span style=\"color: #008080; text-decoration-color: #008080; font-weight: bold\">10</span><span style=\"color: #00ff00; text-decoration-color: #00ff00; font-weight: bold\">,</span><span style=\"color: #008080; text-decoration-color: #008080; font-weight: bold\">000</span><span style=\"color: #00ff00; text-decoration-color: #00ff00; font-weight: bold\"> sheets of A4 paper, </span><span style=\"color: #008080; text-decoration-color: #008080; font-weight: bold\">5</span><span style=\"color: #00ff00; text-decoration-color: #00ff00; font-weight: bold\">,</span><span style=\"color: #008080; text-decoration-color: #008080; font-weight: bold\">000</span><span style=\"color: #00ff00; text-decoration-color: #00ff00; font-weight: bold\"> sheets of A3 paper, and </span><span style=\"color: #008080; text-decoration-color: #008080; font-weight: bold\">500</span><span style=\"color: #00ff00; text-decoration-color: #00ff00; font-weight: bold\"> reams of printer paper. The supplies </span>\n",
       "<span style=\"color: #00ff00; text-decoration-color: #00ff00; font-weight: bold\">must be delivered by April </span><span style=\"color: #008080; text-decoration-color: #008080; font-weight: bold\">15</span><span style=\"color: #00ff00; text-decoration-color: #00ff00; font-weight: bold\">, </span><span style=\"color: #008080; text-decoration-color: #008080; font-weight: bold\">2025</span><span style=\"color: #00ff00; text-decoration-color: #00ff00; font-weight: bold\">, for our upcoming conference. Please confirm the order and delivery schedule. </span>\n",
       "<span style=\"color: #00ff00; text-decoration-color: #00ff00; font-weight: bold\">(Date of request: </span><span style=\"color: #008080; text-decoration-color: #008080; font-weight: bold\">2025</span><span style=\"color: #00ff00; text-decoration-color: #00ff00; font-weight: bold\">-</span><span style=\"color: #008080; text-decoration-color: #008080; font-weight: bold\">04</span><span style=\"color: #00ff00; text-decoration-color: #00ff00; font-weight: bold\">-</span><span style=\"color: #008080; text-decoration-color: #008080; font-weight: bold\">04</span><span style=\"color: #00ff00; text-decoration-color: #00ff00; font-weight: bold\">)</span>\n",
       "</pre>\n"
      ],
      "text/plain": [
       "\u001b[1;92mI need to order \u001b[0m\u001b[1;36m10\u001b[0m\u001b[1;92m,\u001b[0m\u001b[1;36m000\u001b[0m\u001b[1;92m sheets of A4 paper, \u001b[0m\u001b[1;36m5\u001b[0m\u001b[1;92m,\u001b[0m\u001b[1;36m000\u001b[0m\u001b[1;92m sheets of A3 paper, and \u001b[0m\u001b[1;36m500\u001b[0m\u001b[1;92m reams of printer paper. The supplies \u001b[0m\n",
       "\u001b[1;92mmust be delivered by April \u001b[0m\u001b[1;36m15\u001b[0m\u001b[1;92m, \u001b[0m\u001b[1;36m2025\u001b[0m\u001b[1;92m, for our upcoming conference. Please confirm the order and delivery schedule. \u001b[0m\n",
       "\u001b[1;92m(\u001b[0m\u001b[1;92mDate of request: \u001b[0m\u001b[1;36m2025\u001b[0m\u001b[1;92m-\u001b[0m\u001b[1;36m04\u001b[0m\u001b[1;92m-\u001b[0m\u001b[1;36m04\u001b[0m\u001b[1;92m)\u001b[0m\n"
      ]
     },
     "metadata": {},
     "output_type": "display_data"
    },
    {
     "name": "stdout",
     "output_type": "stream",
     "text": [
      "\n"
     ]
    },
    {
     "data": {
      "text/html": [
       "<pre style=\"white-space:pre;overflow-x:auto;line-height:normal;font-family:Menlo,'DejaVu Sans Mono',consolas,'Courier New',monospace\"><span style=\"color: #ff00ff; text-decoration-color: #ff00ff; font-weight: bold\">Number items = </span><span style=\"color: #008080; text-decoration-color: #008080; font-weight: bold\">3</span><span style=\"color: #ff00ff; text-decoration-color: #ff00ff; font-weight: bold\">, </span><span style=\"color: #808000; text-decoration-color: #808000; font-weight: bold\">items</span><span style=\"color: #ff00ff; text-decoration-color: #ff00ff; font-weight: bold\">= [</span><span style=\"color: #008080; text-decoration-color: #008080; font-weight: bold\">10000</span><span style=\"color: #ff00ff; text-decoration-color: #ff00ff; font-weight: bold\">, </span><span style=\"color: #008080; text-decoration-color: #008080; font-weight: bold\">5000</span><span style=\"color: #ff00ff; text-decoration-color: #ff00ff; font-weight: bold\">, </span><span style=\"color: #008080; text-decoration-color: #008080; font-weight: bold\">500</span><span style=\"color: #ff00ff; text-decoration-color: #ff00ff; font-weight: bold\">]</span>\n",
       "</pre>\n"
      ],
      "text/plain": [
       "\u001b[1;95mNumber items = \u001b[0m\u001b[1;36m3\u001b[0m\u001b[1;95m, \u001b[0m\u001b[1;33mitems\u001b[0m\u001b[1;95m= \u001b[0m\u001b[1;95m[\u001b[0m\u001b[1;36m10000\u001b[0m\u001b[1;95m, \u001b[0m\u001b[1;36m5000\u001b[0m\u001b[1;95m, \u001b[0m\u001b[1;36m500\u001b[0m\u001b[1;95m]\u001b[0m\n"
      ]
     },
     "metadata": {},
     "output_type": "display_data"
    },
    {
     "data": {
      "text/html": [
       "<pre style=\"white-space:pre;overflow-x:auto;line-height:normal;font-family:Menlo,'DejaVu Sans Mono',consolas,'Courier New',monospace\">\n",
       "<span style=\"color: #ffff00; text-decoration-color: #ffff00; font-weight: bold\">=== Request </span><span style=\"color: #008080; text-decoration-color: #008080; font-weight: bold\">4</span><span style=\"color: #ffff00; text-decoration-color: #ffff00; font-weight: bold\"> ===</span>\n",
       "</pre>\n"
      ],
      "text/plain": [
       "\n",
       "\u001b[1;93m=== Request \u001b[0m\u001b[1;36m4\u001b[0m\u001b[1;93m ===\u001b[0m\n"
      ]
     },
     "metadata": {},
     "output_type": "display_data"
    },
    {
     "name": "stdout",
     "output_type": "stream",
     "text": [
      "Context: non-profit director organizing reception\n",
      "Request Date: 2025-04-05\n"
     ]
    },
    {
     "data": {
      "text/html": [
       "<pre style=\"white-space:pre;overflow-x:auto;line-height:normal;font-family:Menlo,'DejaVu Sans Mono',consolas,'Courier New',monospace\"><span style=\"color: #00ff00; text-decoration-color: #00ff00; font-weight: bold\">I need </span><span style=\"color: #008080; text-decoration-color: #008080; font-weight: bold\">500</span><span style=\"color: #00ff00; text-decoration-color: #00ff00; font-weight: bold\"> sheets of high-quality, recycled cardstock in various colors for our reception, along with </span><span style=\"color: #008080; text-decoration-color: #008080; font-weight: bold\">250</span><span style=\"color: #00ff00; text-decoration-color: #00ff00; font-weight: bold\"> sheets of</span>\n",
       "<span style=\"color: #00ff00; text-decoration-color: #00ff00; font-weight: bold\">A4 size printer paper. I need the order delivered by April </span><span style=\"color: #008080; text-decoration-color: #008080; font-weight: bold\">15</span><span style=\"color: #00ff00; text-decoration-color: #00ff00; font-weight: bold\">, </span><span style=\"color: #008080; text-decoration-color: #008080; font-weight: bold\">2025</span><span style=\"color: #00ff00; text-decoration-color: #00ff00; font-weight: bold\">. (Date of request: </span><span style=\"color: #008080; text-decoration-color: #008080; font-weight: bold\">2025</span><span style=\"color: #00ff00; text-decoration-color: #00ff00; font-weight: bold\">-</span><span style=\"color: #008080; text-decoration-color: #008080; font-weight: bold\">04</span><span style=\"color: #00ff00; text-decoration-color: #00ff00; font-weight: bold\">-</span><span style=\"color: #008080; text-decoration-color: #008080; font-weight: bold\">05</span><span style=\"color: #00ff00; text-decoration-color: #00ff00; font-weight: bold\">)</span>\n",
       "</pre>\n"
      ],
      "text/plain": [
       "\u001b[1;92mI need \u001b[0m\u001b[1;36m500\u001b[0m\u001b[1;92m sheets of high-quality, recycled cardstock in various colors for our reception, along with \u001b[0m\u001b[1;36m250\u001b[0m\u001b[1;92m sheets of\u001b[0m\n",
       "\u001b[1;92mA4 size printer paper. I need the order delivered by April \u001b[0m\u001b[1;36m15\u001b[0m\u001b[1;92m, \u001b[0m\u001b[1;36m2025\u001b[0m\u001b[1;92m. \u001b[0m\u001b[1;92m(\u001b[0m\u001b[1;92mDate of request: \u001b[0m\u001b[1;36m2025\u001b[0m\u001b[1;92m-\u001b[0m\u001b[1;36m04\u001b[0m\u001b[1;92m-\u001b[0m\u001b[1;36m05\u001b[0m\u001b[1;92m)\u001b[0m\n"
      ]
     },
     "metadata": {},
     "output_type": "display_data"
    },
    {
     "name": "stdout",
     "output_type": "stream",
     "text": [
      "\n"
     ]
    },
    {
     "data": {
      "text/html": [
       "<pre style=\"white-space:pre;overflow-x:auto;line-height:normal;font-family:Menlo,'DejaVu Sans Mono',consolas,'Courier New',monospace\"><span style=\"color: #ff00ff; text-decoration-color: #ff00ff; font-weight: bold\">Number items = </span><span style=\"color: #008080; text-decoration-color: #008080; font-weight: bold\">2</span><span style=\"color: #ff00ff; text-decoration-color: #ff00ff; font-weight: bold\">, </span><span style=\"color: #808000; text-decoration-color: #808000; font-weight: bold\">items</span><span style=\"color: #ff00ff; text-decoration-color: #ff00ff; font-weight: bold\">= [</span><span style=\"color: #008080; text-decoration-color: #008080; font-weight: bold\">500</span><span style=\"color: #ff00ff; text-decoration-color: #ff00ff; font-weight: bold\">, </span><span style=\"color: #008080; text-decoration-color: #008080; font-weight: bold\">250</span><span style=\"color: #ff00ff; text-decoration-color: #ff00ff; font-weight: bold\">]</span>\n",
       "</pre>\n"
      ],
      "text/plain": [
       "\u001b[1;95mNumber items = \u001b[0m\u001b[1;36m2\u001b[0m\u001b[1;95m, \u001b[0m\u001b[1;33mitems\u001b[0m\u001b[1;95m= \u001b[0m\u001b[1;95m[\u001b[0m\u001b[1;36m500\u001b[0m\u001b[1;95m, \u001b[0m\u001b[1;36m250\u001b[0m\u001b[1;95m]\u001b[0m\n"
      ]
     },
     "metadata": {},
     "output_type": "display_data"
    },
    {
     "data": {
      "text/html": [
       "<pre style=\"white-space:pre;overflow-x:auto;line-height:normal;font-family:Menlo,'DejaVu Sans Mono',consolas,'Courier New',monospace\">\n",
       "<span style=\"color: #ffff00; text-decoration-color: #ffff00; font-weight: bold\">=== Request </span><span style=\"color: #008080; text-decoration-color: #008080; font-weight: bold\">5</span><span style=\"color: #ffff00; text-decoration-color: #ffff00; font-weight: bold\"> ===</span>\n",
       "</pre>\n"
      ],
      "text/plain": [
       "\n",
       "\u001b[1;93m=== Request \u001b[0m\u001b[1;36m5\u001b[0m\u001b[1;93m ===\u001b[0m\n"
      ]
     },
     "metadata": {},
     "output_type": "display_data"
    },
    {
     "name": "stdout",
     "output_type": "stream",
     "text": [
      "Context: school teacher organizing party\n",
      "Request Date: 2025-04-05\n"
     ]
    },
    {
     "data": {
      "text/html": [
       "<pre style=\"white-space:pre;overflow-x:auto;line-height:normal;font-family:Menlo,'DejaVu Sans Mono',consolas,'Courier New',monospace\"><span style=\"color: #00ff00; text-decoration-color: #00ff00; font-weight: bold\">I would like to place an order for </span><span style=\"color: #008080; text-decoration-color: #008080; font-weight: bold\">500</span><span style=\"color: #00ff00; text-decoration-color: #00ff00; font-weight: bold\"> sheets of </span><span style=\"color: #008080; text-decoration-color: #008080; font-weight: bold\">8.5</span><span style=\"color: #00ff00; text-decoration-color: #00ff00; font-weight: bold\">\"x11\" colored paper, </span><span style=\"color: #008080; text-decoration-color: #008080; font-weight: bold\">300</span><span style=\"color: #00ff00; text-decoration-color: #00ff00; font-weight: bold\"> sheets of cardstock in various colors,</span>\n",
       "<span style=\"color: #00ff00; text-decoration-color: #00ff00; font-weight: bold\">and </span><span style=\"color: #008080; text-decoration-color: #008080; font-weight: bold\">200</span><span style=\"color: #00ff00; text-decoration-color: #00ff00; font-weight: bold\"> rolls of decorative washi tape. I need these supplies delivered by April </span><span style=\"color: #008080; text-decoration-color: #008080; font-weight: bold\">15</span><span style=\"color: #00ff00; text-decoration-color: #00ff00; font-weight: bold\">, </span><span style=\"color: #008080; text-decoration-color: #008080; font-weight: bold\">2025</span><span style=\"color: #00ff00; text-decoration-color: #00ff00; font-weight: bold\">, for an upcoming party. </span>\n",
       "<span style=\"color: #00ff00; text-decoration-color: #00ff00; font-weight: bold\">Thank you! (Date of request: </span><span style=\"color: #008080; text-decoration-color: #008080; font-weight: bold\">2025</span><span style=\"color: #00ff00; text-decoration-color: #00ff00; font-weight: bold\">-</span><span style=\"color: #008080; text-decoration-color: #008080; font-weight: bold\">04</span><span style=\"color: #00ff00; text-decoration-color: #00ff00; font-weight: bold\">-</span><span style=\"color: #008080; text-decoration-color: #008080; font-weight: bold\">05</span><span style=\"color: #00ff00; text-decoration-color: #00ff00; font-weight: bold\">)</span>\n",
       "</pre>\n"
      ],
      "text/plain": [
       "\u001b[1;92mI would like to place an order for \u001b[0m\u001b[1;36m500\u001b[0m\u001b[1;92m sheets of \u001b[0m\u001b[1;36m8.5\u001b[0m\u001b[1;92m\"x11\" colored paper, \u001b[0m\u001b[1;36m300\u001b[0m\u001b[1;92m sheets of cardstock in various colors,\u001b[0m\n",
       "\u001b[1;92mand \u001b[0m\u001b[1;36m200\u001b[0m\u001b[1;92m rolls of decorative washi tape. I need these supplies delivered by April \u001b[0m\u001b[1;36m15\u001b[0m\u001b[1;92m, \u001b[0m\u001b[1;36m2025\u001b[0m\u001b[1;92m, for an upcoming party. \u001b[0m\n",
       "\u001b[1;92mThank you! \u001b[0m\u001b[1;92m(\u001b[0m\u001b[1;92mDate of request: \u001b[0m\u001b[1;36m2025\u001b[0m\u001b[1;92m-\u001b[0m\u001b[1;36m04\u001b[0m\u001b[1;92m-\u001b[0m\u001b[1;36m05\u001b[0m\u001b[1;92m)\u001b[0m\n"
      ]
     },
     "metadata": {},
     "output_type": "display_data"
    },
    {
     "name": "stdout",
     "output_type": "stream",
     "text": [
      "\n"
     ]
    },
    {
     "data": {
      "text/html": [
       "<pre style=\"white-space:pre;overflow-x:auto;line-height:normal;font-family:Menlo,'DejaVu Sans Mono',consolas,'Courier New',monospace\"><span style=\"color: #ff00ff; text-decoration-color: #ff00ff; font-weight: bold\">Number items = </span><span style=\"color: #008080; text-decoration-color: #008080; font-weight: bold\">3</span><span style=\"color: #ff00ff; text-decoration-color: #ff00ff; font-weight: bold\">, </span><span style=\"color: #808000; text-decoration-color: #808000; font-weight: bold\">items</span><span style=\"color: #ff00ff; text-decoration-color: #ff00ff; font-weight: bold\">= [</span><span style=\"color: #008080; text-decoration-color: #008080; font-weight: bold\">500</span><span style=\"color: #ff00ff; text-decoration-color: #ff00ff; font-weight: bold\">, </span><span style=\"color: #008080; text-decoration-color: #008080; font-weight: bold\">300</span><span style=\"color: #ff00ff; text-decoration-color: #ff00ff; font-weight: bold\">, </span><span style=\"color: #008080; text-decoration-color: #008080; font-weight: bold\">200</span><span style=\"color: #ff00ff; text-decoration-color: #ff00ff; font-weight: bold\">]</span>\n",
       "</pre>\n"
      ],
      "text/plain": [
       "\u001b[1;95mNumber items = \u001b[0m\u001b[1;36m3\u001b[0m\u001b[1;95m, \u001b[0m\u001b[1;33mitems\u001b[0m\u001b[1;95m= \u001b[0m\u001b[1;95m[\u001b[0m\u001b[1;36m500\u001b[0m\u001b[1;95m, \u001b[0m\u001b[1;36m300\u001b[0m\u001b[1;95m, \u001b[0m\u001b[1;36m200\u001b[0m\u001b[1;95m]\u001b[0m\n"
      ]
     },
     "metadata": {},
     "output_type": "display_data"
    },
    {
     "data": {
      "text/html": [
       "<pre style=\"white-space:pre;overflow-x:auto;line-height:normal;font-family:Menlo,'DejaVu Sans Mono',consolas,'Courier New',monospace\">\n",
       "<span style=\"color: #ffff00; text-decoration-color: #ffff00; font-weight: bold\">=== Request </span><span style=\"color: #008080; text-decoration-color: #008080; font-weight: bold\">6</span><span style=\"color: #ffff00; text-decoration-color: #ffff00; font-weight: bold\"> ===</span>\n",
       "</pre>\n"
      ],
      "text/plain": [
       "\n",
       "\u001b[1;93m=== Request \u001b[0m\u001b[1;36m6\u001b[0m\u001b[1;93m ===\u001b[0m\n"
      ]
     },
     "metadata": {},
     "output_type": "display_data"
    },
    {
     "name": "stdout",
     "output_type": "stream",
     "text": [
      "Context: school teacher organizing assembly\n",
      "Request Date: 2025-04-06\n"
     ]
    },
    {
     "data": {
      "text/html": [
       "<pre style=\"white-space:pre;overflow-x:auto;line-height:normal;font-family:Menlo,'DejaVu Sans Mono',consolas,'Courier New',monospace\"><span style=\"color: #00ff00; text-decoration-color: #00ff00; font-weight: bold\">I would like to order </span><span style=\"color: #008080; text-decoration-color: #008080; font-weight: bold\">500</span><span style=\"color: #00ff00; text-decoration-color: #00ff00; font-weight: bold\"> sheets of colorful construction paper, </span><span style=\"color: #008080; text-decoration-color: #008080; font-weight: bold\">300</span><span style=\"color: #00ff00; text-decoration-color: #00ff00; font-weight: bold\"> sheets of white printer paper, and </span><span style=\"color: #008080; text-decoration-color: #008080; font-weight: bold\">200</span><span style=\"color: #00ff00; text-decoration-color: #00ff00; font-weight: bold\"> sheets </span>\n",
       "<span style=\"color: #00ff00; text-decoration-color: #00ff00; font-weight: bold\">of cardstock in various colors. We need these supplies delivered by April </span><span style=\"color: #008080; text-decoration-color: #008080; font-weight: bold\">15</span><span style=\"color: #00ff00; text-decoration-color: #00ff00; font-weight: bold\">, </span><span style=\"color: #008080; text-decoration-color: #008080; font-weight: bold\">2025</span><span style=\"color: #00ff00; text-decoration-color: #00ff00; font-weight: bold\">, for our upcoming assembly. </span>\n",
       "<span style=\"color: #00ff00; text-decoration-color: #00ff00; font-weight: bold\">(Date of request: </span><span style=\"color: #008080; text-decoration-color: #008080; font-weight: bold\">2025</span><span style=\"color: #00ff00; text-decoration-color: #00ff00; font-weight: bold\">-</span><span style=\"color: #008080; text-decoration-color: #008080; font-weight: bold\">04</span><span style=\"color: #00ff00; text-decoration-color: #00ff00; font-weight: bold\">-</span><span style=\"color: #008080; text-decoration-color: #008080; font-weight: bold\">06</span><span style=\"color: #00ff00; text-decoration-color: #00ff00; font-weight: bold\">)</span>\n",
       "</pre>\n"
      ],
      "text/plain": [
       "\u001b[1;92mI would like to order \u001b[0m\u001b[1;36m500\u001b[0m\u001b[1;92m sheets of colorful construction paper, \u001b[0m\u001b[1;36m300\u001b[0m\u001b[1;92m sheets of white printer paper, and \u001b[0m\u001b[1;36m200\u001b[0m\u001b[1;92m sheets \u001b[0m\n",
       "\u001b[1;92mof cardstock in various colors. We need these supplies delivered by April \u001b[0m\u001b[1;36m15\u001b[0m\u001b[1;92m, \u001b[0m\u001b[1;36m2025\u001b[0m\u001b[1;92m, for our upcoming assembly. \u001b[0m\n",
       "\u001b[1;92m(\u001b[0m\u001b[1;92mDate of request: \u001b[0m\u001b[1;36m2025\u001b[0m\u001b[1;92m-\u001b[0m\u001b[1;36m04\u001b[0m\u001b[1;92m-\u001b[0m\u001b[1;36m06\u001b[0m\u001b[1;92m)\u001b[0m\n"
      ]
     },
     "metadata": {},
     "output_type": "display_data"
    },
    {
     "name": "stdout",
     "output_type": "stream",
     "text": [
      "\n"
     ]
    },
    {
     "data": {
      "text/html": [
       "<pre style=\"white-space:pre;overflow-x:auto;line-height:normal;font-family:Menlo,'DejaVu Sans Mono',consolas,'Courier New',monospace\"><span style=\"color: #ff00ff; text-decoration-color: #ff00ff; font-weight: bold\">Number items = </span><span style=\"color: #008080; text-decoration-color: #008080; font-weight: bold\">3</span><span style=\"color: #ff00ff; text-decoration-color: #ff00ff; font-weight: bold\">, </span><span style=\"color: #808000; text-decoration-color: #808000; font-weight: bold\">items</span><span style=\"color: #ff00ff; text-decoration-color: #ff00ff; font-weight: bold\">= [</span><span style=\"color: #008080; text-decoration-color: #008080; font-weight: bold\">500</span><span style=\"color: #ff00ff; text-decoration-color: #ff00ff; font-weight: bold\">, </span><span style=\"color: #008080; text-decoration-color: #008080; font-weight: bold\">300</span><span style=\"color: #ff00ff; text-decoration-color: #ff00ff; font-weight: bold\">, </span><span style=\"color: #008080; text-decoration-color: #008080; font-weight: bold\">200</span><span style=\"color: #ff00ff; text-decoration-color: #ff00ff; font-weight: bold\">]</span>\n",
       "</pre>\n"
      ],
      "text/plain": [
       "\u001b[1;95mNumber items = \u001b[0m\u001b[1;36m3\u001b[0m\u001b[1;95m, \u001b[0m\u001b[1;33mitems\u001b[0m\u001b[1;95m= \u001b[0m\u001b[1;95m[\u001b[0m\u001b[1;36m500\u001b[0m\u001b[1;95m, \u001b[0m\u001b[1;36m300\u001b[0m\u001b[1;95m, \u001b[0m\u001b[1;36m200\u001b[0m\u001b[1;95m]\u001b[0m\n"
      ]
     },
     "metadata": {},
     "output_type": "display_data"
    },
    {
     "data": {
      "text/html": [
       "<pre style=\"white-space:pre;overflow-x:auto;line-height:normal;font-family:Menlo,'DejaVu Sans Mono',consolas,'Courier New',monospace\">\n",
       "<span style=\"color: #ffff00; text-decoration-color: #ffff00; font-weight: bold\">=== Request </span><span style=\"color: #008080; text-decoration-color: #008080; font-weight: bold\">7</span><span style=\"color: #ffff00; text-decoration-color: #ffff00; font-weight: bold\"> ===</span>\n",
       "</pre>\n"
      ],
      "text/plain": [
       "\n",
       "\u001b[1;93m=== Request \u001b[0m\u001b[1;36m7\u001b[0m\u001b[1;93m ===\u001b[0m\n"
      ]
     },
     "metadata": {},
     "output_type": "display_data"
    },
    {
     "name": "stdout",
     "output_type": "stream",
     "text": [
      "Context: business owner organizing exhibition\n",
      "Request Date: 2025-04-07\n"
     ]
    },
    {
     "data": {
      "text/html": [
       "<pre style=\"white-space:pre;overflow-x:auto;line-height:normal;font-family:Menlo,'DejaVu Sans Mono',consolas,'Courier New',monospace\"><span style=\"color: #00ff00; text-decoration-color: #00ff00; font-weight: bold\">I would like to place a large order for various types of paper supplies for our upcoming exhibition. We need the </span>\n",
       "<span style=\"color: #00ff00; text-decoration-color: #00ff00; font-weight: bold\">following items:</span>\n",
       "\n",
       "<span style=\"color: #00ff00; text-decoration-color: #00ff00; font-weight: bold\">- </span><span style=\"color: #008080; text-decoration-color: #008080; font-weight: bold\">500</span><span style=\"color: #00ff00; text-decoration-color: #00ff00; font-weight: bold\"> sheets of glossy A4 paper</span>\n",
       "<span style=\"color: #00ff00; text-decoration-color: #00ff00; font-weight: bold\">- </span><span style=\"color: #008080; text-decoration-color: #008080; font-weight: bold\">1000</span><span style=\"color: #00ff00; text-decoration-color: #00ff00; font-weight: bold\"> sheets of matte A3 paper</span>\n",
       "<span style=\"color: #00ff00; text-decoration-color: #00ff00; font-weight: bold\">- </span><span style=\"color: #008080; text-decoration-color: #008080; font-weight: bold\">300</span><span style=\"color: #00ff00; text-decoration-color: #00ff00; font-weight: bold\"> poster boards (</span><span style=\"color: #008080; text-decoration-color: #008080; font-weight: bold\">24</span><span style=\"color: #00ff00; text-decoration-color: #00ff00; font-weight: bold\">\" x </span><span style=\"color: #008080; text-decoration-color: #008080; font-weight: bold\">36</span><span style=\"color: #00ff00; text-decoration-color: #00ff00; font-weight: bold\">\")</span>\n",
       "<span style=\"color: #00ff00; text-decoration-color: #00ff00; font-weight: bold\">- </span><span style=\"color: #008080; text-decoration-color: #008080; font-weight: bold\">200</span><span style=\"color: #00ff00; text-decoration-color: #00ff00; font-weight: bold\"> sheets of heavyweight cardstock</span>\n",
       "\n",
       "<span style=\"color: #00ff00; text-decoration-color: #00ff00; font-weight: bold\">We need these supplies delivered by April </span><span style=\"color: #008080; text-decoration-color: #008080; font-weight: bold\">15</span><span style=\"color: #00ff00; text-decoration-color: #00ff00; font-weight: bold\">, </span><span style=\"color: #008080; text-decoration-color: #008080; font-weight: bold\">2025</span><span style=\"color: #00ff00; text-decoration-color: #00ff00; font-weight: bold\">. Thank you. (Date of request: </span><span style=\"color: #008080; text-decoration-color: #008080; font-weight: bold\">2025</span><span style=\"color: #00ff00; text-decoration-color: #00ff00; font-weight: bold\">-</span><span style=\"color: #008080; text-decoration-color: #008080; font-weight: bold\">04</span><span style=\"color: #00ff00; text-decoration-color: #00ff00; font-weight: bold\">-</span><span style=\"color: #008080; text-decoration-color: #008080; font-weight: bold\">07</span><span style=\"color: #00ff00; text-decoration-color: #00ff00; font-weight: bold\">)</span>\n",
       "</pre>\n"
      ],
      "text/plain": [
       "\u001b[1;92mI would like to place a large order for various types of paper supplies for our upcoming exhibition. We need the \u001b[0m\n",
       "\u001b[1;92mfollowing items:\u001b[0m\n",
       "\n",
       "\u001b[1;92m- \u001b[0m\u001b[1;36m500\u001b[0m\u001b[1;92m sheets of glossy A4 paper\u001b[0m\n",
       "\u001b[1;92m- \u001b[0m\u001b[1;36m1000\u001b[0m\u001b[1;92m sheets of matte A3 paper\u001b[0m\n",
       "\u001b[1;92m- \u001b[0m\u001b[1;36m300\u001b[0m\u001b[1;92m poster boards \u001b[0m\u001b[1;92m(\u001b[0m\u001b[1;36m24\u001b[0m\u001b[1;92m\" x \u001b[0m\u001b[1;36m36\u001b[0m\u001b[1;92m\"\u001b[0m\u001b[1;92m)\u001b[0m\n",
       "\u001b[1;92m- \u001b[0m\u001b[1;36m200\u001b[0m\u001b[1;92m sheets of heavyweight cardstock\u001b[0m\n",
       "\n",
       "\u001b[1;92mWe need these supplies delivered by April \u001b[0m\u001b[1;36m15\u001b[0m\u001b[1;92m, \u001b[0m\u001b[1;36m2025\u001b[0m\u001b[1;92m. Thank you. \u001b[0m\u001b[1;92m(\u001b[0m\u001b[1;92mDate of request: \u001b[0m\u001b[1;36m2025\u001b[0m\u001b[1;92m-\u001b[0m\u001b[1;36m04\u001b[0m\u001b[1;92m-\u001b[0m\u001b[1;36m07\u001b[0m\u001b[1;92m)\u001b[0m\n"
      ]
     },
     "metadata": {},
     "output_type": "display_data"
    },
    {
     "name": "stdout",
     "output_type": "stream",
     "text": [
      "\n"
     ]
    },
    {
     "data": {
      "text/html": [
       "<pre style=\"white-space:pre;overflow-x:auto;line-height:normal;font-family:Menlo,'DejaVu Sans Mono',consolas,'Courier New',monospace\"><span style=\"color: #ff00ff; text-decoration-color: #ff00ff; font-weight: bold\">Number items = </span><span style=\"color: #008080; text-decoration-color: #008080; font-weight: bold\">4</span><span style=\"color: #ff00ff; text-decoration-color: #ff00ff; font-weight: bold\">, </span><span style=\"color: #808000; text-decoration-color: #808000; font-weight: bold\">items</span><span style=\"color: #ff00ff; text-decoration-color: #ff00ff; font-weight: bold\">= [</span><span style=\"color: #008080; text-decoration-color: #008080; font-weight: bold\">500</span><span style=\"color: #ff00ff; text-decoration-color: #ff00ff; font-weight: bold\">, </span><span style=\"color: #008080; text-decoration-color: #008080; font-weight: bold\">1000</span><span style=\"color: #ff00ff; text-decoration-color: #ff00ff; font-weight: bold\">, </span><span style=\"color: #008080; text-decoration-color: #008080; font-weight: bold\">300</span><span style=\"color: #ff00ff; text-decoration-color: #ff00ff; font-weight: bold\">, </span><span style=\"color: #008080; text-decoration-color: #008080; font-weight: bold\">200</span><span style=\"color: #ff00ff; text-decoration-color: #ff00ff; font-weight: bold\">]</span>\n",
       "</pre>\n"
      ],
      "text/plain": [
       "\u001b[1;95mNumber items = \u001b[0m\u001b[1;36m4\u001b[0m\u001b[1;95m, \u001b[0m\u001b[1;33mitems\u001b[0m\u001b[1;95m= \u001b[0m\u001b[1;95m[\u001b[0m\u001b[1;36m500\u001b[0m\u001b[1;95m, \u001b[0m\u001b[1;36m1000\u001b[0m\u001b[1;95m, \u001b[0m\u001b[1;36m300\u001b[0m\u001b[1;95m, \u001b[0m\u001b[1;36m200\u001b[0m\u001b[1;95m]\u001b[0m\n"
      ]
     },
     "metadata": {},
     "output_type": "display_data"
    },
    {
     "data": {
      "text/html": [
       "<pre style=\"white-space:pre;overflow-x:auto;line-height:normal;font-family:Menlo,'DejaVu Sans Mono',consolas,'Courier New',monospace\">\n",
       "<span style=\"color: #ffff00; text-decoration-color: #ffff00; font-weight: bold\">=== Request </span><span style=\"color: #008080; text-decoration-color: #008080; font-weight: bold\">8</span><span style=\"color: #ffff00; text-decoration-color: #ffff00; font-weight: bold\"> ===</span>\n",
       "</pre>\n"
      ],
      "text/plain": [
       "\n",
       "\u001b[1;93m=== Request \u001b[0m\u001b[1;36m8\u001b[0m\u001b[1;93m ===\u001b[0m\n"
      ]
     },
     "metadata": {},
     "output_type": "display_data"
    },
    {
     "name": "stdout",
     "output_type": "stream",
     "text": [
      "Context: school board resouorce manager organizing ceremony\n",
      "Request Date: 2025-04-07\n"
     ]
    },
    {
     "data": {
      "text/html": [
       "<pre style=\"white-space:pre;overflow-x:auto;line-height:normal;font-family:Menlo,'DejaVu Sans Mono',consolas,'Courier New',monospace\"><span style=\"color: #00ff00; text-decoration-color: #00ff00; font-weight: bold\">I would like to place a large order for the following paper supplies for an upcoming ceremony: </span>\n",
       "\n",
       "<span style=\"color: #00ff00; text-decoration-color: #00ff00; font-weight: bold\">- </span><span style=\"color: #008080; text-decoration-color: #008080; font-weight: bold\">500</span><span style=\"color: #00ff00; text-decoration-color: #00ff00; font-weight: bold\"> sheets of A4 glossy paper </span>\n",
       "<span style=\"color: #00ff00; text-decoration-color: #00ff00; font-weight: bold\">- </span><span style=\"color: #008080; text-decoration-color: #008080; font-weight: bold\">1000</span><span style=\"color: #00ff00; text-decoration-color: #00ff00; font-weight: bold\"> sheets of A4 matte paper </span>\n",
       "<span style=\"color: #00ff00; text-decoration-color: #00ff00; font-weight: bold\">- </span><span style=\"color: #008080; text-decoration-color: #008080; font-weight: bold\">2000</span><span style=\"color: #00ff00; text-decoration-color: #00ff00; font-weight: bold\"> sheets of A5 colored paper </span>\n",
       "<span style=\"color: #00ff00; text-decoration-color: #00ff00; font-weight: bold\">- </span><span style=\"color: #008080; text-decoration-color: #008080; font-weight: bold\">3000</span><span style=\"color: #00ff00; text-decoration-color: #00ff00; font-weight: bold\"> sheets of A4 recycled paper </span>\n",
       "\n",
       "<span style=\"color: #00ff00; text-decoration-color: #00ff00; font-weight: bold\">Please ensure delivery by April </span><span style=\"color: #008080; text-decoration-color: #008080; font-weight: bold\">15</span><span style=\"color: #00ff00; text-decoration-color: #00ff00; font-weight: bold\">, </span><span style=\"color: #008080; text-decoration-color: #008080; font-weight: bold\">2025</span><span style=\"color: #00ff00; text-decoration-color: #00ff00; font-weight: bold\">. Thank you. (Date of request: </span><span style=\"color: #008080; text-decoration-color: #008080; font-weight: bold\">2025</span><span style=\"color: #00ff00; text-decoration-color: #00ff00; font-weight: bold\">-</span><span style=\"color: #008080; text-decoration-color: #008080; font-weight: bold\">04</span><span style=\"color: #00ff00; text-decoration-color: #00ff00; font-weight: bold\">-</span><span style=\"color: #008080; text-decoration-color: #008080; font-weight: bold\">07</span><span style=\"color: #00ff00; text-decoration-color: #00ff00; font-weight: bold\">)</span>\n",
       "</pre>\n"
      ],
      "text/plain": [
       "\u001b[1;92mI would like to place a large order for the following paper supplies for an upcoming ceremony: \u001b[0m\n",
       "\n",
       "\u001b[1;92m- \u001b[0m\u001b[1;36m500\u001b[0m\u001b[1;92m sheets of A4 glossy paper \u001b[0m\n",
       "\u001b[1;92m- \u001b[0m\u001b[1;36m1000\u001b[0m\u001b[1;92m sheets of A4 matte paper \u001b[0m\n",
       "\u001b[1;92m- \u001b[0m\u001b[1;36m2000\u001b[0m\u001b[1;92m sheets of A5 colored paper \u001b[0m\n",
       "\u001b[1;92m- \u001b[0m\u001b[1;36m3000\u001b[0m\u001b[1;92m sheets of A4 recycled paper \u001b[0m\n",
       "\n",
       "\u001b[1;92mPlease ensure delivery by April \u001b[0m\u001b[1;36m15\u001b[0m\u001b[1;92m, \u001b[0m\u001b[1;36m2025\u001b[0m\u001b[1;92m. Thank you. \u001b[0m\u001b[1;92m(\u001b[0m\u001b[1;92mDate of request: \u001b[0m\u001b[1;36m2025\u001b[0m\u001b[1;92m-\u001b[0m\u001b[1;36m04\u001b[0m\u001b[1;92m-\u001b[0m\u001b[1;36m07\u001b[0m\u001b[1;92m)\u001b[0m\n"
      ]
     },
     "metadata": {},
     "output_type": "display_data"
    },
    {
     "name": "stdout",
     "output_type": "stream",
     "text": [
      "\n"
     ]
    },
    {
     "data": {
      "text/html": [
       "<pre style=\"white-space:pre;overflow-x:auto;line-height:normal;font-family:Menlo,'DejaVu Sans Mono',consolas,'Courier New',monospace\"><span style=\"color: #ff00ff; text-decoration-color: #ff00ff; font-weight: bold\">Number items = </span><span style=\"color: #008080; text-decoration-color: #008080; font-weight: bold\">4</span><span style=\"color: #ff00ff; text-decoration-color: #ff00ff; font-weight: bold\">, </span><span style=\"color: #808000; text-decoration-color: #808000; font-weight: bold\">items</span><span style=\"color: #ff00ff; text-decoration-color: #ff00ff; font-weight: bold\">= [</span><span style=\"color: #008080; text-decoration-color: #008080; font-weight: bold\">500</span><span style=\"color: #ff00ff; text-decoration-color: #ff00ff; font-weight: bold\">, </span><span style=\"color: #008080; text-decoration-color: #008080; font-weight: bold\">1000</span><span style=\"color: #ff00ff; text-decoration-color: #ff00ff; font-weight: bold\">, </span><span style=\"color: #008080; text-decoration-color: #008080; font-weight: bold\">2000</span><span style=\"color: #ff00ff; text-decoration-color: #ff00ff; font-weight: bold\">, </span><span style=\"color: #008080; text-decoration-color: #008080; font-weight: bold\">3000</span><span style=\"color: #ff00ff; text-decoration-color: #ff00ff; font-weight: bold\">]</span>\n",
       "</pre>\n"
      ],
      "text/plain": [
       "\u001b[1;95mNumber items = \u001b[0m\u001b[1;36m4\u001b[0m\u001b[1;95m, \u001b[0m\u001b[1;33mitems\u001b[0m\u001b[1;95m= \u001b[0m\u001b[1;95m[\u001b[0m\u001b[1;36m500\u001b[0m\u001b[1;95m, \u001b[0m\u001b[1;36m1000\u001b[0m\u001b[1;95m, \u001b[0m\u001b[1;36m2000\u001b[0m\u001b[1;95m, \u001b[0m\u001b[1;36m3000\u001b[0m\u001b[1;95m]\u001b[0m\n"
      ]
     },
     "metadata": {},
     "output_type": "display_data"
    },
    {
     "data": {
      "text/html": [
       "<pre style=\"white-space:pre;overflow-x:auto;line-height:normal;font-family:Menlo,'DejaVu Sans Mono',consolas,'Courier New',monospace\">\n",
       "<span style=\"color: #ffff00; text-decoration-color: #ffff00; font-weight: bold\">=== Request </span><span style=\"color: #008080; text-decoration-color: #008080; font-weight: bold\">9</span><span style=\"color: #ffff00; text-decoration-color: #ffff00; font-weight: bold\"> ===</span>\n",
       "</pre>\n"
      ],
      "text/plain": [
       "\n",
       "\u001b[1;93m=== Request \u001b[0m\u001b[1;36m9\u001b[0m\u001b[1;93m ===\u001b[0m\n"
      ]
     },
     "metadata": {},
     "output_type": "display_data"
    },
    {
     "name": "stdout",
     "output_type": "stream",
     "text": [
      "Context: city hall clerk organizing reception\n",
      "Request Date: 2025-04-07\n"
     ]
    },
    {
     "data": {
      "text/html": [
       "<pre style=\"white-space:pre;overflow-x:auto;line-height:normal;font-family:Menlo,'DejaVu Sans Mono',consolas,'Courier New',monospace\"><span style=\"color: #00ff00; text-decoration-color: #00ff00; font-weight: bold\">I would like to place an order for the following paper supplies for the reception: </span>\n",
       "\n",
       "<span style=\"color: #00ff00; text-decoration-color: #00ff00; font-weight: bold\">- </span><span style=\"color: #008080; text-decoration-color: #008080; font-weight: bold\">200</span><span style=\"color: #00ff00; text-decoration-color: #00ff00; font-weight: bold\"> sheets of A4 white printer paper</span>\n",
       "<span style=\"color: #00ff00; text-decoration-color: #00ff00; font-weight: bold\">- </span><span style=\"color: #008080; text-decoration-color: #008080; font-weight: bold\">100</span><span style=\"color: #00ff00; text-decoration-color: #00ff00; font-weight: bold\"> sheets of A3 glossy paper</span>\n",
       "<span style=\"color: #00ff00; text-decoration-color: #00ff00; font-weight: bold\">- </span><span style=\"color: #008080; text-decoration-color: #008080; font-weight: bold\">50</span><span style=\"color: #00ff00; text-decoration-color: #00ff00; font-weight: bold\"> packets of </span><span style=\"color: #008080; text-decoration-color: #008080; font-weight: bold\">100</span><span style=\"color: #00ff00; text-decoration-color: #00ff00; font-weight: bold\">% recycled kraft paper envelopes</span>\n",
       "\n",
       "<span style=\"color: #00ff00; text-decoration-color: #00ff00; font-weight: bold\">I need these supplies delivered by April </span><span style=\"color: #008080; text-decoration-color: #008080; font-weight: bold\">10</span><span style=\"color: #00ff00; text-decoration-color: #00ff00; font-weight: bold\">, </span><span style=\"color: #008080; text-decoration-color: #008080; font-weight: bold\">2025</span><span style=\"color: #00ff00; text-decoration-color: #00ff00; font-weight: bold\">. Thank you. (Date of request: </span><span style=\"color: #008080; text-decoration-color: #008080; font-weight: bold\">2025</span><span style=\"color: #00ff00; text-decoration-color: #00ff00; font-weight: bold\">-</span><span style=\"color: #008080; text-decoration-color: #008080; font-weight: bold\">04</span><span style=\"color: #00ff00; text-decoration-color: #00ff00; font-weight: bold\">-</span><span style=\"color: #008080; text-decoration-color: #008080; font-weight: bold\">07</span><span style=\"color: #00ff00; text-decoration-color: #00ff00; font-weight: bold\">)</span>\n",
       "</pre>\n"
      ],
      "text/plain": [
       "\u001b[1;92mI would like to place an order for the following paper supplies for the reception: \u001b[0m\n",
       "\n",
       "\u001b[1;92m- \u001b[0m\u001b[1;36m200\u001b[0m\u001b[1;92m sheets of A4 white printer paper\u001b[0m\n",
       "\u001b[1;92m- \u001b[0m\u001b[1;36m100\u001b[0m\u001b[1;92m sheets of A3 glossy paper\u001b[0m\n",
       "\u001b[1;92m- \u001b[0m\u001b[1;36m50\u001b[0m\u001b[1;92m packets of \u001b[0m\u001b[1;36m100\u001b[0m\u001b[1;92m% recycled kraft paper envelopes\u001b[0m\n",
       "\n",
       "\u001b[1;92mI need these supplies delivered by April \u001b[0m\u001b[1;36m10\u001b[0m\u001b[1;92m, \u001b[0m\u001b[1;36m2025\u001b[0m\u001b[1;92m. Thank you. \u001b[0m\u001b[1;92m(\u001b[0m\u001b[1;92mDate of request: \u001b[0m\u001b[1;36m2025\u001b[0m\u001b[1;92m-\u001b[0m\u001b[1;36m04\u001b[0m\u001b[1;92m-\u001b[0m\u001b[1;36m07\u001b[0m\u001b[1;92m)\u001b[0m\n"
      ]
     },
     "metadata": {},
     "output_type": "display_data"
    },
    {
     "name": "stdout",
     "output_type": "stream",
     "text": [
      "\n"
     ]
    },
    {
     "data": {
      "text/html": [
       "<pre style=\"white-space:pre;overflow-x:auto;line-height:normal;font-family:Menlo,'DejaVu Sans Mono',consolas,'Courier New',monospace\"><span style=\"color: #ff00ff; text-decoration-color: #ff00ff; font-weight: bold\">Number items = </span><span style=\"color: #008080; text-decoration-color: #008080; font-weight: bold\">3</span><span style=\"color: #ff00ff; text-decoration-color: #ff00ff; font-weight: bold\">, </span><span style=\"color: #808000; text-decoration-color: #808000; font-weight: bold\">items</span><span style=\"color: #ff00ff; text-decoration-color: #ff00ff; font-weight: bold\">= [</span><span style=\"color: #008080; text-decoration-color: #008080; font-weight: bold\">200</span><span style=\"color: #ff00ff; text-decoration-color: #ff00ff; font-weight: bold\">, </span><span style=\"color: #008080; text-decoration-color: #008080; font-weight: bold\">100</span><span style=\"color: #ff00ff; text-decoration-color: #ff00ff; font-weight: bold\">, </span><span style=\"color: #008080; text-decoration-color: #008080; font-weight: bold\">50</span><span style=\"color: #ff00ff; text-decoration-color: #ff00ff; font-weight: bold\">]</span>\n",
       "</pre>\n"
      ],
      "text/plain": [
       "\u001b[1;95mNumber items = \u001b[0m\u001b[1;36m3\u001b[0m\u001b[1;95m, \u001b[0m\u001b[1;33mitems\u001b[0m\u001b[1;95m= \u001b[0m\u001b[1;95m[\u001b[0m\u001b[1;36m200\u001b[0m\u001b[1;95m, \u001b[0m\u001b[1;36m100\u001b[0m\u001b[1;95m, \u001b[0m\u001b[1;36m50\u001b[0m\u001b[1;95m]\u001b[0m\n"
      ]
     },
     "metadata": {},
     "output_type": "display_data"
    },
    {
     "data": {
      "text/html": [
       "<pre style=\"white-space:pre;overflow-x:auto;line-height:normal;font-family:Menlo,'DejaVu Sans Mono',consolas,'Courier New',monospace\">\n",
       "<span style=\"color: #ffff00; text-decoration-color: #ffff00; font-weight: bold\">=== Request </span><span style=\"color: #008080; text-decoration-color: #008080; font-weight: bold\">13</span><span style=\"color: #ffff00; text-decoration-color: #ffff00; font-weight: bold\"> ===</span>\n",
       "</pre>\n"
      ],
      "text/plain": [
       "\n",
       "\u001b[1;93m=== Request \u001b[0m\u001b[1;36m13\u001b[0m\u001b[1;93m ===\u001b[0m\n"
      ]
     },
     "metadata": {},
     "output_type": "display_data"
    },
    {
     "name": "stdout",
     "output_type": "stream",
     "text": [
      "Context: school principal organizing gathering\n",
      "Request Date: 2025-04-08\n"
     ]
    },
    {
     "data": {
      "text/html": [
       "<pre style=\"white-space:pre;overflow-x:auto;line-height:normal;font-family:Menlo,'DejaVu Sans Mono',consolas,'Courier New',monospace\"><span style=\"color: #00ff00; text-decoration-color: #00ff00; font-weight: bold\">I would like to order </span><span style=\"color: #008080; text-decoration-color: #008080; font-weight: bold\">500</span><span style=\"color: #00ff00; text-decoration-color: #00ff00; font-weight: bold\"> sheets of A4 printing paper and </span><span style=\"color: #008080; text-decoration-color: #008080; font-weight: bold\">200</span><span style=\"color: #00ff00; text-decoration-color: #00ff00; font-weight: bold\"> sheets of cardstock for our upcoming gathering. </span>\n",
       "<span style=\"color: #00ff00; text-decoration-color: #00ff00; font-weight: bold\">Please deliver the supplies by April </span><span style=\"color: #008080; text-decoration-color: #008080; font-weight: bold\">10</span><span style=\"color: #00ff00; text-decoration-color: #00ff00; font-weight: bold\">, </span><span style=\"color: #008080; text-decoration-color: #008080; font-weight: bold\">2025</span><span style=\"color: #00ff00; text-decoration-color: #00ff00; font-weight: bold\">. (Date of request: </span><span style=\"color: #008080; text-decoration-color: #008080; font-weight: bold\">2025</span><span style=\"color: #00ff00; text-decoration-color: #00ff00; font-weight: bold\">-</span><span style=\"color: #008080; text-decoration-color: #008080; font-weight: bold\">04</span><span style=\"color: #00ff00; text-decoration-color: #00ff00; font-weight: bold\">-</span><span style=\"color: #008080; text-decoration-color: #008080; font-weight: bold\">08</span><span style=\"color: #00ff00; text-decoration-color: #00ff00; font-weight: bold\">)</span>\n",
       "</pre>\n"
      ],
      "text/plain": [
       "\u001b[1;92mI would like to order \u001b[0m\u001b[1;36m500\u001b[0m\u001b[1;92m sheets of A4 printing paper and \u001b[0m\u001b[1;36m200\u001b[0m\u001b[1;92m sheets of cardstock for our upcoming gathering. \u001b[0m\n",
       "\u001b[1;92mPlease deliver the supplies by April \u001b[0m\u001b[1;36m10\u001b[0m\u001b[1;92m, \u001b[0m\u001b[1;36m2025\u001b[0m\u001b[1;92m. \u001b[0m\u001b[1;92m(\u001b[0m\u001b[1;92mDate of request: \u001b[0m\u001b[1;36m2025\u001b[0m\u001b[1;92m-\u001b[0m\u001b[1;36m04\u001b[0m\u001b[1;92m-\u001b[0m\u001b[1;36m08\u001b[0m\u001b[1;92m)\u001b[0m\n"
      ]
     },
     "metadata": {},
     "output_type": "display_data"
    },
    {
     "name": "stdout",
     "output_type": "stream",
     "text": [
      "\n"
     ]
    },
    {
     "data": {
      "text/html": [
       "<pre style=\"white-space:pre;overflow-x:auto;line-height:normal;font-family:Menlo,'DejaVu Sans Mono',consolas,'Courier New',monospace\"><span style=\"color: #ff00ff; text-decoration-color: #ff00ff; font-weight: bold\">Number items = </span><span style=\"color: #008080; text-decoration-color: #008080; font-weight: bold\">2</span><span style=\"color: #ff00ff; text-decoration-color: #ff00ff; font-weight: bold\">, </span><span style=\"color: #808000; text-decoration-color: #808000; font-weight: bold\">items</span><span style=\"color: #ff00ff; text-decoration-color: #ff00ff; font-weight: bold\">= [</span><span style=\"color: #008080; text-decoration-color: #008080; font-weight: bold\">500</span><span style=\"color: #ff00ff; text-decoration-color: #ff00ff; font-weight: bold\">, </span><span style=\"color: #008080; text-decoration-color: #008080; font-weight: bold\">200</span><span style=\"color: #ff00ff; text-decoration-color: #ff00ff; font-weight: bold\">]</span>\n",
       "</pre>\n"
      ],
      "text/plain": [
       "\u001b[1;95mNumber items = \u001b[0m\u001b[1;36m2\u001b[0m\u001b[1;95m, \u001b[0m\u001b[1;33mitems\u001b[0m\u001b[1;95m= \u001b[0m\u001b[1;95m[\u001b[0m\u001b[1;36m500\u001b[0m\u001b[1;95m, \u001b[0m\u001b[1;36m200\u001b[0m\u001b[1;95m]\u001b[0m\n"
      ]
     },
     "metadata": {},
     "output_type": "display_data"
    },
    {
     "data": {
      "text/html": [
       "<pre style=\"white-space:pre;overflow-x:auto;line-height:normal;font-family:Menlo,'DejaVu Sans Mono',consolas,'Courier New',monospace\">\n",
       "<span style=\"color: #ffff00; text-decoration-color: #ffff00; font-weight: bold\">=== Request </span><span style=\"color: #008080; text-decoration-color: #008080; font-weight: bold\">12</span><span style=\"color: #ffff00; text-decoration-color: #ffff00; font-weight: bold\"> ===</span>\n",
       "</pre>\n"
      ],
      "text/plain": [
       "\n",
       "\u001b[1;93m=== Request \u001b[0m\u001b[1;36m12\u001b[0m\u001b[1;93m ===\u001b[0m\n"
      ]
     },
     "metadata": {},
     "output_type": "display_data"
    },
    {
     "name": "stdout",
     "output_type": "stream",
     "text": [
      "Context: city hall clerk organizing party\n",
      "Request Date: 2025-04-08\n"
     ]
    },
    {
     "data": {
      "text/html": [
       "<pre style=\"white-space:pre;overflow-x:auto;line-height:normal;font-family:Menlo,'DejaVu Sans Mono',consolas,'Courier New',monospace\"><span style=\"color: #00ff00; text-decoration-color: #00ff00; font-weight: bold\">I would like to order </span><span style=\"color: #008080; text-decoration-color: #008080; font-weight: bold\">200</span><span style=\"color: #00ff00; text-decoration-color: #00ff00; font-weight: bold\"> sheets of colorful cardstock, </span><span style=\"color: #008080; text-decoration-color: #008080; font-weight: bold\">500</span><span style=\"color: #00ff00; text-decoration-color: #00ff00; font-weight: bold\"> sheets of standard printer paper, and </span><span style=\"color: #008080; text-decoration-color: #008080; font-weight: bold\">100</span><span style=\"color: #00ff00; text-decoration-color: #00ff00; font-weight: bold\"> paper napkins</span>\n",
       "<span style=\"color: #00ff00; text-decoration-color: #00ff00; font-weight: bold\">for our upcoming party. Please deliver these supplies by April </span><span style=\"color: #008080; text-decoration-color: #008080; font-weight: bold\">15</span><span style=\"color: #00ff00; text-decoration-color: #00ff00; font-weight: bold\">, </span><span style=\"color: #008080; text-decoration-color: #008080; font-weight: bold\">2025</span><span style=\"color: #00ff00; text-decoration-color: #00ff00; font-weight: bold\">. (Date of request: </span><span style=\"color: #008080; text-decoration-color: #008080; font-weight: bold\">2025</span><span style=\"color: #00ff00; text-decoration-color: #00ff00; font-weight: bold\">-</span><span style=\"color: #008080; text-decoration-color: #008080; font-weight: bold\">04</span><span style=\"color: #00ff00; text-decoration-color: #00ff00; font-weight: bold\">-</span><span style=\"color: #008080; text-decoration-color: #008080; font-weight: bold\">08</span><span style=\"color: #00ff00; text-decoration-color: #00ff00; font-weight: bold\">)</span>\n",
       "</pre>\n"
      ],
      "text/plain": [
       "\u001b[1;92mI would like to order \u001b[0m\u001b[1;36m200\u001b[0m\u001b[1;92m sheets of colorful cardstock, \u001b[0m\u001b[1;36m500\u001b[0m\u001b[1;92m sheets of standard printer paper, and \u001b[0m\u001b[1;36m100\u001b[0m\u001b[1;92m paper napkins\u001b[0m\n",
       "\u001b[1;92mfor our upcoming party. Please deliver these supplies by April \u001b[0m\u001b[1;36m15\u001b[0m\u001b[1;92m, \u001b[0m\u001b[1;36m2025\u001b[0m\u001b[1;92m. \u001b[0m\u001b[1;92m(\u001b[0m\u001b[1;92mDate of request: \u001b[0m\u001b[1;36m2025\u001b[0m\u001b[1;92m-\u001b[0m\u001b[1;36m04\u001b[0m\u001b[1;92m-\u001b[0m\u001b[1;36m08\u001b[0m\u001b[1;92m)\u001b[0m\n"
      ]
     },
     "metadata": {},
     "output_type": "display_data"
    },
    {
     "name": "stdout",
     "output_type": "stream",
     "text": [
      "\n"
     ]
    },
    {
     "data": {
      "text/html": [
       "<pre style=\"white-space:pre;overflow-x:auto;line-height:normal;font-family:Menlo,'DejaVu Sans Mono',consolas,'Courier New',monospace\"><span style=\"color: #ff00ff; text-decoration-color: #ff00ff; font-weight: bold\">Number items = </span><span style=\"color: #008080; text-decoration-color: #008080; font-weight: bold\">3</span><span style=\"color: #ff00ff; text-decoration-color: #ff00ff; font-weight: bold\">, </span><span style=\"color: #808000; text-decoration-color: #808000; font-weight: bold\">items</span><span style=\"color: #ff00ff; text-decoration-color: #ff00ff; font-weight: bold\">= [</span><span style=\"color: #008080; text-decoration-color: #008080; font-weight: bold\">200</span><span style=\"color: #ff00ff; text-decoration-color: #ff00ff; font-weight: bold\">, </span><span style=\"color: #008080; text-decoration-color: #008080; font-weight: bold\">500</span><span style=\"color: #ff00ff; text-decoration-color: #ff00ff; font-weight: bold\">, </span><span style=\"color: #008080; text-decoration-color: #008080; font-weight: bold\">100</span><span style=\"color: #ff00ff; text-decoration-color: #ff00ff; font-weight: bold\">]</span>\n",
       "</pre>\n"
      ],
      "text/plain": [
       "\u001b[1;95mNumber items = \u001b[0m\u001b[1;36m3\u001b[0m\u001b[1;95m, \u001b[0m\u001b[1;33mitems\u001b[0m\u001b[1;95m= \u001b[0m\u001b[1;95m[\u001b[0m\u001b[1;36m200\u001b[0m\u001b[1;95m, \u001b[0m\u001b[1;36m500\u001b[0m\u001b[1;95m, \u001b[0m\u001b[1;36m100\u001b[0m\u001b[1;95m]\u001b[0m\n"
      ]
     },
     "metadata": {},
     "output_type": "display_data"
    },
    {
     "data": {
      "text/html": [
       "<pre style=\"white-space:pre;overflow-x:auto;line-height:normal;font-family:Menlo,'DejaVu Sans Mono',consolas,'Courier New',monospace\">\n",
       "<span style=\"color: #ffff00; text-decoration-color: #ffff00; font-weight: bold\">=== Request </span><span style=\"color: #008080; text-decoration-color: #008080; font-weight: bold\">10</span><span style=\"color: #ffff00; text-decoration-color: #ffff00; font-weight: bold\"> ===</span>\n",
       "</pre>\n"
      ],
      "text/plain": [
       "\n",
       "\u001b[1;93m=== Request \u001b[0m\u001b[1;36m10\u001b[0m\u001b[1;93m ===\u001b[0m\n"
      ]
     },
     "metadata": {},
     "output_type": "display_data"
    },
    {
     "name": "stdout",
     "output_type": "stream",
     "text": [
      "Context: business owner organizing show\n",
      "Request Date: 2025-04-08\n"
     ]
    },
    {
     "data": {
      "text/html": [
       "<pre style=\"white-space:pre;overflow-x:auto;line-height:normal;font-family:Menlo,'DejaVu Sans Mono',consolas,'Courier New',monospace\"><span style=\"color: #00ff00; text-decoration-color: #00ff00; font-weight: bold\">I would like to place an order for </span><span style=\"color: #008080; text-decoration-color: #008080; font-weight: bold\">500</span><span style=\"color: #00ff00; text-decoration-color: #00ff00; font-weight: bold\"> sheets of high-quality glossy paper and </span><span style=\"color: #008080; text-decoration-color: #008080; font-weight: bold\">300</span><span style=\"color: #00ff00; text-decoration-color: #00ff00; font-weight: bold\"> sheets of sturdy cardstock for </span>\n",
       "<span style=\"color: #00ff00; text-decoration-color: #00ff00; font-weight: bold\">our upcoming show. We need the supplies delivered by April </span><span style=\"color: #008080; text-decoration-color: #008080; font-weight: bold\">15</span><span style=\"color: #00ff00; text-decoration-color: #00ff00; font-weight: bold\">, </span><span style=\"color: #008080; text-decoration-color: #008080; font-weight: bold\">2025</span><span style=\"color: #00ff00; text-decoration-color: #00ff00; font-weight: bold\">. (Date of request: </span><span style=\"color: #008080; text-decoration-color: #008080; font-weight: bold\">2025</span><span style=\"color: #00ff00; text-decoration-color: #00ff00; font-weight: bold\">-</span><span style=\"color: #008080; text-decoration-color: #008080; font-weight: bold\">04</span><span style=\"color: #00ff00; text-decoration-color: #00ff00; font-weight: bold\">-</span><span style=\"color: #008080; text-decoration-color: #008080; font-weight: bold\">08</span><span style=\"color: #00ff00; text-decoration-color: #00ff00; font-weight: bold\">)</span>\n",
       "</pre>\n"
      ],
      "text/plain": [
       "\u001b[1;92mI would like to place an order for \u001b[0m\u001b[1;36m500\u001b[0m\u001b[1;92m sheets of high-quality glossy paper and \u001b[0m\u001b[1;36m300\u001b[0m\u001b[1;92m sheets of sturdy cardstock for \u001b[0m\n",
       "\u001b[1;92mour upcoming show. We need the supplies delivered by April \u001b[0m\u001b[1;36m15\u001b[0m\u001b[1;92m, \u001b[0m\u001b[1;36m2025\u001b[0m\u001b[1;92m. \u001b[0m\u001b[1;92m(\u001b[0m\u001b[1;92mDate of request: \u001b[0m\u001b[1;36m2025\u001b[0m\u001b[1;92m-\u001b[0m\u001b[1;36m04\u001b[0m\u001b[1;92m-\u001b[0m\u001b[1;36m08\u001b[0m\u001b[1;92m)\u001b[0m\n"
      ]
     },
     "metadata": {},
     "output_type": "display_data"
    },
    {
     "name": "stdout",
     "output_type": "stream",
     "text": [
      "\n"
     ]
    },
    {
     "data": {
      "text/html": [
       "<pre style=\"white-space:pre;overflow-x:auto;line-height:normal;font-family:Menlo,'DejaVu Sans Mono',consolas,'Courier New',monospace\"><span style=\"color: #ff00ff; text-decoration-color: #ff00ff; font-weight: bold\">Number items = </span><span style=\"color: #008080; text-decoration-color: #008080; font-weight: bold\">2</span><span style=\"color: #ff00ff; text-decoration-color: #ff00ff; font-weight: bold\">, </span><span style=\"color: #808000; text-decoration-color: #808000; font-weight: bold\">items</span><span style=\"color: #ff00ff; text-decoration-color: #ff00ff; font-weight: bold\">= [</span><span style=\"color: #008080; text-decoration-color: #008080; font-weight: bold\">500</span><span style=\"color: #ff00ff; text-decoration-color: #ff00ff; font-weight: bold\">, </span><span style=\"color: #008080; text-decoration-color: #008080; font-weight: bold\">300</span><span style=\"color: #ff00ff; text-decoration-color: #ff00ff; font-weight: bold\">]</span>\n",
       "</pre>\n"
      ],
      "text/plain": [
       "\u001b[1;95mNumber items = \u001b[0m\u001b[1;36m2\u001b[0m\u001b[1;95m, \u001b[0m\u001b[1;33mitems\u001b[0m\u001b[1;95m= \u001b[0m\u001b[1;95m[\u001b[0m\u001b[1;36m500\u001b[0m\u001b[1;95m, \u001b[0m\u001b[1;36m300\u001b[0m\u001b[1;95m]\u001b[0m\n"
      ]
     },
     "metadata": {},
     "output_type": "display_data"
    },
    {
     "data": {
      "text/html": [
       "<pre style=\"white-space:pre;overflow-x:auto;line-height:normal;font-family:Menlo,'DejaVu Sans Mono',consolas,'Courier New',monospace\">\n",
       "<span style=\"color: #ffff00; text-decoration-color: #ffff00; font-weight: bold\">=== Request </span><span style=\"color: #008080; text-decoration-color: #008080; font-weight: bold\">11</span><span style=\"color: #ffff00; text-decoration-color: #ffff00; font-weight: bold\"> ===</span>\n",
       "</pre>\n"
      ],
      "text/plain": [
       "\n",
       "\u001b[1;93m=== Request \u001b[0m\u001b[1;36m11\u001b[0m\u001b[1;93m ===\u001b[0m\n"
      ]
     },
     "metadata": {},
     "output_type": "display_data"
    },
    {
     "name": "stdout",
     "output_type": "stream",
     "text": [
      "Context: event manager organizing exhibition\n",
      "Request Date: 2025-04-08\n"
     ]
    },
    {
     "data": {
      "text/html": [
       "<pre style=\"white-space:pre;overflow-x:auto;line-height:normal;font-family:Menlo,'DejaVu Sans Mono',consolas,'Courier New',monospace\"><span style=\"color: #00ff00; text-decoration-color: #00ff00; font-weight: bold\">I would like to order </span><span style=\"color: #008080; text-decoration-color: #008080; font-weight: bold\">500</span><span style=\"color: #00ff00; text-decoration-color: #00ff00; font-weight: bold\"> sheets of A3 glossy paper and </span><span style=\"color: #008080; text-decoration-color: #008080; font-weight: bold\">300</span><span style=\"color: #00ff00; text-decoration-color: #00ff00; font-weight: bold\"> sheets of A4 matte paper for our exhibition. The </span>\n",
       "<span style=\"color: #00ff00; text-decoration-color: #00ff00; font-weight: bold\">supplies are needed by April </span><span style=\"color: #008080; text-decoration-color: #008080; font-weight: bold\">15</span><span style=\"color: #00ff00; text-decoration-color: #00ff00; font-weight: bold\">, </span><span style=\"color: #008080; text-decoration-color: #008080; font-weight: bold\">2025</span><span style=\"color: #00ff00; text-decoration-color: #00ff00; font-weight: bold\">. Thank you. (Date of request: </span><span style=\"color: #008080; text-decoration-color: #008080; font-weight: bold\">2025</span><span style=\"color: #00ff00; text-decoration-color: #00ff00; font-weight: bold\">-</span><span style=\"color: #008080; text-decoration-color: #008080; font-weight: bold\">04</span><span style=\"color: #00ff00; text-decoration-color: #00ff00; font-weight: bold\">-</span><span style=\"color: #008080; text-decoration-color: #008080; font-weight: bold\">08</span><span style=\"color: #00ff00; text-decoration-color: #00ff00; font-weight: bold\">)</span>\n",
       "</pre>\n"
      ],
      "text/plain": [
       "\u001b[1;92mI would like to order \u001b[0m\u001b[1;36m500\u001b[0m\u001b[1;92m sheets of A3 glossy paper and \u001b[0m\u001b[1;36m300\u001b[0m\u001b[1;92m sheets of A4 matte paper for our exhibition. The \u001b[0m\n",
       "\u001b[1;92msupplies are needed by April \u001b[0m\u001b[1;36m15\u001b[0m\u001b[1;92m, \u001b[0m\u001b[1;36m2025\u001b[0m\u001b[1;92m. Thank you. \u001b[0m\u001b[1;92m(\u001b[0m\u001b[1;92mDate of request: \u001b[0m\u001b[1;36m2025\u001b[0m\u001b[1;92m-\u001b[0m\u001b[1;36m04\u001b[0m\u001b[1;92m-\u001b[0m\u001b[1;36m08\u001b[0m\u001b[1;92m)\u001b[0m\n"
      ]
     },
     "metadata": {},
     "output_type": "display_data"
    },
    {
     "name": "stdout",
     "output_type": "stream",
     "text": [
      "\n"
     ]
    },
    {
     "data": {
      "text/html": [
       "<pre style=\"white-space:pre;overflow-x:auto;line-height:normal;font-family:Menlo,'DejaVu Sans Mono',consolas,'Courier New',monospace\"><span style=\"color: #ff00ff; text-decoration-color: #ff00ff; font-weight: bold\">Number items = </span><span style=\"color: #008080; text-decoration-color: #008080; font-weight: bold\">2</span><span style=\"color: #ff00ff; text-decoration-color: #ff00ff; font-weight: bold\">, </span><span style=\"color: #808000; text-decoration-color: #808000; font-weight: bold\">items</span><span style=\"color: #ff00ff; text-decoration-color: #ff00ff; font-weight: bold\">= [</span><span style=\"color: #008080; text-decoration-color: #008080; font-weight: bold\">500</span><span style=\"color: #ff00ff; text-decoration-color: #ff00ff; font-weight: bold\">, </span><span style=\"color: #008080; text-decoration-color: #008080; font-weight: bold\">300</span><span style=\"color: #ff00ff; text-decoration-color: #ff00ff; font-weight: bold\">]</span>\n",
       "</pre>\n"
      ],
      "text/plain": [
       "\u001b[1;95mNumber items = \u001b[0m\u001b[1;36m2\u001b[0m\u001b[1;95m, \u001b[0m\u001b[1;33mitems\u001b[0m\u001b[1;95m= \u001b[0m\u001b[1;95m[\u001b[0m\u001b[1;36m500\u001b[0m\u001b[1;95m, \u001b[0m\u001b[1;36m300\u001b[0m\u001b[1;95m]\u001b[0m\n"
      ]
     },
     "metadata": {},
     "output_type": "display_data"
    },
    {
     "data": {
      "text/html": [
       "<pre style=\"white-space:pre;overflow-x:auto;line-height:normal;font-family:Menlo,'DejaVu Sans Mono',consolas,'Courier New',monospace\">\n",
       "<span style=\"color: #ffff00; text-decoration-color: #ffff00; font-weight: bold\">=== Request </span><span style=\"color: #008080; text-decoration-color: #008080; font-weight: bold\">14</span><span style=\"color: #ffff00; text-decoration-color: #ffff00; font-weight: bold\"> ===</span>\n",
       "</pre>\n"
      ],
      "text/plain": [
       "\n",
       "\u001b[1;93m=== Request \u001b[0m\u001b[1;36m14\u001b[0m\u001b[1;93m ===\u001b[0m\n"
      ]
     },
     "metadata": {},
     "output_type": "display_data"
    },
    {
     "name": "stdout",
     "output_type": "stream",
     "text": [
      "Context: city hall clerk organizing performance\n",
      "Request Date: 2025-04-09\n"
     ]
    },
    {
     "data": {
      "text/html": [
       "<pre style=\"white-space:pre;overflow-x:auto;line-height:normal;font-family:Menlo,'DejaVu Sans Mono',consolas,'Courier New',monospace\"><span style=\"color: #00ff00; text-decoration-color: #00ff00; font-weight: bold\">I would like to place a large order for high-quality paper supplies for our upcoming performance. We need </span><span style=\"color: #008080; text-decoration-color: #008080; font-weight: bold\">5</span><span style=\"color: #00ff00; text-decoration-color: #00ff00; font-weight: bold\">,</span><span style=\"color: #008080; text-decoration-color: #008080; font-weight: bold\">000</span><span style=\"color: #00ff00; text-decoration-color: #00ff00; font-weight: bold\"> </span>\n",
       "<span style=\"color: #00ff00; text-decoration-color: #00ff00; font-weight: bold\">sheets of A4 paper, </span><span style=\"color: #008080; text-decoration-color: #008080; font-weight: bold\">2</span><span style=\"color: #00ff00; text-decoration-color: #00ff00; font-weight: bold\">,</span><span style=\"color: #008080; text-decoration-color: #008080; font-weight: bold\">000</span><span style=\"color: #00ff00; text-decoration-color: #00ff00; font-weight: bold\"> sheets of poster paper in various colors, and </span><span style=\"color: #008080; text-decoration-color: #008080; font-weight: bold\">500</span><span style=\"color: #00ff00; text-decoration-color: #00ff00; font-weight: bold\"> sheets of cardstock. Please deliver </span>\n",
       "<span style=\"color: #00ff00; text-decoration-color: #00ff00; font-weight: bold\">these supplies by April </span><span style=\"color: #008080; text-decoration-color: #008080; font-weight: bold\">15</span><span style=\"color: #00ff00; text-decoration-color: #00ff00; font-weight: bold\">, </span><span style=\"color: #008080; text-decoration-color: #008080; font-weight: bold\">2025</span><span style=\"color: #00ff00; text-decoration-color: #00ff00; font-weight: bold\">. Thank you. (Date of request: </span><span style=\"color: #008080; text-decoration-color: #008080; font-weight: bold\">2025</span><span style=\"color: #00ff00; text-decoration-color: #00ff00; font-weight: bold\">-</span><span style=\"color: #008080; text-decoration-color: #008080; font-weight: bold\">04</span><span style=\"color: #00ff00; text-decoration-color: #00ff00; font-weight: bold\">-</span><span style=\"color: #008080; text-decoration-color: #008080; font-weight: bold\">09</span><span style=\"color: #00ff00; text-decoration-color: #00ff00; font-weight: bold\">)</span>\n",
       "</pre>\n"
      ],
      "text/plain": [
       "\u001b[1;92mI would like to place a large order for high-quality paper supplies for our upcoming performance. We need \u001b[0m\u001b[1;36m5\u001b[0m\u001b[1;92m,\u001b[0m\u001b[1;36m000\u001b[0m\u001b[1;92m \u001b[0m\n",
       "\u001b[1;92msheets of A4 paper, \u001b[0m\u001b[1;36m2\u001b[0m\u001b[1;92m,\u001b[0m\u001b[1;36m000\u001b[0m\u001b[1;92m sheets of poster paper in various colors, and \u001b[0m\u001b[1;36m500\u001b[0m\u001b[1;92m sheets of cardstock. Please deliver \u001b[0m\n",
       "\u001b[1;92mthese supplies by April \u001b[0m\u001b[1;36m15\u001b[0m\u001b[1;92m, \u001b[0m\u001b[1;36m2025\u001b[0m\u001b[1;92m. Thank you. \u001b[0m\u001b[1;92m(\u001b[0m\u001b[1;92mDate of request: \u001b[0m\u001b[1;36m2025\u001b[0m\u001b[1;92m-\u001b[0m\u001b[1;36m04\u001b[0m\u001b[1;92m-\u001b[0m\u001b[1;36m09\u001b[0m\u001b[1;92m)\u001b[0m\n"
      ]
     },
     "metadata": {},
     "output_type": "display_data"
    },
    {
     "name": "stdout",
     "output_type": "stream",
     "text": [
      "\n"
     ]
    },
    {
     "data": {
      "text/html": [
       "<pre style=\"white-space:pre;overflow-x:auto;line-height:normal;font-family:Menlo,'DejaVu Sans Mono',consolas,'Courier New',monospace\"><span style=\"color: #ff00ff; text-decoration-color: #ff00ff; font-weight: bold\">Number items = </span><span style=\"color: #008080; text-decoration-color: #008080; font-weight: bold\">3</span><span style=\"color: #ff00ff; text-decoration-color: #ff00ff; font-weight: bold\">, </span><span style=\"color: #808000; text-decoration-color: #808000; font-weight: bold\">items</span><span style=\"color: #ff00ff; text-decoration-color: #ff00ff; font-weight: bold\">= [</span><span style=\"color: #008080; text-decoration-color: #008080; font-weight: bold\">5000</span><span style=\"color: #ff00ff; text-decoration-color: #ff00ff; font-weight: bold\">, </span><span style=\"color: #008080; text-decoration-color: #008080; font-weight: bold\">2000</span><span style=\"color: #ff00ff; text-decoration-color: #ff00ff; font-weight: bold\">, </span><span style=\"color: #008080; text-decoration-color: #008080; font-weight: bold\">500</span><span style=\"color: #ff00ff; text-decoration-color: #ff00ff; font-weight: bold\">]</span>\n",
       "</pre>\n"
      ],
      "text/plain": [
       "\u001b[1;95mNumber items = \u001b[0m\u001b[1;36m3\u001b[0m\u001b[1;95m, \u001b[0m\u001b[1;33mitems\u001b[0m\u001b[1;95m= \u001b[0m\u001b[1;95m[\u001b[0m\u001b[1;36m5000\u001b[0m\u001b[1;95m, \u001b[0m\u001b[1;36m2000\u001b[0m\u001b[1;95m, \u001b[0m\u001b[1;36m500\u001b[0m\u001b[1;95m]\u001b[0m\n"
      ]
     },
     "metadata": {},
     "output_type": "display_data"
    },
    {
     "data": {
      "text/html": [
       "<pre style=\"white-space:pre;overflow-x:auto;line-height:normal;font-family:Menlo,'DejaVu Sans Mono',consolas,'Courier New',monospace\">\n",
       "<span style=\"color: #ffff00; text-decoration-color: #ffff00; font-weight: bold\">=== Request </span><span style=\"color: #008080; text-decoration-color: #008080; font-weight: bold\">15</span><span style=\"color: #ffff00; text-decoration-color: #ffff00; font-weight: bold\"> ===</span>\n",
       "</pre>\n"
      ],
      "text/plain": [
       "\n",
       "\u001b[1;93m=== Request \u001b[0m\u001b[1;36m15\u001b[0m\u001b[1;93m ===\u001b[0m\n"
      ]
     },
     "metadata": {},
     "output_type": "display_data"
    },
    {
     "name": "stdout",
     "output_type": "stream",
     "text": [
      "Context: event manager organizing demonstration\n",
      "Request Date: 2025-04-12\n"
     ]
    },
    {
     "data": {
      "text/html": [
       "<pre style=\"white-space:pre;overflow-x:auto;line-height:normal;font-family:Menlo,'DejaVu Sans Mono',consolas,'Courier New',monospace\"><span style=\"color: #00ff00; text-decoration-color: #00ff00; font-weight: bold\">I would like to place a large order for high-quality paper supplies for our upcoming demonstration. Please provide </span>\n",
       "<span style=\"color: #00ff00; text-decoration-color: #00ff00; font-weight: bold\">the following:</span>\n",
       "\n",
       "<span style=\"color: #00ff00; text-decoration-color: #00ff00; font-weight: bold\">- </span><span style=\"color: #008080; text-decoration-color: #008080; font-weight: bold\">10</span><span style=\"color: #00ff00; text-decoration-color: #00ff00; font-weight: bold\">,</span><span style=\"color: #008080; text-decoration-color: #008080; font-weight: bold\">000</span><span style=\"color: #00ff00; text-decoration-color: #00ff00; font-weight: bold\"> sheets of A4 white paper</span>\n",
       "<span style=\"color: #00ff00; text-decoration-color: #00ff00; font-weight: bold\">- </span><span style=\"color: #008080; text-decoration-color: #008080; font-weight: bold\">5</span><span style=\"color: #00ff00; text-decoration-color: #00ff00; font-weight: bold\">,</span><span style=\"color: #008080; text-decoration-color: #008080; font-weight: bold\">000</span><span style=\"color: #00ff00; text-decoration-color: #00ff00; font-weight: bold\"> sheets of A3 colored paper (assorted colors)</span>\n",
       "<span style=\"color: #00ff00; text-decoration-color: #00ff00; font-weight: bold\">- </span><span style=\"color: #008080; text-decoration-color: #008080; font-weight: bold\">500</span><span style=\"color: #00ff00; text-decoration-color: #00ff00; font-weight: bold\"> reams of cardboard for signage</span>\n",
       "\n",
       "<span style=\"color: #00ff00; text-decoration-color: #00ff00; font-weight: bold\">I need these supplies delivered by April </span><span style=\"color: #008080; text-decoration-color: #008080; font-weight: bold\">15</span><span style=\"color: #00ff00; text-decoration-color: #00ff00; font-weight: bold\">, </span><span style=\"color: #008080; text-decoration-color: #008080; font-weight: bold\">2025</span><span style=\"color: #00ff00; text-decoration-color: #00ff00; font-weight: bold\">. Thank you. (Date of request: </span><span style=\"color: #008080; text-decoration-color: #008080; font-weight: bold\">2025</span><span style=\"color: #00ff00; text-decoration-color: #00ff00; font-weight: bold\">-</span><span style=\"color: #008080; text-decoration-color: #008080; font-weight: bold\">04</span><span style=\"color: #00ff00; text-decoration-color: #00ff00; font-weight: bold\">-</span><span style=\"color: #008080; text-decoration-color: #008080; font-weight: bold\">12</span><span style=\"color: #00ff00; text-decoration-color: #00ff00; font-weight: bold\">)</span>\n",
       "</pre>\n"
      ],
      "text/plain": [
       "\u001b[1;92mI would like to place a large order for high-quality paper supplies for our upcoming demonstration. Please provide \u001b[0m\n",
       "\u001b[1;92mthe following:\u001b[0m\n",
       "\n",
       "\u001b[1;92m- \u001b[0m\u001b[1;36m10\u001b[0m\u001b[1;92m,\u001b[0m\u001b[1;36m000\u001b[0m\u001b[1;92m sheets of A4 white paper\u001b[0m\n",
       "\u001b[1;92m- \u001b[0m\u001b[1;36m5\u001b[0m\u001b[1;92m,\u001b[0m\u001b[1;36m000\u001b[0m\u001b[1;92m sheets of A3 colored paper \u001b[0m\u001b[1;92m(\u001b[0m\u001b[1;92massorted colors\u001b[0m\u001b[1;92m)\u001b[0m\n",
       "\u001b[1;92m- \u001b[0m\u001b[1;36m500\u001b[0m\u001b[1;92m reams of cardboard for signage\u001b[0m\n",
       "\n",
       "\u001b[1;92mI need these supplies delivered by April \u001b[0m\u001b[1;36m15\u001b[0m\u001b[1;92m, \u001b[0m\u001b[1;36m2025\u001b[0m\u001b[1;92m. Thank you. \u001b[0m\u001b[1;92m(\u001b[0m\u001b[1;92mDate of request: \u001b[0m\u001b[1;36m2025\u001b[0m\u001b[1;92m-\u001b[0m\u001b[1;36m04\u001b[0m\u001b[1;92m-\u001b[0m\u001b[1;36m12\u001b[0m\u001b[1;92m)\u001b[0m\n"
      ]
     },
     "metadata": {},
     "output_type": "display_data"
    },
    {
     "name": "stdout",
     "output_type": "stream",
     "text": [
      "\n"
     ]
    },
    {
     "data": {
      "text/html": [
       "<pre style=\"white-space:pre;overflow-x:auto;line-height:normal;font-family:Menlo,'DejaVu Sans Mono',consolas,'Courier New',monospace\"><span style=\"color: #ff00ff; text-decoration-color: #ff00ff; font-weight: bold\">Number items = </span><span style=\"color: #008080; text-decoration-color: #008080; font-weight: bold\">3</span><span style=\"color: #ff00ff; text-decoration-color: #ff00ff; font-weight: bold\">, </span><span style=\"color: #808000; text-decoration-color: #808000; font-weight: bold\">items</span><span style=\"color: #ff00ff; text-decoration-color: #ff00ff; font-weight: bold\">= [</span><span style=\"color: #008080; text-decoration-color: #008080; font-weight: bold\">10000</span><span style=\"color: #ff00ff; text-decoration-color: #ff00ff; font-weight: bold\">, </span><span style=\"color: #008080; text-decoration-color: #008080; font-weight: bold\">5000</span><span style=\"color: #ff00ff; text-decoration-color: #ff00ff; font-weight: bold\">, </span><span style=\"color: #008080; text-decoration-color: #008080; font-weight: bold\">500</span><span style=\"color: #ff00ff; text-decoration-color: #ff00ff; font-weight: bold\">]</span>\n",
       "</pre>\n"
      ],
      "text/plain": [
       "\u001b[1;95mNumber items = \u001b[0m\u001b[1;36m3\u001b[0m\u001b[1;95m, \u001b[0m\u001b[1;33mitems\u001b[0m\u001b[1;95m= \u001b[0m\u001b[1;95m[\u001b[0m\u001b[1;36m10000\u001b[0m\u001b[1;95m, \u001b[0m\u001b[1;36m5000\u001b[0m\u001b[1;95m, \u001b[0m\u001b[1;36m500\u001b[0m\u001b[1;95m]\u001b[0m\n"
      ]
     },
     "metadata": {},
     "output_type": "display_data"
    },
    {
     "data": {
      "text/html": [
       "<pre style=\"white-space:pre;overflow-x:auto;line-height:normal;font-family:Menlo,'DejaVu Sans Mono',consolas,'Courier New',monospace\">\n",
       "<span style=\"color: #ffff00; text-decoration-color: #ffff00; font-weight: bold\">=== Request </span><span style=\"color: #008080; text-decoration-color: #008080; font-weight: bold\">16</span><span style=\"color: #ffff00; text-decoration-color: #ffff00; font-weight: bold\"> ===</span>\n",
       "</pre>\n"
      ],
      "text/plain": [
       "\n",
       "\u001b[1;93m=== Request \u001b[0m\u001b[1;36m16\u001b[0m\u001b[1;93m ===\u001b[0m\n"
      ]
     },
     "metadata": {},
     "output_type": "display_data"
    },
    {
     "name": "stdout",
     "output_type": "stream",
     "text": [
      "Context: school teacher organizing assembly\n",
      "Request Date: 2025-04-13\n"
     ]
    },
    {
     "data": {
      "text/html": [
       "<pre style=\"white-space:pre;overflow-x:auto;line-height:normal;font-family:Menlo,'DejaVu Sans Mono',consolas,'Courier New',monospace\"><span style=\"color: #00ff00; text-decoration-color: #00ff00; font-weight: bold\">I would like to place an order for </span><span style=\"color: #008080; text-decoration-color: #008080; font-weight: bold\">500</span><span style=\"color: #00ff00; text-decoration-color: #00ff00; font-weight: bold\"> sheets of A4 printer paper, </span><span style=\"color: #008080; text-decoration-color: #008080; font-weight: bold\">200</span><span style=\"color: #00ff00; text-decoration-color: #00ff00; font-weight: bold\"> sheets of colorful construction paper, and </span>\n",
       "<span style=\"color: #008080; text-decoration-color: #008080; font-weight: bold\">100</span><span style=\"color: #00ff00; text-decoration-color: #00ff00; font-weight: bold\"> sheets of poster board. I need these supplies delivered by April </span><span style=\"color: #008080; text-decoration-color: #008080; font-weight: bold\">15</span><span style=\"color: #00ff00; text-decoration-color: #00ff00; font-weight: bold\">, </span><span style=\"color: #008080; text-decoration-color: #008080; font-weight: bold\">2025</span><span style=\"color: #00ff00; text-decoration-color: #00ff00; font-weight: bold\">, in time for our assembly event. </span>\n",
       "<span style=\"color: #00ff00; text-decoration-color: #00ff00; font-weight: bold\">(Date of request: </span><span style=\"color: #008080; text-decoration-color: #008080; font-weight: bold\">2025</span><span style=\"color: #00ff00; text-decoration-color: #00ff00; font-weight: bold\">-</span><span style=\"color: #008080; text-decoration-color: #008080; font-weight: bold\">04</span><span style=\"color: #00ff00; text-decoration-color: #00ff00; font-weight: bold\">-</span><span style=\"color: #008080; text-decoration-color: #008080; font-weight: bold\">13</span><span style=\"color: #00ff00; text-decoration-color: #00ff00; font-weight: bold\">)</span>\n",
       "</pre>\n"
      ],
      "text/plain": [
       "\u001b[1;92mI would like to place an order for \u001b[0m\u001b[1;36m500\u001b[0m\u001b[1;92m sheets of A4 printer paper, \u001b[0m\u001b[1;36m200\u001b[0m\u001b[1;92m sheets of colorful construction paper, and \u001b[0m\n",
       "\u001b[1;36m100\u001b[0m\u001b[1;92m sheets of poster board. I need these supplies delivered by April \u001b[0m\u001b[1;36m15\u001b[0m\u001b[1;92m, \u001b[0m\u001b[1;36m2025\u001b[0m\u001b[1;92m, in time for our assembly event. \u001b[0m\n",
       "\u001b[1;92m(\u001b[0m\u001b[1;92mDate of request: \u001b[0m\u001b[1;36m2025\u001b[0m\u001b[1;92m-\u001b[0m\u001b[1;36m04\u001b[0m\u001b[1;92m-\u001b[0m\u001b[1;36m13\u001b[0m\u001b[1;92m)\u001b[0m\n"
      ]
     },
     "metadata": {},
     "output_type": "display_data"
    },
    {
     "name": "stdout",
     "output_type": "stream",
     "text": [
      "\n"
     ]
    },
    {
     "data": {
      "text/html": [
       "<pre style=\"white-space:pre;overflow-x:auto;line-height:normal;font-family:Menlo,'DejaVu Sans Mono',consolas,'Courier New',monospace\"><span style=\"color: #ff00ff; text-decoration-color: #ff00ff; font-weight: bold\">Number items = </span><span style=\"color: #008080; text-decoration-color: #008080; font-weight: bold\">3</span><span style=\"color: #ff00ff; text-decoration-color: #ff00ff; font-weight: bold\">, </span><span style=\"color: #808000; text-decoration-color: #808000; font-weight: bold\">items</span><span style=\"color: #ff00ff; text-decoration-color: #ff00ff; font-weight: bold\">= [</span><span style=\"color: #008080; text-decoration-color: #008080; font-weight: bold\">500</span><span style=\"color: #ff00ff; text-decoration-color: #ff00ff; font-weight: bold\">, </span><span style=\"color: #008080; text-decoration-color: #008080; font-weight: bold\">200</span><span style=\"color: #ff00ff; text-decoration-color: #ff00ff; font-weight: bold\">, </span><span style=\"color: #008080; text-decoration-color: #008080; font-weight: bold\">100</span><span style=\"color: #ff00ff; text-decoration-color: #ff00ff; font-weight: bold\">]</span>\n",
       "</pre>\n"
      ],
      "text/plain": [
       "\u001b[1;95mNumber items = \u001b[0m\u001b[1;36m3\u001b[0m\u001b[1;95m, \u001b[0m\u001b[1;33mitems\u001b[0m\u001b[1;95m= \u001b[0m\u001b[1;95m[\u001b[0m\u001b[1;36m500\u001b[0m\u001b[1;95m, \u001b[0m\u001b[1;36m200\u001b[0m\u001b[1;95m, \u001b[0m\u001b[1;36m100\u001b[0m\u001b[1;95m]\u001b[0m\n"
      ]
     },
     "metadata": {},
     "output_type": "display_data"
    },
    {
     "data": {
      "text/html": [
       "<pre style=\"white-space:pre;overflow-x:auto;line-height:normal;font-family:Menlo,'DejaVu Sans Mono',consolas,'Courier New',monospace\">\n",
       "<span style=\"color: #ffff00; text-decoration-color: #ffff00; font-weight: bold\">=== Request </span><span style=\"color: #008080; text-decoration-color: #008080; font-weight: bold\">17</span><span style=\"color: #ffff00; text-decoration-color: #ffff00; font-weight: bold\"> ===</span>\n",
       "</pre>\n"
      ],
      "text/plain": [
       "\n",
       "\u001b[1;93m=== Request \u001b[0m\u001b[1;36m17\u001b[0m\u001b[1;93m ===\u001b[0m\n"
      ]
     },
     "metadata": {},
     "output_type": "display_data"
    },
    {
     "name": "stdout",
     "output_type": "stream",
     "text": [
      "Context: restaurant manager organizing reception\n",
      "Request Date: 2025-04-14\n"
     ]
    },
    {
     "data": {
      "text/html": [
       "<pre style=\"white-space:pre;overflow-x:auto;line-height:normal;font-family:Menlo,'DejaVu Sans Mono',consolas,'Courier New',monospace\"><span style=\"color: #00ff00; text-decoration-color: #00ff00; font-weight: bold\">I would like to place a medium order for the following paper supplies for our upcoming reception:</span>\n",
       "\n",
       "<span style=\"color: #00ff00; text-decoration-color: #00ff00; font-weight: bold\">- </span><span style=\"color: #008080; text-decoration-color: #008080; font-weight: bold\">1000</span><span style=\"color: #00ff00; text-decoration-color: #00ff00; font-weight: bold\"> sheets of A4 white printer paper</span>\n",
       "<span style=\"color: #00ff00; text-decoration-color: #00ff00; font-weight: bold\">- </span><span style=\"color: #008080; text-decoration-color: #008080; font-weight: bold\">500</span><span style=\"color: #00ff00; text-decoration-color: #00ff00; font-weight: bold\"> sheets of A3 colored paper (assorted colors)</span>\n",
       "<span style=\"color: #00ff00; text-decoration-color: #00ff00; font-weight: bold\">- </span><span style=\"color: #008080; text-decoration-color: #008080; font-weight: bold\">2000</span><span style=\"color: #00ff00; text-decoration-color: #00ff00; font-weight: bold\"> table napkins (white)</span>\n",
       "<span style=\"color: #00ff00; text-decoration-color: #00ff00; font-weight: bold\">- </span><span style=\"color: #008080; text-decoration-color: #008080; font-weight: bold\">1000</span><span style=\"color: #00ff00; text-decoration-color: #00ff00; font-weight: bold\"> paper cups (biodegradable)</span>\n",
       "<span style=\"color: #00ff00; text-decoration-color: #00ff00; font-weight: bold\">- </span><span style=\"color: #008080; text-decoration-color: #008080; font-weight: bold\">500</span><span style=\"color: #00ff00; text-decoration-color: #00ff00; font-weight: bold\"> paper plates (biodegradable)</span>\n",
       "\n",
       "<span style=\"color: #00ff00; text-decoration-color: #00ff00; font-weight: bold\">I need these supplies delivered by April </span><span style=\"color: #008080; text-decoration-color: #008080; font-weight: bold\">15</span><span style=\"color: #00ff00; text-decoration-color: #00ff00; font-weight: bold\">, </span><span style=\"color: #008080; text-decoration-color: #008080; font-weight: bold\">2025</span><span style=\"color: #00ff00; text-decoration-color: #00ff00; font-weight: bold\">. Thank you. (Date of request: </span><span style=\"color: #008080; text-decoration-color: #008080; font-weight: bold\">2025</span><span style=\"color: #00ff00; text-decoration-color: #00ff00; font-weight: bold\">-</span><span style=\"color: #008080; text-decoration-color: #008080; font-weight: bold\">04</span><span style=\"color: #00ff00; text-decoration-color: #00ff00; font-weight: bold\">-</span><span style=\"color: #008080; text-decoration-color: #008080; font-weight: bold\">14</span><span style=\"color: #00ff00; text-decoration-color: #00ff00; font-weight: bold\">)</span>\n",
       "</pre>\n"
      ],
      "text/plain": [
       "\u001b[1;92mI would like to place a medium order for the following paper supplies for our upcoming reception:\u001b[0m\n",
       "\n",
       "\u001b[1;92m- \u001b[0m\u001b[1;36m1000\u001b[0m\u001b[1;92m sheets of A4 white printer paper\u001b[0m\n",
       "\u001b[1;92m- \u001b[0m\u001b[1;36m500\u001b[0m\u001b[1;92m sheets of A3 colored paper \u001b[0m\u001b[1;92m(\u001b[0m\u001b[1;92massorted colors\u001b[0m\u001b[1;92m)\u001b[0m\n",
       "\u001b[1;92m- \u001b[0m\u001b[1;36m2000\u001b[0m\u001b[1;92m table napkins \u001b[0m\u001b[1;92m(\u001b[0m\u001b[1;92mwhite\u001b[0m\u001b[1;92m)\u001b[0m\n",
       "\u001b[1;92m- \u001b[0m\u001b[1;36m1000\u001b[0m\u001b[1;92m paper cups \u001b[0m\u001b[1;92m(\u001b[0m\u001b[1;92mbiodegradable\u001b[0m\u001b[1;92m)\u001b[0m\n",
       "\u001b[1;92m- \u001b[0m\u001b[1;36m500\u001b[0m\u001b[1;92m paper plates \u001b[0m\u001b[1;92m(\u001b[0m\u001b[1;92mbiodegradable\u001b[0m\u001b[1;92m)\u001b[0m\n",
       "\n",
       "\u001b[1;92mI need these supplies delivered by April \u001b[0m\u001b[1;36m15\u001b[0m\u001b[1;92m, \u001b[0m\u001b[1;36m2025\u001b[0m\u001b[1;92m. Thank you. \u001b[0m\u001b[1;92m(\u001b[0m\u001b[1;92mDate of request: \u001b[0m\u001b[1;36m2025\u001b[0m\u001b[1;92m-\u001b[0m\u001b[1;36m04\u001b[0m\u001b[1;92m-\u001b[0m\u001b[1;36m14\u001b[0m\u001b[1;92m)\u001b[0m\n"
      ]
     },
     "metadata": {},
     "output_type": "display_data"
    },
    {
     "name": "stdout",
     "output_type": "stream",
     "text": [
      "\n"
     ]
    },
    {
     "data": {
      "text/html": [
       "<pre style=\"white-space:pre;overflow-x:auto;line-height:normal;font-family:Menlo,'DejaVu Sans Mono',consolas,'Courier New',monospace\"><span style=\"color: #ff00ff; text-decoration-color: #ff00ff; font-weight: bold\">Number items = </span><span style=\"color: #008080; text-decoration-color: #008080; font-weight: bold\">5</span><span style=\"color: #ff00ff; text-decoration-color: #ff00ff; font-weight: bold\">, </span><span style=\"color: #808000; text-decoration-color: #808000; font-weight: bold\">items</span><span style=\"color: #ff00ff; text-decoration-color: #ff00ff; font-weight: bold\">= [</span><span style=\"color: #008080; text-decoration-color: #008080; font-weight: bold\">1000</span><span style=\"color: #ff00ff; text-decoration-color: #ff00ff; font-weight: bold\">, </span><span style=\"color: #008080; text-decoration-color: #008080; font-weight: bold\">500</span><span style=\"color: #ff00ff; text-decoration-color: #ff00ff; font-weight: bold\">, </span><span style=\"color: #008080; text-decoration-color: #008080; font-weight: bold\">2000</span><span style=\"color: #ff00ff; text-decoration-color: #ff00ff; font-weight: bold\">, </span><span style=\"color: #008080; text-decoration-color: #008080; font-weight: bold\">1000</span><span style=\"color: #ff00ff; text-decoration-color: #ff00ff; font-weight: bold\">, </span><span style=\"color: #008080; text-decoration-color: #008080; font-weight: bold\">500</span><span style=\"color: #ff00ff; text-decoration-color: #ff00ff; font-weight: bold\">]</span>\n",
       "</pre>\n"
      ],
      "text/plain": [
       "\u001b[1;95mNumber items = \u001b[0m\u001b[1;36m5\u001b[0m\u001b[1;95m, \u001b[0m\u001b[1;33mitems\u001b[0m\u001b[1;95m= \u001b[0m\u001b[1;95m[\u001b[0m\u001b[1;36m1000\u001b[0m\u001b[1;95m, \u001b[0m\u001b[1;36m500\u001b[0m\u001b[1;95m, \u001b[0m\u001b[1;36m2000\u001b[0m\u001b[1;95m, \u001b[0m\u001b[1;36m1000\u001b[0m\u001b[1;95m, \u001b[0m\u001b[1;36m500\u001b[0m\u001b[1;95m]\u001b[0m\n"
      ]
     },
     "metadata": {},
     "output_type": "display_data"
    },
    {
     "data": {
      "text/html": [
       "<pre style=\"white-space:pre;overflow-x:auto;line-height:normal;font-family:Menlo,'DejaVu Sans Mono',consolas,'Courier New',monospace\">\n",
       "<span style=\"color: #ffff00; text-decoration-color: #ffff00; font-weight: bold\">=== Request </span><span style=\"color: #008080; text-decoration-color: #008080; font-weight: bold\">18</span><span style=\"color: #ffff00; text-decoration-color: #ffff00; font-weight: bold\"> ===</span>\n",
       "</pre>\n"
      ],
      "text/plain": [
       "\n",
       "\u001b[1;93m=== Request \u001b[0m\u001b[1;36m18\u001b[0m\u001b[1;93m ===\u001b[0m\n"
      ]
     },
     "metadata": {},
     "output_type": "display_data"
    },
    {
     "name": "stdout",
     "output_type": "stream",
     "text": [
      "Context: office manager organizing ceremony\n",
      "Request Date: 2025-04-14\n"
     ]
    },
    {
     "data": {
      "text/html": [
       "<pre style=\"white-space:pre;overflow-x:auto;line-height:normal;font-family:Menlo,'DejaVu Sans Mono',consolas,'Courier New',monospace\"><span style=\"color: #00ff00; text-decoration-color: #00ff00; font-weight: bold\">I would like to place a medium order for the following paper supplies for our upcoming ceremony: </span><span style=\"color: #008080; text-decoration-color: #008080; font-weight: bold\">500</span><span style=\"color: #00ff00; text-decoration-color: #00ff00; font-weight: bold\"> sheets of </span>\n",
       "<span style=\"color: #00ff00; text-decoration-color: #00ff00; font-weight: bold\">high-quality white cardstock, </span><span style=\"color: #008080; text-decoration-color: #008080; font-weight: bold\">1000</span><span style=\"color: #00ff00; text-decoration-color: #00ff00; font-weight: bold\"> sheets of standard printing paper, and </span><span style=\"color: #008080; text-decoration-color: #008080; font-weight: bold\">200</span><span style=\"color: #00ff00; text-decoration-color: #00ff00; font-weight: bold\"> sheets of colored paper in assorted </span>\n",
       "<span style=\"color: #00ff00; text-decoration-color: #00ff00; font-weight: bold\">colors. I need these supplies delivered by April </span><span style=\"color: #008080; text-decoration-color: #008080; font-weight: bold\">15</span><span style=\"color: #00ff00; text-decoration-color: #00ff00; font-weight: bold\">, </span><span style=\"color: #008080; text-decoration-color: #008080; font-weight: bold\">2025</span><span style=\"color: #00ff00; text-decoration-color: #00ff00; font-weight: bold\">. (Date of request: </span><span style=\"color: #008080; text-decoration-color: #008080; font-weight: bold\">2025</span><span style=\"color: #00ff00; text-decoration-color: #00ff00; font-weight: bold\">-</span><span style=\"color: #008080; text-decoration-color: #008080; font-weight: bold\">04</span><span style=\"color: #00ff00; text-decoration-color: #00ff00; font-weight: bold\">-</span><span style=\"color: #008080; text-decoration-color: #008080; font-weight: bold\">14</span><span style=\"color: #00ff00; text-decoration-color: #00ff00; font-weight: bold\">)</span>\n",
       "</pre>\n"
      ],
      "text/plain": [
       "\u001b[1;92mI would like to place a medium order for the following paper supplies for our upcoming ceremony: \u001b[0m\u001b[1;36m500\u001b[0m\u001b[1;92m sheets of \u001b[0m\n",
       "\u001b[1;92mhigh-quality white cardstock, \u001b[0m\u001b[1;36m1000\u001b[0m\u001b[1;92m sheets of standard printing paper, and \u001b[0m\u001b[1;36m200\u001b[0m\u001b[1;92m sheets of colored paper in assorted \u001b[0m\n",
       "\u001b[1;92mcolors. I need these supplies delivered by April \u001b[0m\u001b[1;36m15\u001b[0m\u001b[1;92m, \u001b[0m\u001b[1;36m2025\u001b[0m\u001b[1;92m. \u001b[0m\u001b[1;92m(\u001b[0m\u001b[1;92mDate of request: \u001b[0m\u001b[1;36m2025\u001b[0m\u001b[1;92m-\u001b[0m\u001b[1;36m04\u001b[0m\u001b[1;92m-\u001b[0m\u001b[1;36m14\u001b[0m\u001b[1;92m)\u001b[0m\n"
      ]
     },
     "metadata": {},
     "output_type": "display_data"
    },
    {
     "name": "stdout",
     "output_type": "stream",
     "text": [
      "\n"
     ]
    },
    {
     "data": {
      "text/html": [
       "<pre style=\"white-space:pre;overflow-x:auto;line-height:normal;font-family:Menlo,'DejaVu Sans Mono',consolas,'Courier New',monospace\"><span style=\"color: #ff00ff; text-decoration-color: #ff00ff; font-weight: bold\">Number items = </span><span style=\"color: #008080; text-decoration-color: #008080; font-weight: bold\">3</span><span style=\"color: #ff00ff; text-decoration-color: #ff00ff; font-weight: bold\">, </span><span style=\"color: #808000; text-decoration-color: #808000; font-weight: bold\">items</span><span style=\"color: #ff00ff; text-decoration-color: #ff00ff; font-weight: bold\">= [</span><span style=\"color: #008080; text-decoration-color: #008080; font-weight: bold\">500</span><span style=\"color: #ff00ff; text-decoration-color: #ff00ff; font-weight: bold\">, </span><span style=\"color: #008080; text-decoration-color: #008080; font-weight: bold\">1000</span><span style=\"color: #ff00ff; text-decoration-color: #ff00ff; font-weight: bold\">, </span><span style=\"color: #008080; text-decoration-color: #008080; font-weight: bold\">200</span><span style=\"color: #ff00ff; text-decoration-color: #ff00ff; font-weight: bold\">]</span>\n",
       "</pre>\n"
      ],
      "text/plain": [
       "\u001b[1;95mNumber items = \u001b[0m\u001b[1;36m3\u001b[0m\u001b[1;95m, \u001b[0m\u001b[1;33mitems\u001b[0m\u001b[1;95m= \u001b[0m\u001b[1;95m[\u001b[0m\u001b[1;36m500\u001b[0m\u001b[1;95m, \u001b[0m\u001b[1;36m1000\u001b[0m\u001b[1;95m, \u001b[0m\u001b[1;36m200\u001b[0m\u001b[1;95m]\u001b[0m\n"
      ]
     },
     "metadata": {},
     "output_type": "display_data"
    },
    {
     "data": {
      "text/html": [
       "<pre style=\"white-space:pre;overflow-x:auto;line-height:normal;font-family:Menlo,'DejaVu Sans Mono',consolas,'Courier New',monospace\">\n",
       "<span style=\"color: #ffff00; text-decoration-color: #ffff00; font-weight: bold\">=== Request </span><span style=\"color: #008080; text-decoration-color: #008080; font-weight: bold\">19</span><span style=\"color: #ffff00; text-decoration-color: #ffff00; font-weight: bold\"> ===</span>\n",
       "</pre>\n"
      ],
      "text/plain": [
       "\n",
       "\u001b[1;93m=== Request \u001b[0m\u001b[1;36m19\u001b[0m\u001b[1;93m ===\u001b[0m\n"
      ]
     },
     "metadata": {},
     "output_type": "display_data"
    },
    {
     "name": "stdout",
     "output_type": "stream",
     "text": [
      "Context: city hall clerk organizing exhibition\n",
      "Request Date: 2025-04-15\n"
     ]
    },
    {
     "data": {
      "text/html": [
       "<pre style=\"white-space:pre;overflow-x:auto;line-height:normal;font-family:Menlo,'DejaVu Sans Mono',consolas,'Courier New',monospace\"><span style=\"color: #00ff00; text-decoration-color: #00ff00; font-weight: bold\">Dear [Manufacturer's Name],</span>\n",
       "\n",
       "<span style=\"color: #00ff00; text-decoration-color: #00ff00; font-weight: bold\">I would like to place an order for the following paper supplies for our upcoming exhibition:</span>\n",
       "\n",
       "<span style=\"color: #00ff00; text-decoration-color: #00ff00; font-weight: bold\">- </span><span style=\"color: #008080; text-decoration-color: #008080; font-weight: bold\">2000</span><span style=\"color: #00ff00; text-decoration-color: #00ff00; font-weight: bold\"> sheets of A4 glossy paper</span>\n",
       "<span style=\"color: #00ff00; text-decoration-color: #00ff00; font-weight: bold\">- </span><span style=\"color: #008080; text-decoration-color: #008080; font-weight: bold\">1500</span><span style=\"color: #00ff00; text-decoration-color: #00ff00; font-weight: bold\"> sheets of A3 matte paper</span>\n",
       "<span style=\"color: #00ff00; text-decoration-color: #00ff00; font-weight: bold\">- </span><span style=\"color: #008080; text-decoration-color: #008080; font-weight: bold\">1000</span><span style=\"color: #00ff00; text-decoration-color: #00ff00; font-weight: bold\"> sheets of cardstock in assorted colors</span>\n",
       "\n",
       "<span style=\"color: #00ff00; text-decoration-color: #00ff00; font-weight: bold\">We need the supplies delivered by April </span><span style=\"color: #008080; text-decoration-color: #008080; font-weight: bold\">20</span><span style=\"color: #00ff00; text-decoration-color: #00ff00; font-weight: bold\">, </span><span style=\"color: #008080; text-decoration-color: #008080; font-weight: bold\">2025</span><span style=\"color: #00ff00; text-decoration-color: #00ff00; font-weight: bold\">.</span>\n",
       "\n",
       "<span style=\"color: #00ff00; text-decoration-color: #00ff00; font-weight: bold\">Thank you! (Date of request: </span><span style=\"color: #008080; text-decoration-color: #008080; font-weight: bold\">2025</span><span style=\"color: #00ff00; text-decoration-color: #00ff00; font-weight: bold\">-</span><span style=\"color: #008080; text-decoration-color: #008080; font-weight: bold\">04</span><span style=\"color: #00ff00; text-decoration-color: #00ff00; font-weight: bold\">-</span><span style=\"color: #008080; text-decoration-color: #008080; font-weight: bold\">15</span><span style=\"color: #00ff00; text-decoration-color: #00ff00; font-weight: bold\">)</span>\n",
       "</pre>\n"
      ],
      "text/plain": [
       "\u001b[1;92mDear \u001b[0m\u001b[1;92m[\u001b[0m\u001b[1;92mManufacturer's Name\u001b[0m\u001b[1;92m]\u001b[0m\u001b[1;92m,\u001b[0m\n",
       "\n",
       "\u001b[1;92mI would like to place an order for the following paper supplies for our upcoming exhibition:\u001b[0m\n",
       "\n",
       "\u001b[1;92m- \u001b[0m\u001b[1;36m2000\u001b[0m\u001b[1;92m sheets of A4 glossy paper\u001b[0m\n",
       "\u001b[1;92m- \u001b[0m\u001b[1;36m1500\u001b[0m\u001b[1;92m sheets of A3 matte paper\u001b[0m\n",
       "\u001b[1;92m- \u001b[0m\u001b[1;36m1000\u001b[0m\u001b[1;92m sheets of cardstock in assorted colors\u001b[0m\n",
       "\n",
       "\u001b[1;92mWe need the supplies delivered by April \u001b[0m\u001b[1;36m20\u001b[0m\u001b[1;92m, \u001b[0m\u001b[1;36m2025\u001b[0m\u001b[1;92m.\u001b[0m\n",
       "\n",
       "\u001b[1;92mThank you! \u001b[0m\u001b[1;92m(\u001b[0m\u001b[1;92mDate of request: \u001b[0m\u001b[1;36m2025\u001b[0m\u001b[1;92m-\u001b[0m\u001b[1;36m04\u001b[0m\u001b[1;92m-\u001b[0m\u001b[1;36m15\u001b[0m\u001b[1;92m)\u001b[0m\n"
      ]
     },
     "metadata": {},
     "output_type": "display_data"
    },
    {
     "name": "stdout",
     "output_type": "stream",
     "text": [
      "\n"
     ]
    },
    {
     "data": {
      "text/html": [
       "<pre style=\"white-space:pre;overflow-x:auto;line-height:normal;font-family:Menlo,'DejaVu Sans Mono',consolas,'Courier New',monospace\"><span style=\"color: #ff00ff; text-decoration-color: #ff00ff; font-weight: bold\">Number items = </span><span style=\"color: #008080; text-decoration-color: #008080; font-weight: bold\">3</span><span style=\"color: #ff00ff; text-decoration-color: #ff00ff; font-weight: bold\">, </span><span style=\"color: #808000; text-decoration-color: #808000; font-weight: bold\">items</span><span style=\"color: #ff00ff; text-decoration-color: #ff00ff; font-weight: bold\">= [</span><span style=\"color: #008080; text-decoration-color: #008080; font-weight: bold\">2000</span><span style=\"color: #ff00ff; text-decoration-color: #ff00ff; font-weight: bold\">, </span><span style=\"color: #008080; text-decoration-color: #008080; font-weight: bold\">1500</span><span style=\"color: #ff00ff; text-decoration-color: #ff00ff; font-weight: bold\">, </span><span style=\"color: #008080; text-decoration-color: #008080; font-weight: bold\">1000</span><span style=\"color: #ff00ff; text-decoration-color: #ff00ff; font-weight: bold\">]</span>\n",
       "</pre>\n"
      ],
      "text/plain": [
       "\u001b[1;95mNumber items = \u001b[0m\u001b[1;36m3\u001b[0m\u001b[1;95m, \u001b[0m\u001b[1;33mitems\u001b[0m\u001b[1;95m= \u001b[0m\u001b[1;95m[\u001b[0m\u001b[1;36m2000\u001b[0m\u001b[1;95m, \u001b[0m\u001b[1;36m1500\u001b[0m\u001b[1;95m, \u001b[0m\u001b[1;36m1000\u001b[0m\u001b[1;95m]\u001b[0m\n"
      ]
     },
     "metadata": {},
     "output_type": "display_data"
    },
    {
     "data": {
      "text/html": [
       "<pre style=\"white-space:pre;overflow-x:auto;line-height:normal;font-family:Menlo,'DejaVu Sans Mono',consolas,'Courier New',monospace\">\n",
       "<span style=\"color: #ffff00; text-decoration-color: #ffff00; font-weight: bold\">=== Request </span><span style=\"color: #008080; text-decoration-color: #008080; font-weight: bold\">20</span><span style=\"color: #ffff00; text-decoration-color: #ffff00; font-weight: bold\"> ===</span>\n",
       "</pre>\n"
      ],
      "text/plain": [
       "\n",
       "\u001b[1;93m=== Request \u001b[0m\u001b[1;36m20\u001b[0m\u001b[1;93m ===\u001b[0m\n"
      ]
     },
     "metadata": {},
     "output_type": "display_data"
    },
    {
     "name": "stdout",
     "output_type": "stream",
     "text": [
      "Context: restaurant manager organizing concert\n",
      "Request Date: 2025-04-17\n"
     ]
    },
    {
     "data": {
      "text/html": [
       "<pre style=\"white-space:pre;overflow-x:auto;line-height:normal;font-family:Menlo,'DejaVu Sans Mono',consolas,'Courier New',monospace\"><span style=\"color: #00ff00; text-decoration-color: #00ff00; font-weight: bold\">I would like to place a large order for the following paper supplies for our upcoming concert: </span><span style=\"color: #008080; text-decoration-color: #008080; font-weight: bold\">5</span><span style=\"color: #00ff00; text-decoration-color: #00ff00; font-weight: bold\">,</span><span style=\"color: #008080; text-decoration-color: #008080; font-weight: bold\">000</span><span style=\"color: #00ff00; text-decoration-color: #00ff00; font-weight: bold\"> flyers, </span><span style=\"color: #008080; text-decoration-color: #008080; font-weight: bold\">2</span><span style=\"color: #00ff00; text-decoration-color: #00ff00; font-weight: bold\">,</span><span style=\"color: #008080; text-decoration-color: #008080; font-weight: bold\">000</span><span style=\"color: #00ff00; text-decoration-color: #00ff00; font-weight: bold\"> </span>\n",
       "<span style=\"color: #00ff00; text-decoration-color: #00ff00; font-weight: bold\">posters, and </span><span style=\"color: #008080; text-decoration-color: #008080; font-weight: bold\">10</span><span style=\"color: #00ff00; text-decoration-color: #00ff00; font-weight: bold\">,</span><span style=\"color: #008080; text-decoration-color: #008080; font-weight: bold\">000</span><span style=\"color: #00ff00; text-decoration-color: #00ff00; font-weight: bold\"> tickets. We need these items delivered by May </span><span style=\"color: #008080; text-decoration-color: #008080; font-weight: bold\">15</span><span style=\"color: #00ff00; text-decoration-color: #00ff00; font-weight: bold\">, </span><span style=\"color: #008080; text-decoration-color: #008080; font-weight: bold\">2025</span><span style=\"color: #00ff00; text-decoration-color: #00ff00; font-weight: bold\">, to ensure adequate time for </span>\n",
       "<span style=\"color: #00ff00; text-decoration-color: #00ff00; font-weight: bold\">distribution and promotion. Thank you! (Date of request: </span><span style=\"color: #008080; text-decoration-color: #008080; font-weight: bold\">2025</span><span style=\"color: #00ff00; text-decoration-color: #00ff00; font-weight: bold\">-</span><span style=\"color: #008080; text-decoration-color: #008080; font-weight: bold\">04</span><span style=\"color: #00ff00; text-decoration-color: #00ff00; font-weight: bold\">-</span><span style=\"color: #008080; text-decoration-color: #008080; font-weight: bold\">17</span><span style=\"color: #00ff00; text-decoration-color: #00ff00; font-weight: bold\">)</span>\n",
       "</pre>\n"
      ],
      "text/plain": [
       "\u001b[1;92mI would like to place a large order for the following paper supplies for our upcoming concert: \u001b[0m\u001b[1;36m5\u001b[0m\u001b[1;92m,\u001b[0m\u001b[1;36m000\u001b[0m\u001b[1;92m flyers, \u001b[0m\u001b[1;36m2\u001b[0m\u001b[1;92m,\u001b[0m\u001b[1;36m000\u001b[0m\u001b[1;92m \u001b[0m\n",
       "\u001b[1;92mposters, and \u001b[0m\u001b[1;36m10\u001b[0m\u001b[1;92m,\u001b[0m\u001b[1;36m000\u001b[0m\u001b[1;92m tickets. We need these items delivered by May \u001b[0m\u001b[1;36m15\u001b[0m\u001b[1;92m, \u001b[0m\u001b[1;36m2025\u001b[0m\u001b[1;92m, to ensure adequate time for \u001b[0m\n",
       "\u001b[1;92mdistribution and promotion. Thank you! \u001b[0m\u001b[1;92m(\u001b[0m\u001b[1;92mDate of request: \u001b[0m\u001b[1;36m2025\u001b[0m\u001b[1;92m-\u001b[0m\u001b[1;36m04\u001b[0m\u001b[1;92m-\u001b[0m\u001b[1;36m17\u001b[0m\u001b[1;92m)\u001b[0m\n"
      ]
     },
     "metadata": {},
     "output_type": "display_data"
    },
    {
     "name": "stdout",
     "output_type": "stream",
     "text": [
      "\n"
     ]
    },
    {
     "data": {
      "text/html": [
       "<pre style=\"white-space:pre;overflow-x:auto;line-height:normal;font-family:Menlo,'DejaVu Sans Mono',consolas,'Courier New',monospace\"><span style=\"color: #ff00ff; text-decoration-color: #ff00ff; font-weight: bold\">Number items = </span><span style=\"color: #008080; text-decoration-color: #008080; font-weight: bold\">3</span><span style=\"color: #ff00ff; text-decoration-color: #ff00ff; font-weight: bold\">, </span><span style=\"color: #808000; text-decoration-color: #808000; font-weight: bold\">items</span><span style=\"color: #ff00ff; text-decoration-color: #ff00ff; font-weight: bold\">= [</span><span style=\"color: #008080; text-decoration-color: #008080; font-weight: bold\">5000</span><span style=\"color: #ff00ff; text-decoration-color: #ff00ff; font-weight: bold\">, </span><span style=\"color: #008080; text-decoration-color: #008080; font-weight: bold\">2000</span><span style=\"color: #ff00ff; text-decoration-color: #ff00ff; font-weight: bold\">, </span><span style=\"color: #008080; text-decoration-color: #008080; font-weight: bold\">10000</span><span style=\"color: #ff00ff; text-decoration-color: #ff00ff; font-weight: bold\">]</span>\n",
       "</pre>\n"
      ],
      "text/plain": [
       "\u001b[1;95mNumber items = \u001b[0m\u001b[1;36m3\u001b[0m\u001b[1;95m, \u001b[0m\u001b[1;33mitems\u001b[0m\u001b[1;95m= \u001b[0m\u001b[1;95m[\u001b[0m\u001b[1;36m5000\u001b[0m\u001b[1;95m, \u001b[0m\u001b[1;36m2000\u001b[0m\u001b[1;95m, \u001b[0m\u001b[1;36m10000\u001b[0m\u001b[1;95m]\u001b[0m\n"
      ]
     },
     "metadata": {},
     "output_type": "display_data"
    }
   ],
   "source": [
    "quote_requests_sample = pd.read_csv(\"quote_requests_sample.csv\")\n",
    "\n",
    "# Sort by date\n",
    "quote_requests_sample[\"request_date\"] = pd.to_datetime(\n",
    "    quote_requests_sample[\"request_date\"], format=\"%m/%d/%y\", errors=\"coerce\"\n",
    ")\n",
    "quote_requests_sample = quote_requests_sample.sort_values(\"request_date\")\n",
    "\n",
    "for idx, row in quote_requests_sample.iterrows():\n",
    "        request_date:str = row[\"request_date\"].strftime(\"%Y-%m-%d\")  # request_date of type str\n",
    "\n",
    "        print_rich(f\"\\n=== Request {idx+1} ===\")\n",
    "        print(f\"Context: {row['job']} organizing {row['event']}\")\n",
    "        print(f\"Request Date: {request_date}\")\n",
    "        # Process request\n",
    "        request_with_date = f\"{row['request']} (Date of request: {request_date})\"\n",
    "        ############ CONTROL ################\n",
    "        print_rich(request_with_date, color='bright_green')\n",
    "        #####################################\n",
    "        print()\n",
    "        count, items = count_order_quantities(request_with_date)\n",
    "        print_rich(f\"Number items = {count}, items= {items}\", color='bright_magenta')"
   ]
  },
  {
   "cell_type": "code",
   "execution_count": null,
   "metadata": {},
   "outputs": [],
   "source": [
    "count = 3\n",
    "error_list =[]\n",
    "for item in bill_of_materials:\n",
    "    if item['item'] not in state.available_items:\n",
    "        error_list.append(item['item'])\n",
    "check1 = len(error_list) > 0\n",
    "check2 = len(bill_of_materials) > count"
   ]
  },
  {
   "cell_type": "code",
   "execution_count": 24,
   "metadata": {},
   "outputs": [
    {
     "name": "stdout",
     "output_type": "stream",
     "text": [
      "Number of material references: 2\n",
      "Extracted quantities: [500, 300]\n"
     ]
    }
   ],
   "source": [
    "order_text = \"\"\"[\n",
    "    {\n",
    "      \"item\": \"Colored paper\",\n",
    "      \"quantity\": 500\n",
    "    },\n",
    "    {\n",
    "      \"item\": \"Crepe paper\",\n",
    "      \"quantity\": 300\n",
    "    }\n",
    "]\"\"\"\n",
    "\n",
    "\n",
    "count, items = count_order_quantities(order_text)\n",
    "print(\"Number of material references:\", count)   # -> 3\n",
    "print(\"Extracted quantities:\", items)   "
   ]
  },
  {
   "cell_type": "code",
   "execution_count": 6,
   "metadata": {},
   "outputs": [],
   "source": [
    "def extract_request_date(text: str) -> str:\n",
    "    \"\"\"\n",
    "    Extracts the 'Date of request' from an order string.\n",
    "    Returns a datetime.date if found, else None.\n",
    "\n",
    "    Args:\n",
    "        text: customer order with section 'Date of request: date to extract in the format \"%Y-%m-%d\"'\n",
    "\n",
    "    Returns\n",
    "        extracted date (str) or None\n",
    "    \"\"\"\n",
    "    match = re.search(r'Date of request:\\s*([0-9]{4}[-/][0-9]{2}[-/][0-9]{2})', text)\n",
    "    if match:\n",
    "        try:\n",
    "            return match.group(1)\n",
    "        except ValueError:\n",
    "            return None\n",
    "    return None"
   ]
  },
  {
   "cell_type": "code",
   "execution_count": 7,
   "metadata": {},
   "outputs": [
    {
     "data": {
      "text/plain": [
       "'2025-04-17'"
      ]
     },
     "execution_count": 7,
     "metadata": {},
     "output_type": "execute_result"
    }
   ],
   "source": [
    "text = \"\"\"I would like to place a large order for the following paper supplies for our upcoming concert: 5,000 flyers, 2,000 \n",
    "posters, and 10,000 tickets. We need these items delivered by May 15, 2025, to ensure adequate time for \n",
    "distribution and promotion. Thank you! (Date of request: 2025-04-17)\"\"\"\n",
    "\n",
    "extract_request_date(text)"
   ]
  },
  {
   "cell_type": "code",
   "execution_count": null,
   "metadata": {},
   "outputs": [],
   "source": []
  }
 ],
 "metadata": {
  "kernelspec": {
   "display_name": ".venv",
   "language": "python",
   "name": "python3"
  },
  "language_info": {
   "codemirror_mode": {
    "name": "ipython",
    "version": 3
   },
   "file_extension": ".py",
   "mimetype": "text/x-python",
   "name": "python",
   "nbconvert_exporter": "python",
   "pygments_lexer": "ipython3",
   "version": "3.10.13 (main, Mar 12 2024, 12:33:06) [GCC 10.2.1 20210110]"
  },
  "orig_nbformat": 4,
  "vscode": {
   "interpreter": {
    "hash": "a1ecf53cd1f350ee1bbe8e0c6facc81c1b589cd4c77bc797451555cd8fcc12ad"
   }
  }
 },
 "nbformat": 4,
 "nbformat_minor": 2
}
